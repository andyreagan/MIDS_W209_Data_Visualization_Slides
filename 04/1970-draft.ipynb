{
 "cells": [
  {
   "cell_type": "markdown",
   "metadata": {},
   "source": [
    "was the 1970 draft randomized properly?\n",
    "---------------------------------------\n",
    "\n",
    "see [here](http://science.sciencemag.org/content/sci/171/3968/255.full.pdf) for an in-depth explanation\n",
    "\n",
    "grabbed a data table from the [draft service](https://web.archive.org/web/20120915232321/http://www.sss.gov/LOTTER8.HTM) directly\n",
    "\n",
    "let's take a look for ourselves\n",
    "\n",
    "also [this](http://pharma-bi.com/2009/10/expanding-our-visual-vocabulary/)"
   ]
  },
  {
   "cell_type": "code",
   "execution_count": 1,
   "metadata": {
    "collapsed": true
   },
   "outputs": [],
   "source": [
    "import re"
   ]
  },
  {
   "cell_type": "code",
   "execution_count": 2,
   "metadata": {
    "collapsed": false
   },
   "outputs": [
    {
     "data": {
      "text/plain": [
       "['Jan']"
      ]
     },
     "execution_count": 2,
     "metadata": {},
     "output_type": "execute_result"
    }
   ],
   "source": [
    "re.findall(r\">([0-9\\;\\-A-Za-z]+)<\",\"<th bgcolor=\\\"#C0C0C0\\\"><font size=\\\"2\\\" face=\\\"Arial, Helvetica, sans-serif\\\">Jan</font></th>\")"
   ]
  },
  {
   "cell_type": "code",
   "execution_count": 3,
   "metadata": {
    "collapsed": false
   },
   "outputs": [],
   "source": [
    "f = open(\"data.html\",\"r\")\n",
    "data = []\n",
    "for line in f:\n",
    "    # print(line)\n",
    "    m = re.findall(r\">([0-9\\;\\&\\-A-Za-z]+?)<\",line)\n",
    "    if m:\n",
    "        # print(m[-1])\n",
    "        data.append(m[-1])\n",
    "f.close()"
   ]
  },
  {
   "cell_type": "code",
   "execution_count": 4,
   "metadata": {
    "collapsed": false
   },
   "outputs": [
    {
     "data": {
      "text/plain": [
       "416"
      ]
     },
     "execution_count": 4,
     "metadata": {},
     "output_type": "execute_result"
    }
   ],
   "source": [
    "len(data)"
   ]
  },
  {
   "cell_type": "code",
   "execution_count": 5,
   "metadata": {
    "collapsed": false
   },
   "outputs": [
    {
     "data": {
      "text/plain": [
       "416"
      ]
     },
     "execution_count": 5,
     "metadata": {},
     "output_type": "execute_result"
    }
   ],
   "source": [
    "32*13"
   ]
  },
  {
   "cell_type": "code",
   "execution_count": 6,
   "metadata": {
    "collapsed": false
   },
   "outputs": [],
   "source": [
    "days_of_month = [data[(i*13):((i+1)*13)] for i in range(32)]"
   ]
  },
  {
   "cell_type": "code",
   "execution_count": 7,
   "metadata": {
    "collapsed": false
   },
   "outputs": [
    {
     "data": {
      "text/plain": [
       "['&nbsp;',\n",
       " 'Jan',\n",
       " 'Feb',\n",
       " 'Mar',\n",
       " 'Apr',\n",
       " 'May',\n",
       " 'Jun',\n",
       " 'Jul',\n",
       " 'Aug',\n",
       " 'Sep',\n",
       " 'Oct',\n",
       " 'Nov',\n",
       " 'Dec']"
      ]
     },
     "execution_count": 7,
     "metadata": {},
     "output_type": "execute_result"
    }
   ],
   "source": [
    "days_of_month[0]"
   ]
  },
  {
   "cell_type": "code",
   "execution_count": 8,
   "metadata": {
    "collapsed": false
   },
   "outputs": [
    {
     "data": {
      "text/plain": [
       "13"
      ]
     },
     "execution_count": 8,
     "metadata": {},
     "output_type": "execute_result"
    }
   ],
   "source": [
    "len(days_of_month[0])"
   ]
  },
  {
   "cell_type": "code",
   "execution_count": 9,
   "metadata": {
    "collapsed": false
   },
   "outputs": [
    {
     "data": {
      "text/plain": [
       "['31',\n",
       " '211',\n",
       " '&nbsp;----',\n",
       " '030',\n",
       " '----',\n",
       " '313',\n",
       " '----',\n",
       " '193',\n",
       " '011',\n",
       " '&nbsp;----',\n",
       " '079',\n",
       " '&nbsp;----',\n",
       " '100']"
      ]
     },
     "execution_count": 9,
     "metadata": {},
     "output_type": "execute_result"
    }
   ],
   "source": [
    "days_of_month[-1]"
   ]
  },
  {
   "cell_type": "code",
   "execution_count": 10,
   "metadata": {
    "collapsed": true
   },
   "outputs": [],
   "source": [
    "import datetime"
   ]
  },
  {
   "cell_type": "code",
   "execution_count": 11,
   "metadata": {
    "collapsed": true
   },
   "outputs": [],
   "source": [
    "day = datetime.date(1970,1,1)\n",
    "dates = []\n",
    "formatted_data = []\n",
    "while day < datetime.date(1971,1,1):\n",
    "    dates.append(day.timetuple().tm_yday)\n",
    "    formatted_data.append(int(days_of_month[day.day][day.month]))\n",
    "    day+=datetime.timedelta(days=1)"
   ]
  },
  {
   "cell_type": "code",
   "execution_count": 12,
   "metadata": {
    "collapsed": false
   },
   "outputs": [
    {
     "name": "stdout",
     "output_type": "stream",
     "text": [
      "(1, 305)\n",
      "(2, 159)\n",
      "(3, 251)\n",
      "(4, 215)\n",
      "(5, 101)\n",
      "(6, 224)\n",
      "(7, 306)\n",
      "(8, 199)\n",
      "(9, 194)\n",
      "(10, 325)\n",
      "(11, 329)\n",
      "(12, 221)\n",
      "(13, 318)\n",
      "(14, 238)\n",
      "(15, 17)\n",
      "(16, 121)\n",
      "(17, 235)\n",
      "(18, 140)\n",
      "(19, 58)\n",
      "(20, 280)\n",
      "(21, 186)\n",
      "(22, 337)\n",
      "(23, 118)\n",
      "(24, 59)\n",
      "(25, 52)\n",
      "(26, 92)\n",
      "(27, 355)\n",
      "(28, 77)\n",
      "(29, 349)\n",
      "(30, 164)\n",
      "(31, 211)\n",
      "(32, 86)\n",
      "(33, 144)\n",
      "(34, 297)\n",
      "(35, 210)\n",
      "(36, 214)\n",
      "(37, 347)\n",
      "(38, 91)\n",
      "(39, 181)\n",
      "(40, 338)\n",
      "(41, 216)\n",
      "(42, 150)\n",
      "(43, 68)\n",
      "(44, 152)\n",
      "(45, 4)\n",
      "(46, 89)\n",
      "(47, 212)\n",
      "(48, 189)\n",
      "(49, 292)\n",
      "(50, 25)\n",
      "(51, 302)\n",
      "(52, 363)\n",
      "(53, 290)\n",
      "(54, 57)\n",
      "(55, 236)\n",
      "(56, 179)\n",
      "(57, 365)\n",
      "(58, 205)\n",
      "(59, 299)\n",
      "(60, 108)\n",
      "(61, 29)\n",
      "(62, 267)\n",
      "(63, 275)\n",
      "(64, 293)\n",
      "(65, 139)\n",
      "(66, 122)\n",
      "(67, 213)\n",
      "(68, 317)\n",
      "(69, 323)\n",
      "(70, 136)\n",
      "(71, 300)\n",
      "(72, 259)\n",
      "(73, 354)\n",
      "(74, 169)\n",
      "(75, 166)\n",
      "(76, 33)\n",
      "(77, 332)\n",
      "(78, 200)\n",
      "(79, 239)\n",
      "(80, 334)\n",
      "(81, 265)\n",
      "(82, 256)\n",
      "(83, 258)\n",
      "(84, 343)\n",
      "(85, 170)\n",
      "(86, 268)\n",
      "(87, 223)\n",
      "(88, 362)\n",
      "(89, 217)\n",
      "(90, 30)\n",
      "(91, 32)\n",
      "(92, 271)\n",
      "(93, 83)\n",
      "(94, 81)\n",
      "(95, 269)\n",
      "(96, 253)\n",
      "(97, 147)\n",
      "(98, 312)\n",
      "(99, 219)\n",
      "(100, 218)\n",
      "(101, 14)\n",
      "(102, 346)\n",
      "(103, 124)\n",
      "(104, 231)\n",
      "(105, 273)\n",
      "(106, 148)\n",
      "(107, 260)\n",
      "(108, 90)\n",
      "(109, 336)\n",
      "(110, 345)\n",
      "(111, 62)\n",
      "(112, 316)\n",
      "(113, 252)\n",
      "(114, 2)\n",
      "(115, 351)\n",
      "(116, 340)\n",
      "(117, 74)\n",
      "(118, 262)\n",
      "(119, 191)\n",
      "(120, 208)\n",
      "(121, 330)\n",
      "(122, 298)\n",
      "(123, 40)\n",
      "(124, 276)\n",
      "(125, 364)\n",
      "(126, 155)\n",
      "(127, 35)\n",
      "(128, 321)\n",
      "(129, 197)\n",
      "(130, 65)\n",
      "(131, 37)\n",
      "(132, 133)\n",
      "(133, 295)\n",
      "(134, 178)\n",
      "(135, 130)\n",
      "(136, 55)\n",
      "(137, 112)\n",
      "(138, 278)\n",
      "(139, 75)\n",
      "(140, 183)\n",
      "(141, 250)\n",
      "(142, 326)\n",
      "(143, 319)\n",
      "(144, 31)\n",
      "(145, 361)\n",
      "(146, 357)\n",
      "(147, 296)\n",
      "(148, 308)\n",
      "(149, 226)\n",
      "(150, 103)\n",
      "(151, 313)\n",
      "(152, 249)\n",
      "(153, 228)\n",
      "(154, 301)\n",
      "(155, 20)\n",
      "(156, 28)\n",
      "(157, 110)\n",
      "(158, 85)\n",
      "(159, 366)\n",
      "(160, 335)\n",
      "(161, 206)\n",
      "(162, 134)\n",
      "(163, 272)\n",
      "(164, 69)\n",
      "(165, 356)\n",
      "(166, 180)\n",
      "(167, 274)\n",
      "(168, 73)\n",
      "(169, 341)\n",
      "(170, 104)\n",
      "(171, 360)\n",
      "(172, 60)\n",
      "(173, 247)\n",
      "(174, 109)\n",
      "(175, 358)\n",
      "(176, 137)\n",
      "(177, 22)\n",
      "(178, 64)\n",
      "(179, 222)\n",
      "(180, 353)\n",
      "(181, 209)\n",
      "(182, 93)\n",
      "(183, 350)\n",
      "(184, 115)\n",
      "(185, 279)\n",
      "(186, 188)\n",
      "(187, 327)\n",
      "(188, 50)\n",
      "(189, 13)\n",
      "(190, 277)\n",
      "(191, 284)\n",
      "(192, 248)\n",
      "(193, 15)\n",
      "(194, 42)\n",
      "(195, 331)\n",
      "(196, 322)\n",
      "(197, 120)\n",
      "(198, 98)\n",
      "(199, 190)\n",
      "(200, 227)\n",
      "(201, 187)\n",
      "(202, 27)\n",
      "(203, 153)\n",
      "(204, 172)\n",
      "(205, 23)\n",
      "(206, 67)\n",
      "(207, 303)\n",
      "(208, 289)\n",
      "(209, 88)\n",
      "(210, 270)\n",
      "(211, 287)\n",
      "(212, 193)\n",
      "(213, 111)\n",
      "(214, 45)\n",
      "(215, 261)\n",
      "(216, 145)\n",
      "(217, 54)\n",
      "(218, 114)\n",
      "(219, 168)\n",
      "(220, 48)\n",
      "(221, 106)\n",
      "(222, 21)\n",
      "(223, 324)\n",
      "(224, 142)\n",
      "(225, 307)\n",
      "(226, 198)\n",
      "(227, 102)\n",
      "(228, 44)\n",
      "(229, 154)\n",
      "(230, 141)\n",
      "(231, 311)\n",
      "(232, 344)\n",
      "(233, 291)\n",
      "(234, 339)\n",
      "(235, 116)\n",
      "(236, 36)\n",
      "(237, 286)\n",
      "(238, 245)\n",
      "(239, 352)\n",
      "(240, 167)\n",
      "(241, 61)\n",
      "(242, 333)\n",
      "(243, 11)\n",
      "(244, 225)\n",
      "(245, 161)\n",
      "(246, 49)\n",
      "(247, 232)\n",
      "(248, 82)\n",
      "(249, 6)\n",
      "(250, 8)\n",
      "(251, 184)\n",
      "(252, 263)\n",
      "(253, 71)\n",
      "(254, 158)\n",
      "(255, 242)\n",
      "(256, 175)\n",
      "(257, 1)\n",
      "(258, 113)\n",
      "(259, 207)\n",
      "(260, 255)\n",
      "(261, 246)\n",
      "(262, 177)\n",
      "(263, 63)\n",
      "(264, 204)\n",
      "(265, 160)\n",
      "(266, 119)\n",
      "(267, 195)\n",
      "(268, 149)\n",
      "(269, 18)\n",
      "(270, 233)\n",
      "(271, 257)\n",
      "(272, 151)\n",
      "(273, 315)\n",
      "(274, 359)\n",
      "(275, 125)\n",
      "(276, 244)\n",
      "(277, 202)\n",
      "(278, 24)\n",
      "(279, 87)\n",
      "(280, 234)\n",
      "(281, 283)\n",
      "(282, 342)\n",
      "(283, 220)\n",
      "(284, 237)\n",
      "(285, 72)\n",
      "(286, 138)\n",
      "(287, 294)\n",
      "(288, 171)\n",
      "(289, 254)\n",
      "(290, 288)\n",
      "(291, 5)\n",
      "(292, 241)\n",
      "(293, 192)\n",
      "(294, 243)\n",
      "(295, 117)\n",
      "(296, 201)\n",
      "(297, 196)\n",
      "(298, 176)\n",
      "(299, 7)\n",
      "(300, 264)\n",
      "(301, 94)\n",
      "(302, 229)\n",
      "(303, 38)\n",
      "(304, 79)\n",
      "(305, 19)\n",
      "(306, 34)\n",
      "(307, 348)\n",
      "(308, 266)\n",
      "(309, 310)\n",
      "(310, 76)\n",
      "(311, 51)\n",
      "(312, 97)\n",
      "(313, 80)\n",
      "(314, 282)\n",
      "(315, 46)\n",
      "(316, 66)\n",
      "(317, 126)\n",
      "(318, 127)\n",
      "(319, 131)\n",
      "(320, 107)\n",
      "(321, 143)\n",
      "(322, 146)\n",
      "(323, 203)\n",
      "(324, 185)\n",
      "(325, 156)\n",
      "(326, 9)\n",
      "(327, 182)\n",
      "(328, 230)\n",
      "(329, 132)\n",
      "(330, 309)\n",
      "(331, 47)\n",
      "(332, 281)\n",
      "(333, 99)\n",
      "(334, 174)\n",
      "(335, 129)\n",
      "(336, 328)\n",
      "(337, 157)\n",
      "(338, 165)\n",
      "(339, 56)\n",
      "(340, 10)\n",
      "(341, 12)\n",
      "(342, 105)\n",
      "(343, 43)\n",
      "(344, 41)\n",
      "(345, 39)\n",
      "(346, 314)\n",
      "(347, 163)\n",
      "(348, 26)\n",
      "(349, 320)\n",
      "(350, 96)\n",
      "(351, 304)\n",
      "(352, 128)\n",
      "(353, 240)\n",
      "(354, 135)\n",
      "(355, 70)\n",
      "(356, 53)\n",
      "(357, 162)\n",
      "(358, 95)\n",
      "(359, 84)\n",
      "(360, 173)\n",
      "(361, 78)\n",
      "(362, 123)\n",
      "(363, 16)\n",
      "(364, 3)\n",
      "(365, 100)\n"
     ]
    }
   ],
   "source": [
    "for x in zip(dates,formatted_data):\n",
    "    print(x)"
   ]
  },
  {
   "cell_type": "code",
   "execution_count": 13,
   "metadata": {
    "collapsed": false,
    "scrolled": true
   },
   "outputs": [
    {
     "name": "stderr",
     "output_type": "stream",
     "text": [
      "/usr/local/lib/python3.5/site-packages/matplotlib/__init__.py:1076: UserWarning: Bad val \"cycler('color', ['\" on line #35\n",
      "\t\"axes.prop_cycle: cycler('color', ['#e41a1c','#377eb8','#4daf4a','#984ea3','#ff7f00','#ffff33','#a65628','#f781bf'])\n",
      "\"\n",
      "\tin file \"/Users/andyreagan/.matplotlib/stylelib/paper-onecol.mplstyle\"\n",
      "\tKey axes.prop_cycle: 'cycler('color', ['' is not a valid cycler construction: EOL while scanning string literal (<string>, line 1)\n",
      "  (val, error_details, msg))\n",
      "/usr/local/lib/python3.5/site-packages/matplotlib/__init__.py:1076: UserWarning: Bad val \"cycler('color', ['\" on line #35\n",
      "\t\"axes.prop_cycle: cycler('color', ['#e41a1c','#377eb8','#4daf4a','#984ea3','#ff7f00','#ffff33','#a65628','#f781bf'])\n",
      "\"\n",
      "\tin file \"/Users/andyreagan/.matplotlib/stylelib/paper-twocol.mplstyle\"\n",
      "\tKey axes.prop_cycle: 'cycler('color', ['' is not a valid cycler construction: EOL while scanning string literal (<string>, line 1)\n",
      "  (val, error_details, msg))\n"
     ]
    }
   ],
   "source": [
    "import matplotlib.pyplot as plt\n",
    "%matplotlib inline"
   ]
  },
  {
   "cell_type": "code",
   "execution_count": 14,
   "metadata": {
    "collapsed": false
   },
   "outputs": [
    {
     "data": {
      "image/png": "[encoded data removed]",
      "text/plain": [
       "<matplotlib.figure.Figure at 0x105d717b8>"
      ]
     },
     "metadata": {},
     "output_type": "display_data"
    }
   ],
   "source": [
    "with plt.style.context(\"paper-onecol\"):\n",
    "    plt.scatter(dates,formatted_data,color='#e41a1c')\n",
    "    plt.xlim([0,366])\n",
    "    plt.ylim([0,366])"
   ]
  },
  {
   "cell_type": "code",
   "execution_count": 15,
   "metadata": {
    "collapsed": true
   },
   "outputs": [],
   "source": [
    "from scipy.stats import pearsonr"
   ]
  },
  {
   "cell_type": "code",
   "execution_count": 16,
   "metadata": {
    "collapsed": false
   },
   "outputs": [
    {
     "data": {
      "text/plain": [
       "(-0.22355549385377366, 1.6247770075091187e-05)"
      ]
     },
     "execution_count": 16,
     "metadata": {},
     "output_type": "execute_result"
    }
   ],
   "source": [
    "pearsonr(dates,formatted_data)"
   ]
  },
  {
   "cell_type": "markdown",
   "metadata": {},
   "source": [
    "so, there was a correlation here!\n",
    "\n",
    "this was, of course, due to random chance and the very unlikely draw made by draft.\n",
    "the p-value tells us that this correlation is indeed very unlikely.\n",
    "would have been better to make a shuffling without correlation, but how is this any less random (in the global sense) than just\n",
    "assigning the draft number based on birth day (a rho=1 correlation)?\n",
    "\n",
    "i don't think it is. birth days are essentially random to begin with (you don't choose this). but on the other hand, you can't change it. and this is literally a life and death draw for many."
   ]
  },
  {
   "cell_type": "code",
   "execution_count": null,
   "metadata": {
    "collapsed": true
   },
   "outputs": [],
   "source": []
  }
 ],
 "metadata": {
  "kernelspec": {
   "display_name": "Python 3",
   "language": "python",
   "name": "python3"
  },
  "language_info": {
   "codemirror_mode": {
    "name": "ipython",
    "version": 3
   },
   "file_extension": ".py",
   "mimetype": "text/x-python",
   "name": "python",
   "nbconvert_exporter": "python",
   "pygments_lexer": "ipython3",
   "version": "3.5.1"
  }
 },
 "nbformat": 4,
 "nbformat_minor": 0
}

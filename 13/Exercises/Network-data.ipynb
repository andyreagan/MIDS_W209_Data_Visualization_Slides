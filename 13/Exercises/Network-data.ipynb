{
 "cells": [
  {
   "cell_type": "markdown",
   "metadata": {},
   "source": [
    "# Network data\n",
    "\n",
    "Notebook by Jim Bagrow"
   ]
  },
  {
   "cell_type": "code",
   "execution_count": 1,
   "metadata": {
    "collapsed": true,
    "slideshow": {
     "slide_type": "skip"
    }
   },
   "outputs": [],
   "source": [
    "# make figures better:\n",
    "font = {'weight':'normal','size':16}\n",
    "import matplotlib\n",
    "matplotlib.rc('font', **font)\n",
    "matplotlib.rc('figure', figsize=(9.0, 6.0))\n",
    "matplotlib.rc('xtick.major', pad=8) # xticks too close to border!\n",
    "matplotlib.rc('ytick.major', pad=10) # xticks too close to border!\n",
    "matplotlib.rc('xtick',labelsize='small')\n",
    "matplotlib.rc('ytick',labelsize='small')\n",
    "\n",
    "import warnings\n",
    "warnings.filterwarnings('ignore')\n",
    "\n",
    "import random, math\n",
    "import numpy as np\n",
    "import scipy, scipy.stats\n",
    "import pandas as pd\n",
    "\n",
    "import matplotlib.pyplot as plt\n",
    "nicered = \"#E6072A\"\n",
    "niceblu = \"#424FA4\"\n",
    "nicegrn = \"#6DC048\""
   ]
  },
  {
   "cell_type": "markdown",
   "metadata": {},
   "source": [
    "## Jargon summary\n",
    "\n",
    "Networks/graphs are (1) objects, (2) relationships between those objects"
   ]
  },
  {
   "cell_type": "markdown",
   "metadata": {
    "slideshow": {
     "slide_type": "fragment"
    }
   },
   "source": [
    "1. Nodes or vertices\n",
    "2. Links or edges"
   ]
  },
  {
   "cell_type": "markdown",
   "metadata": {
    "slideshow": {
     "slide_type": "subslide"
    }
   },
   "source": [
    "Types of graphs"
   ]
  },
  {
   "cell_type": "markdown",
   "metadata": {
    "slideshow": {
     "slide_type": "fragment"
    }
   },
   "source": [
    "* **Undirected** or **directed** networks, **unweighted** or **weighted**"
   ]
  },
  {
   "cell_type": "markdown",
   "metadata": {
    "slideshow": {
     "slide_type": "fragment"
    }
   },
   "source": [
    "* Networks without **loops**/**cycles** are **trees**."
   ]
  },
  {
   "cell_type": "markdown",
   "metadata": {
    "slideshow": {
     "slide_type": "fragment"
    }
   },
   "source": [
    "* **Planar graphs** can be drawn in the 2D plane without links crossing"
   ]
  },
  {
   "cell_type": "markdown",
   "metadata": {
    "slideshow": {
     "slide_type": "fragment"
    }
   },
   "source": [
    "* **Bipartite graphs**: Nodes can be split into two groups. Links only occur between nodes in different groups, never between nodes in the same group."
   ]
  },
  {
   "cell_type": "markdown",
   "metadata": {
    "slideshow": {
     "slide_type": "fragment"
    }
   },
   "source": [
    "* Directed Acyclic Graphs (DAGs), no (directed) cycles, but not trees."
   ]
  },
  {
   "cell_type": "markdown",
   "metadata": {
    "slideshow": {
     "slide_type": "subslide"
    }
   },
   "source": [
    "Specific graphs:"
   ]
  },
  {
   "cell_type": "markdown",
   "metadata": {
    "slideshow": {
     "slide_type": "fragment"
    }
   },
   "source": [
    "* **Complete graphs**: every link exists $\\binom{n}{2}$ links for $n$ nodes."
   ]
  },
  {
   "cell_type": "markdown",
   "metadata": {
    "slideshow": {
     "slide_type": "fragment"
    }
   },
   "source": [
    "* **Lattices**"
   ]
  },
  {
   "cell_type": "markdown",
   "metadata": {
    "slideshow": {
     "slide_type": "fragment"
    }
   },
   "source": [
    "* Many more"
   ]
  },
  {
   "cell_type": "markdown",
   "metadata": {
    "slideshow": {
     "slide_type": "subslide"
    }
   },
   "source": [
    "Node and graph properties:"
   ]
  },
  {
   "cell_type": "markdown",
   "metadata": {
    "slideshow": {
     "slide_type": "fragment"
    }
   },
   "source": [
    "* **Sparse**: Most pairs of nodes do not have a link."
   ]
  },
  {
   "cell_type": "markdown",
   "metadata": {
    "slideshow": {
     "slide_type": "fragment"
    }
   },
   "source": [
    "* **Connected**: A **path** (list of nodes) exists between every pair of nodes\n",
    "    + A disconnected graph has zero or more **connected components**"
   ]
  },
  {
   "cell_type": "markdown",
   "metadata": {
    "slideshow": {
     "slide_type": "fragment"
    }
   },
   "source": [
    "* Node $j$ is a **neighbor** of node $i$ if the edge $(i,j)$ exists. The **neighborhood** of $i$ is the set of all $i$'s neighbors."
   ]
  },
  {
   "cell_type": "markdown",
   "metadata": {
    "slideshow": {
     "slide_type": "fragment"
    }
   },
   "source": [
    "* The **degree** of $i$ is the number of neighbors. The **degree distribution** $P(k)$ is the probability that a randomly chosen node in the network has degree $k$."
   ]
  },
  {
   "cell_type": "markdown",
   "metadata": {
    "slideshow": {
     "slide_type": "fragment"
    }
   },
   "source": [
    "* **Hubs** are nodes with very high degree. In many networks (the Internet, social networks, etc.) they are rare but much more common than you may expect."
   ]
  },
  {
   "cell_type": "markdown",
   "metadata": {
    "slideshow": {
     "slide_type": "fragment"
    }
   },
   "source": [
    "* Networks, especially those with hubs, tend to be **small world**. The paths between random pairs of nodes are much *shorter* than the number of nodes. \"Six degrees of separation.\" The hubs act as \"superhighways\" that link of very separated parts of the network."
   ]
  },
  {
   "cell_type": "markdown",
   "metadata": {
    "slideshow": {
     "slide_type": "fragment"
    }
   },
   "source": [
    "* The **distance** between nodes $i$ and $j$ is the length of the *shortest path* between them. The **diameter** of a network is the *longest* shortest path."
   ]
  },
  {
   "cell_type": "markdown",
   "metadata": {
    "slideshow": {
     "slide_type": "subslide"
    }
   },
   "source": [
    "Triadic Closure:"
   ]
  },
  {
   "cell_type": "markdown",
   "metadata": {
    "slideshow": {
     "slide_type": "fragment"
    }
   },
   "source": [
    "* Term borrowed from the social sciences, social network analysis (SNA)"
   ]
  },
  {
   "cell_type": "markdown",
   "metadata": {
    "slideshow": {
     "slide_type": "fragment"
    }
   },
   "source": [
    "* **Triadic closure** friends of friends are likely to also be friends. Triangles form and neighborhoods tend to be **denser** (have more links) than *expected*.\n",
    "    + Clustering"
   ]
  },
  {
   "cell_type": "markdown",
   "metadata": {
    "slideshow": {
     "slide_type": "fragment"
    }
   },
   "source": [
    "* **Clustering coefficient** $c_i$ of node $i$ is the fraction of neighbors of $i$ that are linked: \n",
    "\n",
    "\n",
    "$$c_i = \\frac{T_i}{\\binom{k_i}{2}} = \\frac{2T_i}{k_i(k_i-1)}$$\n",
    "\n",
    "where $T_i$ is the number of triangles through node $i$."
   ]
  },
  {
   "cell_type": "markdown",
   "metadata": {
    "slideshow": {
     "slide_type": "slide"
    }
   },
   "source": [
    "## Working with graphs/networks programmatically\n",
    "\n",
    "(We will focus on unweighted, undirected networks.)\n",
    "\n",
    "\n",
    "Let's briefly discuss how to build a network data structure ourselves, to learn what our needs are. Then we'll dive into existing libraries."
   ]
  },
  {
   "cell_type": "markdown",
   "metadata": {
    "slideshow": {
     "slide_type": "fragment"
    }
   },
   "source": [
    "Just like with numeric or tabular data, which has a design matrix, we need a nice **data structure** for network data. \n",
    "\n",
    "* It should be easy to interact with and can be written to files for storage and sharing between different programs."
   ]
  },
  {
   "cell_type": "markdown",
   "metadata": {
    "slideshow": {
     "slide_type": "subslide"
    }
   },
   "source": [
    "It's natural to have ID numbers for the nodes. Say the network has $N$ nodes total. We could number the nodes from $0$ to $N-1$ (ie, `range(N)`). But in fact we may want to use names (`alice`, `bob`, `carol`, ...). So it would be very nice to only need $N$ **unique** items (numbers, strings, etc.) to define the $N$ nodes.\n",
    "\n",
    "* Ah ha! We're talking about a dictionary!\n",
    "\n",
    "So, let's make a dictionary that maps **nodes** to their neighbors:"
   ]
  },
  {
   "cell_type": "code",
   "execution_count": null,
   "metadata": {
    "collapsed": true,
    "slideshow": {
     "slide_type": "fragment"
    }
   },
   "outputs": [],
   "source": [
    "node2neighbors = {\n",
    "    \"alice\" : [\"bob\", \"carol\"],\n",
    "    \"bob\":    [\"alice\",\"carol\"],\n",
    "    \"carol\":  [\"alice\",\"bob\"]\n",
    "}"
   ]
  },
  {
   "cell_type": "markdown",
   "metadata": {
    "slideshow": {
     "slide_type": "subslide"
    }
   },
   "source": [
    "That's a network! Plug in a node and we get the list of friends (neighbors). Each person in our tiny network is friends with the other two.\n",
    "\n",
    "If we want a function to get the degree of a node all we need now is:"
   ]
  },
  {
   "cell_type": "code",
   "execution_count": null,
   "metadata": {
    "collapsed": true,
    "slideshow": {
     "slide_type": "fragment"
    }
   },
   "outputs": [],
   "source": [
    "def degree(n2ns, n):\n",
    "    \"\"\"n2ns is a dict mapping nodes to lists of neighbors.\n",
    "    Compute the degree of node `n`.\n",
    "    \"\"\"\n",
    "    neighbors_n = n2ns[n]\n",
    "    return len(neighbors_n)\n",
    "    \n",
    "print(\"k_alice =\", degree(node2neighbors, \"alice\"))"
   ]
  },
  {
   "cell_type": "markdown",
   "metadata": {
    "slideshow": {
     "slide_type": "subslide"
    }
   },
   "source": [
    "####Some important caveats:\n",
    "\n",
    "This structure uses **lists** to store neighborhoods. We could have **duplicates**.\n",
    "\n",
    "```python\n",
    "node2neighbors[\"alice\"] = [\"bob\", \"carol\", \"bob\"]\n",
    "```"
   ]
  },
  {
   "cell_type": "markdown",
   "metadata": {
    "slideshow": {
     "slide_type": "subslide"
    }
   },
   "source": [
    "There are now **two** links from alice to bob. A multiedge. This may be what we want or maybe not. We could also have self-loops:\n",
    "\n",
    "```python\n",
    "node2neighbors[\"alice\"] = [\"bob\", \"carol\", \"bob\", \"alice\"]\n",
    "```\n",
    "\n",
    "Now Alice is a neighbor of herself!"
   ]
  },
  {
   "cell_type": "markdown",
   "metadata": {
    "slideshow": {
     "slide_type": "subslide"
    }
   },
   "source": [
    "This structure is **directed** in the sense that we need to make sure that, if $j$ is a neighbor of $i$, then $i$ is also a neighbor of $j$:\n",
    "\n",
    "```python\n",
    "node2neighbors = {\n",
    "    \"alice\" : [\"bob\", \"carol\"],\n",
    "    \"bob\":    [\"carol\"],\n",
    "}\n",
    "```"
   ]
  },
  {
   "cell_type": "markdown",
   "metadata": {
    "slideshow": {
     "slide_type": "subslide"
    }
   },
   "source": [
    "Here we see that Alice lists Bob as a friend but Bob does not list Alice! Also Carol is in the neighborhoods but is not a key in the dictionary! (She has zero **outdegree**.) We should, to be safe, make sure all the unique neighbors of nodes are also keys, depending on how careful we want to be.\n",
    "\n",
    "Python dictionaries are case-insensitive when strings are used. `Carol` and `carol` are two different nodes!"
   ]
  },
  {
   "cell_type": "markdown",
   "metadata": {
    "slideshow": {
     "slide_type": "subslide"
    }
   },
   "source": [
    "The takeaway from these caveats is that, if we need to make sure that these conditions hold for a network, we should not interact **directly** with the network data structure (in this case just a dictionary). Instead we should build a little **collection of functions** that (safely) touch the underlying data structure. This insulates us and helps enforce/ensure the above conditions.\n",
    "\n",
    "For example, here's a function to add a node to the network:"
   ]
  },
  {
   "cell_type": "code",
   "execution_count": null,
   "metadata": {
    "collapsed": true,
    "slideshow": {
     "slide_type": "fragment"
    }
   },
   "outputs": [],
   "source": [
    "def add_node(G, node):\n",
    "    \"\"\"(Safely) insert a node into the graph `G`. \n",
    "    `G` is a dict mapping nodes to lists of their\n",
    "    neighbors. Returns nothing, G is modified in\n",
    "    place.\n",
    "    \"\"\"\n",
    "    \n",
    "    if node not in G: # don't erase an existing node\n",
    "        G[node] = []"
   ]
  },
  {
   "cell_type": "code",
   "execution_count": 6,
   "metadata": {
    "slideshow": {
     "slide_type": "subslide"
    }
   },
   "outputs": [
    {
     "data": {
      "text/plain": [
       "{'alice': ['bob', 'carol'],\n",
       " 'bob': ['alice', 'carol'],\n",
       " 'carol': ['alice', 'bob'],\n",
       " 'dan': []}"
      ]
     },
     "execution_count": 6,
     "metadata": {},
     "output_type": "execute_result"
    }
   ],
   "source": [
    "add_node(node2neighbors, \"dan\")\n",
    "node2neighbors"
   ]
  },
  {
   "cell_type": "markdown",
   "metadata": {
    "slideshow": {
     "slide_type": "subslide"
    }
   },
   "source": [
    "If we want to add an undirected edge:"
   ]
  },
  {
   "cell_type": "code",
   "execution_count": null,
   "metadata": {
    "collapsed": true,
    "slideshow": {
     "slide_type": "fragment"
    }
   },
   "outputs": [],
   "source": [
    "def add_edge(G, i, j):\n",
    "    \"\"\"Insert undirected edge from node i to node j in graph\n",
    "    G.\n",
    "    \"\"\"\n",
    "    # create nodes if needed:\n",
    "    if i not in G:\n",
    "        G[i] = []\n",
    "    if j not in G:\n",
    "        G[j] = []\n",
    "    \n",
    "    # insert link BOTH WAYS only if not already present:\n",
    "    if j not in G[i]:  # could be slow\n",
    "        G[i].append(j) # add j to list of i's neighbors\n",
    "    if i not in G[j]:\n",
    "        G[j].append(i)"
   ]
  },
  {
   "cell_type": "code",
   "execution_count": 8,
   "metadata": {
    "slideshow": {
     "slide_type": "subslide"
    }
   },
   "outputs": [
    {
     "data": {
      "text/plain": [
       "{'alice': ['bob', 'carol'],\n",
       " 'bob': ['alice', 'carol'],\n",
       " 'carol': ['alice', 'bob', 'dan'],\n",
       " 'dan': ['carol']}"
      ]
     },
     "execution_count": 8,
     "metadata": {},
     "output_type": "execute_result"
    }
   ],
   "source": [
    "add_edge(node2neighbors, \"dan\", \"carol\")\n",
    "node2neighbors"
   ]
  },
  {
   "cell_type": "markdown",
   "metadata": {
    "slideshow": {
     "slide_type": "subslide"
    }
   },
   "source": [
    "So things are getting a bit more complicated:\n",
    "\n",
    "1. We need to make sure to create the end(s) of a link if they are not already in the network, \n",
    "2. we need to insert the link in both directions to make sure it's undirected,\n",
    "3. and we need to make sure not to create a multi-edge if the edge already exists"
   ]
  },
  {
   "cell_type": "markdown",
   "metadata": {
    "slideshow": {
     "slide_type": "subslide"
    }
   },
   "source": [
    "If we want to remove a node $i$ we need to first remove $i$ from the neighbor lists of all of $i$'s neighbors, then we remove $i$ from the dict:"
   ]
  },
  {
   "cell_type": "code",
   "execution_count": null,
   "metadata": {
    "collapsed": true,
    "slideshow": {
     "slide_type": "fragment"
    }
   },
   "outputs": [],
   "source": [
    "def remove_node(G, i):\n",
    "    \"\"\"Remove node i from graph G.\"\"\"\n",
    "    neighbors = G[i]\n",
    "    \n",
    "    # first remove i from the neighborhoods of all of its\n",
    "    # neighbors:\n",
    "    for j in neighbors:\n",
    "        G[j].remove(i) # hope this doesn't raise ValueError\n",
    "    \n",
    "    # now we can remove i:\n",
    "    del G[i]"
   ]
  },
  {
   "cell_type": "code",
   "execution_count": 10,
   "metadata": {
    "slideshow": {
     "slide_type": "subslide"
    }
   },
   "outputs": [
    {
     "data": {
      "text/plain": [
       "{'bob': ['carol'], 'carol': ['bob', 'dan'], 'dan': ['carol']}"
      ]
     },
     "execution_count": 10,
     "metadata": {},
     "output_type": "execute_result"
    }
   ],
   "source": [
    "remove_node(node2neighbors, \"alice\")\n",
    "node2neighbors"
   ]
  },
  {
   "cell_type": "markdown",
   "metadata": {
    "slideshow": {
     "slide_type": "subslide"
    }
   },
   "source": [
    "So we see that things are a little delicate when working with network data. \n",
    "\n",
    "* In a sense, a directed network is actually **easier** to program up!\n",
    "\n",
    "But once we have a small number of these functions for (safely) building and changing graphs, we are good to go!"
   ]
  },
  {
   "cell_type": "markdown",
   "metadata": {
    "slideshow": {
     "slide_type": "slide"
    }
   },
   "source": [
    "#### Speed concerns.\n",
    "\n",
    "\n",
    "In the above functions we've done two things which may cause concern:\n",
    "\n",
    "1. in `remove_node` we have the call `G[j].remove(i)`. Here we decided to make `G[j]` a python list. Lists are great but they are slow for checking membership (`a in L`) and removal (`L.remove(a)`) because python is forced to linearly check every element in the list. If we have very large neighborhoods or we want to do many millions of changes to a graph, this may become a serious bottleneck."
   ]
  },
  {
   "cell_type": "markdown",
   "metadata": {
    "slideshow": {
     "slide_type": "subslide"
    }
   },
   "source": [
    "If that's the case we can avoid the problem by making our graph structure be a **dict of sets** instead of a **dict of lists**! This also makes it impossible to insert a multi-edge.\n",
    "\n",
    "We have to change some of our functions:"
   ]
  },
  {
   "cell_type": "code",
   "execution_count": 11,
   "metadata": {
    "collapsed": true,
    "slideshow": {
     "slide_type": "subslide"
    }
   },
   "outputs": [],
   "source": [
    "node2neighbors = {\n",
    "    \"alice\" : {\"bob\", \"carol\"}, # values are now sets\n",
    "    \"bob\":    {\"alice\",\"carol\"},\n",
    "    \"carol\":  {\"alice\",\"bob\"}\n",
    "}\n",
    "\n",
    "def add_node(G, node):\n",
    "    \"\"\"(Safely) insert a node into the graph `G`. \n",
    "    `G` is a dict mapping nodes to lists of their\n",
    "    neighbors. Returns nothing, G is modified in\n",
    "    place.\n",
    "    \"\"\"\n",
    "    if node not in G: # don't erase an existing node\n",
    "        G[node] = set()\n",
    "\n",
    "def add_edge(G, i, j):\n",
    "    \"\"\"Insert undirected edge from node i to node j in graph\n",
    "    G.\n",
    "    \"\"\"\n",
    "    # create nodes if needed:\n",
    "    if i not in G:\n",
    "        G[i] = set()\n",
    "    if j not in G:\n",
    "        G[j] = set()\n",
    "    \n",
    "    # insert link BOTH WAYS only if not already present:\n",
    "    if j not in G[i]:  # could be slow\n",
    "        G[i].add(j) # add j to list of i's neighbors\n",
    "    if i not in G[j]:\n",
    "        G[j].add(i)"
   ]
  },
  {
   "cell_type": "code",
   "execution_count": 12,
   "metadata": {
    "slideshow": {
     "slide_type": "subslide"
    }
   },
   "outputs": [
    {
     "data": {
      "text/plain": [
       "{'alice': {'bob', 'carol'},\n",
       " 'bob': {'alice', 'carol'},\n",
       " 'carol': {'alice', 'bob', 'dan'},\n",
       " 'dan': {'carol'}}"
      ]
     },
     "execution_count": 12,
     "metadata": {},
     "output_type": "execute_result"
    }
   ],
   "source": [
    "add_edge(node2neighbors, \"dan\", \"carol\")\n",
    "node2neighbors"
   ]
  },
  {
   "cell_type": "markdown",
   "metadata": {
    "slideshow": {
     "slide_type": "subslide"
    }
   },
   "source": [
    "Using sets instead of lists is actually a nice way to go (if you don't need multi-edges). It makes computing something like the **clustering coefficient** easy:"
   ]
  },
  {
   "cell_type": "code",
   "execution_count": 13,
   "metadata": {
    "collapsed": true,
    "slideshow": {
     "slide_type": "subslide"
    }
   },
   "outputs": [],
   "source": [
    "import itertools\n",
    "\n",
    "def has_edge(G, i, j):\n",
    "    \"\"\"Return True if i and j are neighbors, else False.\"\"\"\n",
    "    if i in G[j]: #and j in G[i]:\n",
    "        return True\n",
    "    return False\n",
    "    \n",
    "\n",
    "def clustering_coefficient(G, i):\n",
    "    \"\"\"Compute c_i = 2 T_i / (k_i * (k_i-1)), where\n",
    "    T_i is the number of triangles touching node i.\n",
    "    \"\"\"\n",
    "    \n",
    "    k_i = degree(G, i)\n",
    "    \n",
    "    if k_i < 2:\n",
    "        return 0.0\n",
    "    \n",
    "    # loop over every pair of neighbors of i to count\n",
    "    # number of triangles:\n",
    "    T_i = 0\n",
    "    for j1,j2 in itertools.combinations(G[i],2): # make sure not to have\n",
    "        if has_edge(G, j1, j2):                  # both (j1,j2) and (j2,j1)\n",
    "            T_i += 1\n",
    "    \n",
    "    c_i = 2.0 * T_i / k_i / (k_i-1)\n",
    "    return c_i"
   ]
  },
  {
   "cell_type": "code",
   "execution_count": 15,
   "metadata": {
    "slideshow": {
     "slide_type": "subslide"
    }
   },
   "outputs": [
    {
     "name": "stdout",
     "output_type": "stream",
     "text": [
      "c_alice = 1.0\n",
      "  c_dan = 0.0\n",
      "c_carol = 0.3333333333333333\n"
     ]
    }
   ],
   "source": [
    "print(\"c_alice =\", clustering_coefficient(node2neighbors, \"alice\"))\n",
    "print(\"  c_dan =\", clustering_coefficient(node2neighbors, \"dan\")\n",
    "print(\"c_carol =\", clustering_coefficient(node2neighbors, \"carol\")"
   ]
  },
  {
   "cell_type": "markdown",
   "metadata": {
    "slideshow": {
     "slide_type": "subslide"
    }
   },
   "source": [
    "\n",
    "\n",
    "Now, this single data structure (dict-of-lists or dict-of-sets) and a small number of functions actually gets us quite a bit of the way into having our own **graph library**. But to fully cover **all** the bases (computing degree distributions, connected components, shortest paths, etc. etc. etc.) we need a good number of other functions.\n",
    "\n",
    "* Generally you don't want to **reinvent the wheel**, so this was an educational exercise to see directly what goes into programming up a network. But if you do need to program some special calculation on a network, here you see some of the pitfalls you may encounter in your own code."
   ]
  },
  {
   "cell_type": "markdown",
   "metadata": {
    "slideshow": {
     "slide_type": "slide"
    }
   },
   "source": [
    "## NetworkX\n",
    "\n",
    "[NetworkX](http://networkx.github.io/), out of Los Alamos, is a very thorough and very mature network science package for python.\n",
    "\n",
    "* It's not the fastest code on the planet, but it's very well documented and fairly easy to use!"
   ]
  },
  {
   "cell_type": "code",
   "execution_count": 17,
   "metadata": {
    "collapsed": true,
    "slideshow": {
     "slide_type": "subslide"
    }
   },
   "outputs": [],
   "source": [
    "import networkx as nx"
   ]
  },
  {
   "cell_type": "markdown",
   "metadata": {
    "slideshow": {
     "slide_type": "subslide"
    }
   },
   "source": [
    "Let's print a **docstring**:"
   ]
  },
  {
   "cell_type": "code",
   "execution_count": 19,
   "metadata": {
    "slideshow": {
     "slide_type": "subslide"
    }
   },
   "outputs": [
    {
     "name": "stdout",
     "output_type": "stream",
     "text": [
      "Read a graph from a list of edges.\n",
      "\n",
      "    Parameters\n",
      "    ----------\n",
      "    path : file or string\n",
      "       File or filename to read. If a file is provided, it must be\n",
      "       opened in 'rb' mode.\n",
      "       Filenames ending in .gz or .bz2 will be uncompressed.\n",
      "    comments : string, optional\n",
      "       The character used to indicate the start of a comment.\n",
      "    delimiter : string, optional\n",
      "       The string used to separate values.  The default is whitespace.\n",
      "    create_using : Graph container, optional,\n",
      "       Use specified container to build graph.  The default is networkx.Graph,\n",
      "       an undirected graph.\n",
      "    nodetype : int, float, str, Python type, optional\n",
      "       Convert node data from strings to specified type\n",
      "    data : bool or list of (label,type) tuples\n",
      "       Tuples specifying dictionary key names and types for edge data\n",
      "    edgetype : int, float, str, Python type, optional OBSOLETE\n",
      "       Convert edge data from strings to specified type and use as 'weight'\n",
      "    encoding: string, optional\n",
      "       Specify which encoding to use when reading file.\n",
      "\n",
      "    Returns\n",
      "    -------\n",
      "    G : graph\n",
      "       A networkx Graph or other type specified with create_using\n",
      "\n",
      "    Examples\n",
      "    --------\n",
      "    >>> nx.write_edgelist(nx.path_graph(4), \"test.edgelist\")\n",
      "    >>> G=nx.read_edgelist(\"test.edgelist\")\n",
      "\n",
      "    >>> fh=open(\"test.edgelist\", 'rb')\n",
      "    >>> G=nx.read_edgelist(fh)\n",
      "    >>> fh.close()\n",
      "\n",
      "    >>> G=nx.read_edgelist(\"test.edgelist\", nodetype=int)\n",
      "    >>> G=nx.read_edgelist(\"test.edgelist\",create_using=nx.DiGraph())\n",
      "\n",
      "    Edgelist with data in a list:\n",
      "\n",
      "    >>> textline = '1 2 3'\n",
      "    >>> fh = open('test.edgelist','w')\n",
      "    >>> d = fh.write(textline)\n",
      "    >>> fh.close()\n",
      "    >>> G = nx.read_edgelist('test.edgelist', nodetype=int, data=(('weight',float),))\n",
      "    >>> list(G)\n",
      "    [1, 2]\n",
      "    >>> list(G.edges(data=True))\n",
      "    [(1, 2, {'weight': 3.0})]\n",
      "\n",
      "    See parse_edgelist() for more examples of formatting.\n",
      "\n",
      "    See Also\n",
      "    --------\n",
      "    parse_edgelist\n",
      "\n",
      "    Notes\n",
      "    -----\n",
      "    Since nodes must be hashable, the function nodetype must return hashable\n",
      "    types (e.g. int, float, str, frozenset - or tuples of those, etc.)\n",
      "    \n"
     ]
    }
   ],
   "source": [
    "print(nx.read_edgelist.__doc__)"
   ]
  },
  {
   "cell_type": "markdown",
   "metadata": {
    "slideshow": {
     "slide_type": "subslide"
    }
   },
   "source": [
    "Networkx defines a **graph object** that we work with. Internally it's very similar to our own data structure. It provides a number of methods for making changes to the graph.\n",
    "\n",
    "Let's rebuild our little social network in `nx`. First we define an empty graph, then we insert our edges:"
   ]
  },
  {
   "cell_type": "code",
   "execution_count": 21,
   "metadata": {
    "slideshow": {
     "slide_type": "fragment"
    }
   },
   "outputs": [
    {
     "name": "stdout",
     "output_type": "stream",
     "text": [
      "dan 1\n",
      "alice 2\n",
      "carol 3\n",
      "bob 2\n"
     ]
    }
   ],
   "source": [
    "G = nx.Graph() # empty\n",
    "\n",
    "G.add_edge('alice', 'bob')\n",
    "G.add_edge('alice', 'carol')\n",
    "G.add_edge('bob', 'carol')\n",
    "G.add_edge('dan', 'carol')\n",
    "\n",
    "for i in G:\n",
    "    print(i, G.degree(i))"
   ]
  },
  {
   "cell_type": "markdown",
   "metadata": {
    "slideshow": {
     "slide_type": "subslide"
    }
   },
   "source": [
    "Very similar to what we had except these are **methods** so we call them like this\n",
    "\n",
    "```python\n",
    "G.add_edge(i,j)\n",
    "```\n",
    "\n",
    "instead of a function\n",
    "\n",
    "```python\n",
    "add_edge(G, i, j)\n",
    "```\n",
    "\n",
    "But looking at what we've written, we can see how these are likely to do the same thing.\n",
    "\n",
    "A networkx `Graph` has **many** methods:"
   ]
  },
  {
   "cell_type": "code",
   "execution_count": 22,
   "metadata": {
    "slideshow": {
     "slide_type": "subslide"
    }
   },
   "outputs": [
    {
     "name": "stdout",
     "output_type": "stream",
     "text": [
      "_adj\n",
      "_node\n",
      "add_cycle\n",
      "add_edge\n",
      "add_edges_from\n",
      "add_node\n",
      "add_nodes_from\n",
      "add_path\n",
      "add_star\n",
      "add_weighted_edges_from\n",
      "adj\n",
      "adjacency\n",
      "adjlist_inner_dict_factory\n",
      "adjlist_outer_dict_factory\n",
      "clear\n",
      "copy\n",
      "degree\n",
      "edge_attr_dict_factory\n",
      "edge_subgraph\n",
      "edges\n",
      "fresh_copy\n",
      "get_edge_data\n",
      "graph\n",
      "has_edge\n",
      "has_node\n",
      "is_directed\n",
      "is_multigraph\n",
      "name\n",
      "nbunch_iter\n",
      "neighbors\n",
      "node\n",
      "node_dict_factory\n",
      "nodes\n",
      "nodes_with_selfloops\n",
      "number_of_edges\n",
      "number_of_nodes\n",
      "number_of_selfloops\n",
      "order\n",
      "remove_edge\n",
      "remove_edges_from\n",
      "remove_node\n",
      "remove_nodes_from\n",
      "root_graph\n",
      "selfloop_edges\n",
      "size\n",
      "subgraph\n",
      "to_directed\n",
      "to_undirected\n"
     ]
    }
   ],
   "source": [
    "all_methods = dir(G) # list of names of all methods\n",
    "\n",
    "for m in all_methods:\n",
    "    if m[:2] != \"__\": # skip \"private\" methods\n",
    "        print(m)"
   ]
  },
  {
   "cell_type": "markdown",
   "metadata": {
    "slideshow": {
     "slide_type": "subslide"
    }
   },
   "source": [
    "And you should use ipython interactively to explore their documentation:\n",
    "\n",
    "```python\n",
    "In [12]: G.order?\n",
    "Type:       instancemethod\n",
    "String Form:<bound method Graph.order of blah blah blah>\n",
    "File:       /usr/local/lib/python2.7/site-packages/networkx/classes/graph.py\n",
    "Definition: G.order(self)\n",
    "Docstring:\n",
    "Return the number of nodes in the graph.\n",
    "\n",
    "Returns\n",
    "-------\n",
    "nnodes : int\n",
    "    The number of nodes in the graph.\n",
    "\n",
    "See Also\n",
    "--------\n",
    "number_of_nodes, __len__  which are identical\n",
    "\n",
    "In [13]: \n",
    "```"
   ]
  },
  {
   "cell_type": "markdown",
   "metadata": {
    "slideshow": {
     "slide_type": "slide"
    }
   },
   "source": [
    "### Reading and writing networks\n",
    "\n",
    "There are simple and less-than-simple ways of **recording** a network to a file. Let's look at the first few lines of some files\n",
    "\n",
    "**Edgelist**"
   ]
  },
  {
   "cell_type": "code",
   "execution_count": 30,
   "metadata": {
    "slideshow": {
     "slide_type": "fragment"
    }
   },
   "outputs": [
    {
     "name": "stdout",
     "output_type": "stream",
     "text": [
      "0 2\r\n",
      "0 3\r\n",
      "1 9\r\n",
      "1 2\r\n",
      "1 12\r\n",
      "1 7\r\n",
      "2 3\r\n",
      "2 4\r\n",
      "2 5\r\n",
      "2 8\r\n"
     ]
    }
   ],
   "source": [
    "!head small_graph.edgelist.txt"
   ]
  },
  {
   "cell_type": "markdown",
   "metadata": {
    "slideshow": {
     "slide_type": "fragment"
    }
   },
   "source": [
    "Each row represents an **edge**: source {space} target.\n",
    "\n",
    "(The `!` before a line tells the notebook to call a UNIX command, and `head` is a command that prints the first few lines of a file.)"
   ]
  },
  {
   "cell_type": "markdown",
   "metadata": {
    "slideshow": {
     "slide_type": "subslide"
    }
   },
   "source": [
    "**Adjacency list**"
   ]
  },
  {
   "cell_type": "code",
   "execution_count": 32,
   "metadata": {
    "slideshow": {
     "slide_type": "fragment"
    }
   },
   "outputs": [
    {
     "name": "stdout",
     "output_type": "stream",
     "text": [
      "0 2 3\r\n",
      "1 9 2 12 7\r\n",
      "2 3 4 5 8 9 10 14 15 23 24\r\n",
      "3 16 4 5 6 17 21\r\n",
      "4 16 17 7 11\r\n",
      "5 20 22 6 13\r\n",
      "6 8 10\r\n",
      "7\r\n",
      "8 20 11 18 14 15\r\n",
      "9 22\r\n"
     ]
    }
   ],
   "source": [
    "!head small_graph.adjlist.txt"
   ]
  },
  {
   "cell_type": "markdown",
   "metadata": {
    "slideshow": {
     "slide_type": "fragment"
    }
   },
   "source": [
    "This represents the same data in a slightly more compact way. Each row represents a node followed by the **neighbors** of that node. It is a **ragged** file format, and can be annoying to process in some languages (like C)."
   ]
  },
  {
   "cell_type": "markdown",
   "metadata": {
    "slideshow": {
     "slide_type": "subslide"
    }
   },
   "source": [
    "**Adjacency matrix**"
   ]
  },
  {
   "cell_type": "code",
   "execution_count": 33,
   "metadata": {
    "slideshow": {
     "slide_type": "fragment"
    }
   },
   "outputs": [
    {
     "name": "stdout",
     "output_type": "stream",
     "text": [
      "0 0 1 1 0 0 0 0 0 0 0 0 0 0 0 0 0 0 0 0 0 0 0 0 0\r\n",
      "0 0 1 0 0 0 0 1 0 1 0 0 1 0 0 0 0 0 0 0 0 0 0 0 0\r\n",
      "1 1 0 1 1 1 0 0 1 1 1 0 0 0 1 1 0 0 0 0 0 0 0 1 1\r\n",
      "1 0 1 0 1 1 1 0 0 0 0 0 0 0 0 0 1 1 0 0 0 1 0 0 0\r\n",
      "0 0 1 1 0 0 0 1 0 0 0 1 0 0 0 0 1 1 0 0 0 0 0 0 0\r\n",
      "0 0 1 1 0 0 1 0 0 0 0 0 0 1 0 0 0 0 0 0 1 0 1 0 0\r\n",
      "0 0 0 1 0 1 0 0 1 0 1 0 0 0 0 0 0 0 0 0 0 0 0 0 0\r\n",
      "0 1 0 0 1 0 0 0 0 0 0 0 0 0 0 0 0 0 0 0 0 0 0 0 0\r\n",
      "0 0 1 0 0 0 1 0 0 0 0 1 0 0 1 1 0 0 1 0 1 0 0 0 0\r\n",
      "0 1 1 0 0 0 0 0 0 0 0 0 0 0 0 0 0 0 0 0 0 0 1 0 0\r\n",
      "0 0 1 0 0 0 1 0 0 0 0 0 1 0 0 0 0 0 0 0 0 0 0 0 0\r\n",
      "0 0 0 0 1 0 0 0 1 0 0 0 0 0 0 0 0 0 0 0 0 0 0 0 0\r\n",
      "0 1 0 0 0 0 0 0 0 0 1 0 0 1 0 0 0 0 0 0 0 1 0 0 0\r\n",
      "0 0 0 0 0 1 0 0 0 0 0 0 1 0 0 0 0 0 0 0 0 0 0 0 0\r\n",
      "0 0 1 0 0 0 0 0 1 0 0 0 0 0 0 0 0 0 0 1 0 0 0 0 0\r\n",
      "0 0 1 0 0 0 0 0 1 0 0 0 0 0 0 0 0 0 0 0 0 0 0 0 0\r\n",
      "0 0 0 1 1 0 0 0 0 0 0 0 0 0 0 0 0 0 1 1 0 0 0 1 1\r\n",
      "0 0 0 1 1 0 0 0 0 0 0 0 0 0 0 0 0 0 0 0 0 0 0 0 0\r\n",
      "0 0 0 0 0 0 0 0 1 0 0 0 0 0 0 0 1 0 0 0 0 0 0 0 0\r\n",
      "0 0 0 0 0 0 0 0 0 0 0 0 0 0 1 0 1 0 0 0 0 0 0 0 0\r\n",
      "0 0 0 0 0 1 0 0 1 0 0 0 0 0 0 0 0 0 0 0 0 0 0 0 0\r\n",
      "0 0 0 1 0 0 0 0 0 0 0 0 1 0 0 0 0 0 0 0 0 0 0 0 0\r\n",
      "0 0 0 0 0 1 0 0 0 1 0 0 0 0 0 0 0 0 0 0 0 0 0 0 0\r\n",
      "0 0 1 0 0 0 0 0 0 0 0 0 0 0 0 0 1 0 0 0 0 0 0 0 0\r\n",
      "0 0 1 0 0 0 0 0 0 0 0 0 0 0 0 0 1 0 0 0 0 0 0 0 0"
     ]
    }
   ],
   "source": [
    "!cat small_graph.adjmat.txt"
   ]
  },
  {
   "cell_type": "markdown",
   "metadata": {
    "slideshow": {
     "slide_type": "subslide"
    }
   },
   "source": [
    "This file stores rows of 0's and 1's, it represents the matrix A where $A_{ij} = 1$ if nodes $i$ and $j$ are connected, zero otherwise. It is symmetric for an **undirected** graph.\n",
    "\n",
    "* Storing a large matrix like this is very inefficient if the network is sparse (because the matrix will be almost all zeros). Instead only record the non-zero $(i,j)$ pairs, which (guess what!) is the edgelist."
   ]
  },
  {
   "cell_type": "markdown",
   "metadata": {
    "slideshow": {
     "slide_type": "subslide"
    }
   },
   "source": [
    "Here's a fancier file format called [GraphML](http://graphml.graphdrawing.org/):"
   ]
  },
  {
   "cell_type": "code",
   "execution_count": 58,
   "metadata": {
    "slideshow": {
     "slide_type": "fragment"
    }
   },
   "outputs": [
    {
     "name": "stdout",
     "output_type": "stream",
     "text": [
      "<?xml version='1.0' encoding='utf-8'?>\n",
      "<graphml xmlns=\"http://graphml.graphdrawing.org/xmlns\" xmlns:xsi=\"http://www.w3.org/2001/XMLSchema-instance\" xsi:schemaLocation=\"http://graphml.graphdrawing.org/xmlns http://graphml.graphdrawing.org/xmlns/1.0/graphml.xsd\">\n",
      "  <key attr.name=\"name\" attr.type=\"string\" for=\"graph\" id=\"d1\" />\n",
      "  <key attr.name=\"club\" attr.type=\"string\" for=\"node\" id=\"d0\" />\n",
      "  <graph edgedefault=\"undirected\">\n",
      "    <node id=\"0\">\n",
      "      <data key=\"d0\">Mr. Hi</data>\n",
      "    </node>\n",
      "    <node id=\"1\">\n",
      "      <data key=\"d0\">Mr. Hi</data>\n",
      "...\n",
      "    <edge source=\"29\" target=\"32\" />\n",
      "    <edge source=\"29\" target=\"33\" />\n",
      "    <edge source=\"30\" target=\"33\" />\n",
      "    <edge source=\"30\" target=\"32\" />\n",
      "    <edge source=\"31\" target=\"32\" />\n",
      "    <edge source=\"31\" target=\"33\" />\n",
      "    <edge source=\"32\" target=\"33\" />\n",
      "    <data key=\"d1\">Zachary's Karate Club</data>\n",
      "  </graph>\n",
      "</graphml>\n"
     ]
    }
   ],
   "source": [
    "!head karate_club.graphml\n",
    "print(\"...\")\n",
    "!tail karate_club.graphml"
   ]
  },
  {
   "cell_type": "markdown",
   "metadata": {
    "slideshow": {
     "slide_type": "subslide"
    }
   },
   "source": [
    "This format uses XML syntax to designate nodes and edges, along with other metadata. It helps us avoid dealing with the file reading and writing ourselves, but rolling your own code to read or write this is not much fun. \n",
    "\n",
    "* Fortunately we don't always have to do that:"
   ]
  },
  {
   "cell_type": "code",
   "execution_count": 59,
   "metadata": {
    "slideshow": {
     "slide_type": "fragment"
    }
   },
   "outputs": [
    {
     "name": "stdout",
     "output_type": "stream",
     "text": [
      "Name: Zachary's Karate Club\n",
      "Type: Graph\n",
      "Number of nodes: 34\n",
      "Number of edges: 78\n",
      "Average degree:   4.5882\n"
     ]
    }
   ],
   "source": [
    "graph = nx.read_graphml(\"karate_club.graphml\")\n",
    "\n",
    "print(nx.info(graph))"
   ]
  },
  {
   "cell_type": "markdown",
   "metadata": {
    "slideshow": {
     "slide_type": "slide"
    }
   },
   "source": [
    "### Graph properties\n",
    "\n",
    "Degree:"
   ]
  },
  {
   "cell_type": "code",
   "execution_count": 60,
   "metadata": {
    "slideshow": {
     "slide_type": "fragment"
    }
   },
   "outputs": [
    {
     "name": "stdout",
     "output_type": "stream",
     "text": [
      "[('5', 4), ('16', 2), ('19', 3), ('11', 1), ('4', 3), ('30', 4), ('21', 2), ('25', 3), ('29', 4), ('7', 4), ('24', 3), ('18', 2), ('10', 3), ('15', 2), ('14', 2), ('1', 9), ('26', 2), ('9', 2), ('8', 5), ('17', 2), ('27', 4), ('2', 10), ('33', 17), ('32', 12), ('31', 6), ('12', 2), ('28', 3), ('23', 5), ('13', 5), ('3', 6), ('0', 16), ('20', 2), ('22', 2), ('6', 4)]\n"
     ]
    }
   ],
   "source": [
    "print(graph.degree()) # returns a dict"
   ]
  },
  {
   "cell_type": "markdown",
   "metadata": {
    "slideshow": {
     "slide_type": "subslide"
    }
   },
   "source": [
    "Clustering coefficients:"
   ]
  },
  {
   "cell_type": "code",
   "execution_count": 61,
   "metadata": {
    "slideshow": {
     "slide_type": "fragment"
    }
   },
   "outputs": [
    {
     "name": "stdout",
     "output_type": "stream",
     "text": [
      "{'5': 0.5, '28': 0.3333333333333333, '16': 1.0, '19': 0.3333333333333333, '11': 0, '4': 0.6666666666666666, '30': 0.5, '21': 1.0, '25': 0.3333333333333333, '29': 0.6666666666666666, '8': 0.5, '24': 0.3333333333333333, '0': 0.15, '18': 1.0, '10': 0.6666666666666666, '15': 1.0, '14': 1.0, '1': 0.3333333333333333, '26': 1.0, '9': 0, '7': 1.0, '33': 0.11029411764705882, '6': 0.5, '32': 0.19696969696969696, '31': 0.2, '12': 1.0, '27': 0.16666666666666666, '23': 0.4, '13': 0.6, '3': 0.6666666666666666, '17': 1.0, '20': 1.0, '22': 1.0, '2': 0.24444444444444444}\n"
     ]
    }
   ],
   "source": [
    "print(nx.clustering(graph)) # annoying that it is not graph.clustering()?"
   ]
  },
  {
   "cell_type": "code",
   "execution_count": 62,
   "metadata": {
    "slideshow": {
     "slide_type": "subslide"
    }
   },
   "outputs": [
    {
     "name": "stdout",
     "output_type": "stream",
     "text": [
      "Connected? True\n",
      "Diameter = 5\n"
     ]
    }
   ],
   "source": [
    "print(\"Connected?\", nx.is_connected(graph))\n",
    "print(\"Diameter =\", nx.diameter(graph))"
   ]
  },
  {
   "cell_type": "markdown",
   "metadata": {
    "slideshow": {
     "slide_type": "subslide"
    }
   },
   "source": [
    "Paths and distances:"
   ]
  },
  {
   "cell_type": "code",
   "execution_count": 63,
   "metadata": {
    "slideshow": {
     "slide_type": "fragment"
    }
   },
   "outputs": [
    {
     "name": "stdout",
     "output_type": "stream",
     "text": [
      "5 > 5\n",
      "16 > 5,16\n",
      "29 > 5,0,8,32,29\n",
      "10 > 5,10\n",
      "24 > 5,0,31,24\n",
      "18 > 5,0,8,32,18\n",
      "25 > 5,0,31,25\n",
      "15 > 5,0,8,32,15\n",
      "26 > 5,0,19,33,26\n",
      "9 > 5,0,2,9\n",
      "8 > 5,0,8\n",
      "1 > 5,0,1\n",
      "32 > 5,0,8,32\n",
      "27 > 5,0,2,27\n",
      "3 > 5,0,3\n",
      "0 > 5,0\n",
      "20 > 5,0,8,32,20\n",
      "11 > 5,0,11\n",
      "28 > 5,0,31,28\n",
      "19 > 5,0,19\n",
      "4 > 5,6,4\n",
      "30 > 5,0,8,30\n",
      "21 > 5,0,21\n",
      "6 > 5,6\n",
      "23 > 5,0,2,27,23\n",
      "14 > 5,0,8,32,14\n",
      "33 > 5,0,19,33\n",
      "7 > 5,0,7\n",
      "31 > 5,0,31\n",
      "12 > 5,0,12\n",
      "13 > 5,0,13\n",
      "17 > 5,0,17\n",
      "22 > 5,0,8,32,22\n",
      "2 > 5,0,2\n"
     ]
    }
   ],
   "source": [
    "node2path = nx.shortest_path(graph, source=\"5\")\n",
    "\n",
    "# print node, then a '>', then a path starting from that node as a \n",
    "# list of comma-separated node names:\n",
    "\n",
    "for n in node2path:\n",
    "    print(n, \">\", \",\".join(node2path[n]))"
   ]
  },
  {
   "cell_type": "code",
   "execution_count": 64,
   "metadata": {
    "slideshow": {
     "slide_type": "subslide"
    }
   },
   "outputs": [
    {
     "name": "stdout",
     "output_type": "stream",
     "text": [
      "{'18': 3, '5': 2, '28': 2, '16': 3, '19': 2, '32': 2, '4': 2, '30': 2, '21': 2, '17': 2, '29': 3, '8': 2, '24': 3, '2': 1, '10': 2, '15': 3, '14': 3, '33': 2, '26': 3, '9': 2, '7': 1, '11': 2, '1': 1, '31': 2, '12': 1, '27': 2, '23': 3, '13': 1, '3': 0, '25': 3, '0': 1, '20': 3, '22': 3, '6': 2}\n"
     ]
    }
   ],
   "source": [
    "print(nx.shortest_path_length(graph, source=\"3\"))"
   ]
  },
  {
   "cell_type": "markdown",
   "metadata": {
    "slideshow": {
     "slide_type": "fragment"
    }
   },
   "source": [
    "(Need to get the node names exactly right in NX.)"
   ]
  },
  {
   "cell_type": "markdown",
   "metadata": {
    "slideshow": {
     "slide_type": "slide"
    }
   },
   "source": [
    "### Working with network data:\n",
    "\n",
    "Let's dig into the **degree distribution** $P(k)$. We can easily compute a list of the degrees of each node: "
   ]
  },
  {
   "cell_type": "code",
   "execution_count": 68,
   "metadata": {
    "slideshow": {
     "slide_type": "fragment"
    }
   },
   "outputs": [
    {
     "data": {
      "text/plain": [
       "DegreeView({'5': 4, '28': 3, '16': 2, '19': 3, '11': 1, '4': 3, '30': 4, '21': 2, '25': 3, '29': 4, '8': 5, '24': 3, '0': 16, '18': 2, '10': 3, '15': 2, '14': 2, '1': 9, '26': 2, '9': 2, '7': 4, '33': 17, '6': 4, '32': 12, '31': 6, '12': 2, '27': 4, '23': 5, '13': 5, '3': 6, '17': 2, '20': 2, '22': 2, '2': 10})"
      ]
     },
     "execution_count": 68,
     "metadata": {},
     "output_type": "execute_result"
    }
   ],
   "source": [
    "degrees = graph.degree()\n",
    "degrees"
   ]
  },
  {
   "cell_type": "code",
   "execution_count": 74,
   "metadata": {
    "slideshow": {
     "slide_type": "subslide"
    }
   },
   "outputs": [
    {
     "data": {
      "text/plain": [
       "[4,\n",
       " 2,\n",
       " 3,\n",
       " 1,\n",
       " 3,\n",
       " 4,\n",
       " 2,\n",
       " 3,\n",
       " 4,\n",
       " 4,\n",
       " 3,\n",
       " 2,\n",
       " 3,\n",
       " 2,\n",
       " 2,\n",
       " 9,\n",
       " 2,\n",
       " 2,\n",
       " 5,\n",
       " 2,\n",
       " 4,\n",
       " 10,\n",
       " 17,\n",
       " 12,\n",
       " 6,\n",
       " 2,\n",
       " 3,\n",
       " 5,\n",
       " 5,\n",
       " 6,\n",
       " 16,\n",
       " 2,\n",
       " 2,\n",
       " 4]"
      ]
     },
     "execution_count": 74,
     "metadata": {},
     "output_type": "execute_result"
    }
   ],
   "source": [
    "list_degrees = [degrees[x] for x in list(graph.nodes)]\n",
    "list_degrees"
   ]
  },
  {
   "cell_type": "markdown",
   "metadata": {
    "slideshow": {
     "slide_type": "subslide"
    }
   },
   "source": [
    "Then we can use the histogram to measure how many nodes have degreen 1, degree 2, ....\n",
    "\n",
    "But this is integer-valued data, so we should use our trusty **Counter**, not bin it."
   ]
  },
  {
   "cell_type": "code",
   "execution_count": null,
   "metadata": {
    "collapsed": true,
    "slideshow": {
     "slide_type": "fragment"
    }
   },
   "outputs": [],
   "source": [
    "import collections\n",
    "\n",
    "# remember this function?\n",
    "def hist_integer_data(data, xlabel=None, ylabel=None,color=\"red\"):\n",
    "    \"\"\"Compute a histogram for `data` using its unique\n",
    "    values. Returns X- and Y-data for a plot. Example:\n",
    "    \n",
    "    >>> x,numX = hist_integer_data(data)\n",
    "    \n",
    "    If xlabel, ylabel are given, plots the histogram\n",
    "    directly using some basic settings.\n",
    "    \"\"\"\n",
    "    \n",
    "    value2count = collections.Counter(data)\n",
    "    value_count = sorted(value2count.items())\n",
    "    value,count = zip(*value_count) # unzip\n",
    "    \n",
    "    if xlabel is not None and ylabel is not None:\n",
    "        # subtract 0.5 for plotting purposes\n",
    "        # (assumes bins are 1-unit wide!)\n",
    "        Xs = [v - 0.5 for v in value]\n",
    "        plt.bar(Xs,count, fc=color,ec=color)\n",
    "        plt.xlabel(xlabel)\n",
    "        plt.ylabel(ylabel)\n",
    "        plt.show()\n",
    "    \n",
    "    return value,count"
   ]
  },
  {
   "cell_type": "code",
   "execution_count": 75,
   "metadata": {
    "slideshow": {
     "slide_type": "subslide"
    }
   },
   "outputs": [
    {
     "data": {
      "image/png": "[encoded data removed]",
      "text/plain": [
       "<matplotlib.figure.Figure at 0x107299fd0>"
      ]
     },
     "metadata": {},
     "output_type": "display_data"
    },
    {
     "data": {
      "image/png": "[encoded data removed]",
      "text/plain": [
       "<matplotlib.figure.Figure at 0x107299048>"
      ]
     },
     "metadata": {},
     "output_type": "display_data"
    }
   ],
   "source": [
    "Ks, Ns = hist_integer_data(list_degrees, \"k\", \"N(k)\")\n",
    "\n",
    "# normalize counts to get probability:\n",
    "Ps = [1.0*n/sum(Ns) for n in Ns]\n",
    "Ks = [v - 0.5 for v in Ks]\n",
    "\n",
    "plt.bar(Ks,Ps, fc=\"blue\",ec=\"blue\")\n",
    "plt.xlabel(\"k\")\n",
    "plt.ylabel(\"P(k)\")\n",
    "plt.show()"
   ]
  },
  {
   "cell_type": "markdown",
   "metadata": {
    "slideshow": {
     "slide_type": "subslide"
    }
   },
   "source": [
    "This network is very small, so the degree distribution looks pretty rough.\n",
    "\n",
    "Let's generate a large network from some algorithm, and look at its degree distribution:"
   ]
  },
  {
   "cell_type": "code",
   "execution_count": 78,
   "metadata": {
    "slideshow": {
     "slide_type": "subslide"
    }
   },
   "outputs": [
    {
     "name": "stdout",
     "output_type": "stream",
     "text": [
      "Name: \n",
      "Type: Graph\n",
      "Number of nodes: 5000\n",
      "Number of edges: 12282\n",
      "Average degree:   4.9128\n"
     ]
    },
    {
     "data": {
      "image/png": "[encoded data removed]",
      "text/plain": [
       "<matplotlib.figure.Figure at 0x1072a7a58>"
      ]
     },
     "metadata": {},
     "output_type": "display_data"
    }
   ],
   "source": [
    "G1 = nx.erdos_renyi_graph(5000, 0.001) # some method with some parameters:\n",
    "print(nx.info(G1))\n",
    "\n",
    "\n",
    "list_degrees = [G1.degree()[x] for x in list(G1.nodes)]\n",
    "Ks, Ns = hist_integer_data(list_degrees, \"k\", \"N(k)\")"
   ]
  },
  {
   "cell_type": "markdown",
   "metadata": {
    "slideshow": {
     "slide_type": "subslide"
    }
   },
   "source": [
    "Looking at the degree stats (from `nx.info`) the average degree is around 5, the maximum degree is 15 (see the plot). So I would argue that this network (whatever it is) **no hubs**.\n",
    "\n",
    "Let's make another network of the same size:"
   ]
  },
  {
   "cell_type": "code",
   "execution_count": 79,
   "metadata": {
    "slideshow": {
     "slide_type": "subslide"
    }
   },
   "outputs": [
    {
     "name": "stdout",
     "output_type": "stream",
     "text": [
      "Name: \n",
      "Type: Graph\n",
      "Number of nodes: 5000\n",
      "Number of edges: 9996\n",
      "Average degree:   3.9984\n"
     ]
    },
    {
     "data": {
      "image/png": "[encoded data removed]",
      "text/plain": [
       "<matplotlib.figure.Figure at 0x1072b5ac8>"
      ]
     },
     "metadata": {},
     "output_type": "display_data"
    }
   ],
   "source": [
    "G2 = nx.barabasi_albert_graph(5000, 2) # some method with some parameters:\n",
    "print(nx.info(G2))\n",
    "\n",
    "\n",
    "list_degrees = [G2.degree()[x] for x in list(G2.nodes)]\n",
    "Ks, Ns = hist_integer_data(list_degrees, \"k\", \"N(k)\", color=niceblu)"
   ]
  },
  {
   "cell_type": "markdown",
   "metadata": {
    "slideshow": {
     "slide_type": "subslide"
    }
   },
   "source": [
    "That looks very different, some nodes have **huge** degree. But it's a little hard to see the distribution. Logarithmic axes to the rescue!"
   ]
  },
  {
   "cell_type": "code",
   "execution_count": 80,
   "metadata": {
    "slideshow": {
     "slide_type": "subslide"
    }
   },
   "outputs": [
    {
     "data": {
      "image/png": "[encoded data removed]",
      "text/plain": [
       "<matplotlib.figure.Figure at 0x107462ac8>"
      ]
     },
     "metadata": {},
     "output_type": "display_data"
    }
   ],
   "source": [
    "# just do a scatter plot of points at the tops of the bins:\n",
    "\n",
    "plt.loglog(Ks, Ns, 'o')\n",
    "plt.xlabel(\"degree k\")\n",
    "plt.ylabel(\"N(k)\")\n",
    "plt.show()"
   ]
  },
  {
   "cell_type": "markdown",
   "metadata": {
    "slideshow": {
     "slide_type": "subslide"
    }
   },
   "source": [
    "#### Moral of the story\n",
    "\n",
    "We can bring back our data visualization techniques, like histograms, to explore network data. "
   ]
  },
  {
   "cell_type": "markdown",
   "metadata": {
    "slideshow": {
     "slide_type": "subslide"
    }
   },
   "source": [
    "### Moving forward\n",
    "\n",
    "Many more things to do with these networks. For example we can (roughly) draw them:"
   ]
  },
  {
   "cell_type": "code",
   "execution_count": 82,
   "metadata": {
    "slideshow": {
     "slide_type": "subslide"
    }
   },
   "outputs": [
    {
     "data": {
      "image/png": "[encoded data removed]",
      "text/plain": [
       "<matplotlib.figure.Figure at 0x1079bb4a8>"
      ]
     },
     "metadata": {},
     "output_type": "display_data"
    },
    {
     "data": {
      "image/png": "[encoded data removed]",
      "text/plain": [
       "<matplotlib.figure.Figure at 0x1072ebba8>"
      ]
     },
     "metadata": {},
     "output_type": "display_data"
    }
   ],
   "source": [
    "plt.figure(figsize=(7,7))\n",
    "\n",
    "nx.draw(graph)\n",
    "plt.show()"
   ]
  },
  {
   "cell_type": "code",
   "execution_count": 83,
   "metadata": {
    "slideshow": {
     "slide_type": "subslide"
    }
   },
   "outputs": [
    {
     "data": {
      "image/png": "[encoded data removed]",
      "text/plain": [
       "<matplotlib.figure.Figure at 0x107210470>"
      ]
     },
     "metadata": {},
     "output_type": "display_data"
    }
   ],
   "source": [
    "plt.figure(figsize=(7,7))\n",
    "nx.draw_circular(graph)\n",
    "plt.show()"
   ]
  },
  {
   "cell_type": "code",
   "execution_count": 85,
   "metadata": {
    "slideshow": {
     "slide_type": "subslide"
    }
   },
   "outputs": [
    {
     "data": {
      "text/plain": [
       "<matplotlib.figure.Figure at 0x10745f438>"
      ]
     },
     "metadata": {},
     "output_type": "display_data"
    },
    {
     "data": {
      "image/png": "[encoded data removed]",
      "text/plain": [
       "<matplotlib.figure.Figure at 0x107473208>"
      ]
     },
     "metadata": {},
     "output_type": "display_data"
    }
   ],
   "source": [
    "plt.figure(figsize=(7,7))\n",
    "nx.draw_spring(graph)\n",
    "plt.show()"
   ]
  },
  {
   "cell_type": "markdown",
   "metadata": {
    "slideshow": {
     "slide_type": "subslide"
    }
   },
   "source": [
    "This is pretty ugly, but it may be OK for debugging purposes, etc.\n",
    "\n",
    "* Networkx has [a nice online gallery](http://networkx.github.io/documentation/latest/gallery.html) of other, fancier drawings.\n",
    "\n",
    "* We will cover graph drawing in detail in the future."
   ]
  },
  {
   "cell_type": "markdown",
   "metadata": {
    "slideshow": {
     "slide_type": "slide"
    }
   },
   "source": [
    "# Summary"
   ]
  },
  {
   "cell_type": "markdown",
   "metadata": {
    "slideshow": {
     "slide_type": "fragment"
    }
   },
   "source": [
    "* Networks are very general beasts that can represent very different types of systems.\n",
    "    + Lots of jargon and vocab, but most of it is fairly intuitive."
   ]
  },
  {
   "cell_type": "markdown",
   "metadata": {
    "slideshow": {
     "slide_type": "fragment"
    }
   },
   "source": [
    "* Common/easy methods of storing/representing networks include **edgelists**, **adjacencey lists**, and **adjacency matrices**."
   ]
  },
  {
   "cell_type": "markdown",
   "metadata": {
    "slideshow": {
     "slide_type": "fragment"
    }
   },
   "source": [
    "* Fancier file formats like **GraphML** or GML (which is not the same thing!) are handy if you don't need to write your own parsers. These are often used by big network toolboxes."
   ]
  },
  {
   "cell_type": "markdown",
   "metadata": {
    "slideshow": {
     "slide_type": "fragment"
    }
   },
   "source": [
    "* We can use our existing techniques on networks by computing statistics such as the degrees of nodes. "
   ]
  },
  {
   "cell_type": "markdown",
   "metadata": {
    "slideshow": {
     "slide_type": "fragment"
    }
   },
   "source": [
    "* Networkx has lots of goodies for working with networks. Highly recommended."
   ]
  }
 ],
 "metadata": {
  "kernelspec": {
   "display_name": "Python 3",
   "language": "python",
   "name": "python3"
  },
  "language_info": {
   "codemirror_mode": {
    "name": "ipython",
    "version": 3
   },
   "file_extension": ".py",
   "mimetype": "text/x-python",
   "name": "python",
   "nbconvert_exporter": "python",
   "pygments_lexer": "ipython3",
   "version": "3.8.2"
  }
 },
 "nbformat": 4,
 "nbformat_minor": 1
}

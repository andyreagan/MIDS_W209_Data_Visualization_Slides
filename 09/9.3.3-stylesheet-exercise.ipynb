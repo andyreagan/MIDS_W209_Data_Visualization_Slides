{
 "cells": [
  {
   "cell_type": "code",
   "execution_count": 8,
   "metadata": {
    "collapsed": false
   },
   "outputs": [],
   "source": [
    "%matplotlib inline\n",
    "import matplotlib.pyplot as plt\n",
    "import numpy as np"
   ]
  },
  {
   "cell_type": "code",
   "execution_count": 9,
   "metadata": {
    "collapsed": true
   },
   "outputs": [],
   "source": [
    "import json"
   ]
  },
  {
   "cell_type": "code",
   "execution_count": 10,
   "metadata": {
    "collapsed": false
   },
   "outputs": [
    {
     "data": {
      "text/plain": [
       "<matplotlib.figure.Figure at 0x109918470>"
      ]
     },
     "metadata": {},
     "output_type": "display_data"
    }
   ],
   "source": [
    "with plt.style.context(('accurat')):\n",
    "    fig = plt.figure()"
   ]
  },
  {
   "cell_type": "code",
   "execution_count": 13,
   "metadata": {
    "collapsed": false
   },
   "outputs": [
    {
     "data": {
      "text/plain": [
       "[{'ages': [23],\n",
       "  'alive': False,\n",
       "  'death_age': 50,\n",
       "  'name': 'Carson McCullers',\n",
       "  'ranks': [17],\n",
       "  'titles': ['Columbus']},\n",
       " {'ages': [25],\n",
       "  'alive': False,\n",
       "  'death_age': 84,\n",
       "  'name': 'Norman Mailer',\n",
       "  'ranks': [51],\n",
       "  'titles': ['Long Branch']},\n",
       " {'ages': [27, 30],\n",
       "  'alive': False,\n",
       "  'death_age': 62,\n",
       "  'name': 'Ernest Hemingway',\n",
       "  'ranks': [45, 74],\n",
       "  'titles': ['Oak Park']}]"
      ]
     },
     "execution_count": 13,
     "metadata": {},
     "output_type": "execute_result"
    }
   ],
   "source": [
    "d = json.loads(open(\"data.json\",\"r\").read())\n",
    "d"
   ]
  },
  {
   "cell_type": "code",
   "execution_count": 45,
   "metadata": {
    "collapsed": false
   },
   "outputs": [
    {
     "data": {
      "image/png": "[encoded data removed]",
      "text/plain": [
       "<matplotlib.figure.Figure at 0x109cc75f8>"
      ]
     },
     "metadata": {},
     "output_type": "display_data"
    }
   ],
   "source": [
    "fig = plt.figure(figsize=(12,4))\n",
    "ax = fig.add_axes([.2,.2,.7,.7])\n",
    "\n",
    "for i,author in enumerate(d):\n",
    "    x = np.arange(0,author[\"death_age\"],.1)\n",
    "    smoothed = np.zeros(len(x))\n",
    "    ax = plt.subplot(len(d),1,i+1)\n",
    "    for year in author[\"ages\"]:\n",
    "        for sigma in np.linspace(1.2,20,num=100):\n",
    "            y = .005+1/(2*np.pi*(sigma**2))*np.exp(-(x - year)**2/(2*(sigma**2)))\n",
    "            smoothed = np.maximum(smoothed,y)\n",
    "    ax.fill_between(x,np.zeros(len(x)),smoothed)\n",
    "    ax.set_ylim([0,.18])\n",
    "    ax.set_xlim([0,100])"
   ]
  },
  {
   "cell_type": "code",
   "execution_count": null,
   "metadata": {
    "collapsed": true
   },
   "outputs": [],
   "source": []
  }
 ],
 "metadata": {
  "kernelspec": {
   "display_name": "Python 3",
   "language": "python",
   "name": "python3"
  },
  "language_info": {
   "codemirror_mode": {
    "name": "ipython",
    "version": 3
   },
   "file_extension": ".py",
   "mimetype": "text/x-python",
   "name": "python",
   "nbconvert_exporter": "python",
   "pygments_lexer": "ipython3",
   "version": "3.5.1"
  }
 },
 "nbformat": 4,
 "nbformat_minor": 0
}

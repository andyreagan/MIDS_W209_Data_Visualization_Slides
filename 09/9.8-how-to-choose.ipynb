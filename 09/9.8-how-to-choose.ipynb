{
 "cells": [
  {
   "cell_type": "code",
   "execution_count": 1,
   "metadata": {
    "collapsed": false
   },
   "outputs": [
    {
     "data": {
      "text/latex": [
       "\\begin{tabular}{cc}\n",
       "Software & Language\\\\\n",
       "\\hline\n",
       "Tableau & GUI\\\\\n",
       "Matplotlib & Python\\\\\n",
       "Bokeh & Python/JS\\\\\n",
       "D3 & JS\\\\\n",
       "\\end{tabular}"
      ],
      "text/plain": [
       "<IPython.core.display.Latex object>"
      ]
     },
     "metadata": {},
     "output_type": "display_data"
    }
   ],
   "source": [
    "%%latex\n",
    "\\begin{tabular}{cc}\n",
    "Software & Language\\\\\n",
    "\\hline\n",
    "Tableau & GUI\\\\\n",
    "Matplotlib & Python\\\\\n",
    "Bokeh & Python/JS\\\\\n",
    "D3 & JS\\\\\n",
    "\\end{tabular}"
   ]
  },
  {
   "cell_type": "markdown",
   "metadata": {},
   "source": [
    "Python tools:\n",
    "\n",
    "Software | Language | Scriptable | GUI | Custom Interaction | Custom Graph Types | Dashboards | Export\n",
    "--- | ---\n",
    "Matplotlib (MPL) | Python (various backends) | Y | N | N | M | N | Y\n",
    "Seaborn | Python/MPL | Y | N | Y | N | Y | Y\n",
    "Bokeh | Python API | Y | N | Y | N | Y | Y\n",
    "Plotly | Python API | Y | Y | Y | N | Y | N\n",
    "Vega-Lite | Python API | Y | M | Y | N | M | ?\n",
    "\n",
    "Others:\n",
    "\n",
    "Software | Language\n",
    "--- | ---\n",
    "Pen & Paper | Meatspace\n",
    "Tableau | GUI\n",
    "D3 | JS\n",
    "GNU Plot | C/Shell\n",
    "VTK | C++/GUI\n",
    "Illustrator | GUI\n",
    "\n",
    "Specific:\n",
    "\n",
    "Toolkit | Language\n",
    "--- | ---\n",
    "Cartopy | Python\n",
    "Basemap | Python\n",
    "Mapbox | GUI/JS\n",
    "Leaflet | JS\n",
    "NetworkX | Python\n",
    "Gephi | GUI"
   ]
  },
  {
   "cell_type": "code",
   "execution_count": null,
   "metadata": {
    "collapsed": true
   },
   "outputs": [],
   "source": []
  }
 ],
 "metadata": {
  "kernelspec": {
   "display_name": "Python 3",
   "language": "python",
   "name": "python3"
  },
  "language_info": {
   "codemirror_mode": {
    "name": "ipython",
    "version": 3
   },
   "file_extension": ".py",
   "mimetype": "text/x-python",
   "name": "python",
   "nbconvert_exporter": "python",
   "pygments_lexer": "ipython3",
   "version": "3.5.1"
  }
 },
 "nbformat": 4,
 "nbformat_minor": 0
}

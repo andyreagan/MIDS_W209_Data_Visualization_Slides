{
 "cells": [
  {
   "cell_type": "markdown",
   "metadata": {},
   "source": [
    "let's embed some d3 in this notebook!\n",
    "\n",
    "various blogs have some ideas on how to do it...but we're going to roll our own method\n",
    "\n",
    "here they are anyway\n",
    "\n",
    "- http://blog.thedataincubator.com/2015/08/embedding-d3-in-an-ipython-notebook/\n",
    "- https://github.com/cmoscardi/embedded_d3_example/blob/master/Embedded_D3.ipynb\n",
    "- http://www.machinalis.com/blog/embedding-interactive-charts-on-an-ipython-nb/\n",
    "- http://requirejs.org/docs/api.html#jsfiles\n",
    "- http://stackoverflow.com/questions/16852885/ipython-adding-javascript-scripts-to-ipython-notebook\n",
    "- http://yznotes.com/interactive-c3-jsd3-js-charts-inside-jupyter-notebook/\n"
   ]
  },
  {
   "cell_type": "code",
   "execution_count": null,
   "metadata": {
    "collapsed": true
   },
   "outputs": [],
   "source": []
  }
 ],
 "metadata": {
  "kernelspec": {
   "display_name": "Python 3",
   "language": "python",
   "name": "python3"
  },
  "language_info": {
   "codemirror_mode": {
    "name": "ipython",
    "version": 3
   },
   "file_extension": ".py",
   "mimetype": "text/x-python",
   "name": "python",
   "nbconvert_exporter": "python",
   "pygments_lexer": "ipython3",
   "version": "3.5.1"
  }
 },
 "nbformat": 4,
 "nbformat_minor": 0
}

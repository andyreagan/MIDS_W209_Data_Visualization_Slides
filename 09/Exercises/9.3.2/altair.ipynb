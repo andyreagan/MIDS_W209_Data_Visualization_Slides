{
 "cells": [
  {
   "cell_type": "code",
   "execution_count": 24,
   "metadata": {
    "collapsed": true,
    "extensions": {
     "jupyter_dashboards": {
      "version": 1,
      "views": {
       "grid_default": {
        "hidden": true
       },
       "report_default": {}
      }
     }
    }
   },
   "outputs": [],
   "source": [
    "import pandas as pd\n",
    "import matplotlib.pyplot as plt\n",
    "import numpy as np\n",
    "%matplotlib inline\n",
    "import altair as alt\n",
    "# alt.enable_mime_rendering()"
   ]
  },
  {
   "cell_type": "code",
   "execution_count": 10,
   "metadata": {
    "extensions": {
     "jupyter_dashboards": {
      "version": 1,
      "views": {
       "grid_default": {
        "hidden": true
       },
       "report_default": {}
      }
     }
    }
   },
   "outputs": [
    {
     "data": {
      "text/html": [
       "<div>\n",
       "<table border=\"1\" class=\"dataframe\">\n",
       "  <thead>\n",
       "    <tr style=\"text-align: right;\">\n",
       "      <th></th>\n",
       "      <th>a</th>\n",
       "      <th>b</th>\n",
       "    </tr>\n",
       "  </thead>\n",
       "  <tbody>\n",
       "    <tr>\n",
       "      <th>0</th>\n",
       "      <td>C</td>\n",
       "      <td>2</td>\n",
       "    </tr>\n",
       "    <tr>\n",
       "      <th>1</th>\n",
       "      <td>C</td>\n",
       "      <td>7</td>\n",
       "    </tr>\n",
       "    <tr>\n",
       "      <th>2</th>\n",
       "      <td>C</td>\n",
       "      <td>4</td>\n",
       "    </tr>\n",
       "    <tr>\n",
       "      <th>3</th>\n",
       "      <td>D</td>\n",
       "      <td>1</td>\n",
       "    </tr>\n",
       "    <tr>\n",
       "      <th>4</th>\n",
       "      <td>D</td>\n",
       "      <td>2</td>\n",
       "    </tr>\n",
       "    <tr>\n",
       "      <th>5</th>\n",
       "      <td>D</td>\n",
       "      <td>6</td>\n",
       "    </tr>\n",
       "    <tr>\n",
       "      <th>6</th>\n",
       "      <td>E</td>\n",
       "      <td>8</td>\n",
       "    </tr>\n",
       "    <tr>\n",
       "      <th>7</th>\n",
       "      <td>E</td>\n",
       "      <td>4</td>\n",
       "    </tr>\n",
       "    <tr>\n",
       "      <th>8</th>\n",
       "      <td>E</td>\n",
       "      <td>7</td>\n",
       "    </tr>\n",
       "  </tbody>\n",
       "</table>\n",
       "</div>"
      ],
      "text/plain": [
       "   a  b\n",
       "0  C  2\n",
       "1  C  7\n",
       "2  C  4\n",
       "3  D  1\n",
       "4  D  2\n",
       "5  D  6\n",
       "6  E  8\n",
       "7  E  4\n",
       "8  E  7"
      ]
     },
     "execution_count": 10,
     "metadata": {},
     "output_type": "execute_result"
    }
   ],
   "source": [
    "df = pd.read_csv(\"data/Lekagul-Sensor-Data.csv\")\n",
    "data = pd.DataFrame({'a': list('CCCDDDEEE'),\n",
    "                     'b': [2, 7, 4, 1, 2, 6, 8, 4, 7]})\n",
    "data"
   ]
  },
  {
   "cell_type": "code",
   "execution_count": 11,
   "metadata": {},
   "outputs": [
    {
     "data": {
      "text/html": [
       "<div class=\"vega-embed\" id=\"35ebb538-8076-4548-89fc-c1a81cb41e09\"></div>\n",
       "\n",
       "<style>\n",
       ".vega-embed svg, .vega-embed canvas {\n",
       "  border: 1px dotted gray;\n",
       "}\n",
       "\n",
       ".vega-embed .vega-actions a {\n",
       "  margin-right: 6px;\n",
       "}\n",
       "</style>\n"
      ]
     },
     "metadata": {
      "jupyter-vega": "#35ebb538-8076-4548-89fc-c1a81cb41e09"
     },
     "output_type": "display_data"
    },
    {
     "data": {
      "application/javascript": [
       "var spec = {\"$schema\": \"https://vega.github.io/schema/vega-lite/v1.2.1.json\", \"mark\": \"point\", \"config\": {\"cell\": {\"width\": 500, \"height\": 350}}, \"data\": {\"values\": [{\"a\": \"C\", \"b\": 2}, {\"a\": \"C\", \"b\": 7}, {\"a\": \"C\", \"b\": 4}, {\"a\": \"D\", \"b\": 1}, {\"a\": \"D\", \"b\": 2}, {\"a\": \"D\", \"b\": 6}, {\"a\": \"E\", \"b\": 8}, {\"a\": \"E\", \"b\": 4}, {\"a\": \"E\", \"b\": 7}]}};\n",
       "var selector = \"#35ebb538-8076-4548-89fc-c1a81cb41e09\";\n",
       "var type = \"vega-lite\";\n",
       "\n",
       "var output_area = this;\n",
       "require(['nbextensions/jupyter-vega/index'], function(vega) {\n",
       "  vega.render(selector, spec, type, output_area);\n",
       "}, function (err) {\n",
       "  if (err.requireType !== 'scripterror') {\n",
       "    throw(err);\n",
       "  }\n",
       "});\n"
      ]
     },
     "metadata": {
      "jupyter-vega": "#35ebb538-8076-4548-89fc-c1a81cb41e09"
     },
     "output_type": "display_data"
    },
    {
     "data": {
      "image/png": "[encoded data removed]"
     },
     "metadata": {
      "jupyter-vega": "#35ebb538-8076-4548-89fc-c1a81cb41e09"
     },
     "output_type": "display_data"
    }
   ],
   "source": [
    "chart = alt.Chart(data).mark_point()\n",
    "chart"
   ]
  },
  {
   "cell_type": "code",
   "execution_count": 3,
   "metadata": {
    "extensions": {
     "jupyter_dashboards": {
      "version": 1,
      "views": {
       "grid_default": {
        "col": 0,
        "height": 4,
        "hidden": true,
        "row": 0,
        "width": 4
       },
       "report_default": {}
      }
     }
    }
   },
   "outputs": [
    {
     "data": {
      "text/plain": [
       "(171477, 4)"
      ]
     },
     "execution_count": 3,
     "metadata": {},
     "output_type": "execute_result"
    }
   ],
   "source": [
    "df.shape"
   ]
  },
  {
   "cell_type": "code",
   "execution_count": 4,
   "metadata": {
    "extensions": {
     "jupyter_dashboards": {
      "version": 1,
      "views": {
       "grid_default": {
        "col": 4,
        "height": 4,
        "hidden": true,
        "row": 0,
        "width": 4
       },
       "report_default": {}
      }
     }
    }
   },
   "outputs": [
    {
     "data": {
      "text/plain": [
       "Index(['Timestamp', 'car-id', 'car-type', 'gate-name'], dtype='object')"
      ]
     },
     "execution_count": 4,
     "metadata": {},
     "output_type": "execute_result"
    }
   ],
   "source": [
    "df.columns"
   ]
  },
  {
   "cell_type": "code",
   "execution_count": 5,
   "metadata": {
    "extensions": {
     "jupyter_dashboards": {
      "version": 1,
      "views": {
       "grid_default": {
        "col": 9,
        "height": 17,
        "hidden": false,
        "row": 0,
        "width": 3
       },
       "report_default": {}
      }
     }
    }
   },
   "outputs": [
    {
     "data": {
      "text/html": [
       "<div>\n",
       "<table border=\"1\" class=\"dataframe\">\n",
       "  <thead>\n",
       "    <tr style=\"text-align: right;\">\n",
       "      <th></th>\n",
       "      <th>Timestamp</th>\n",
       "      <th>car-id</th>\n",
       "      <th>car-type</th>\n",
       "      <th>gate-name</th>\n",
       "    </tr>\n",
       "  </thead>\n",
       "  <tbody>\n",
       "    <tr>\n",
       "      <th>0</th>\n",
       "      <td>2015-05-01 00:43:28</td>\n",
       "      <td>20154301124328-262</td>\n",
       "      <td>4</td>\n",
       "      <td>entrance3</td>\n",
       "    </tr>\n",
       "    <tr>\n",
       "      <th>1</th>\n",
       "      <td>2015-05-01 01:03:48</td>\n",
       "      <td>20154301124328-262</td>\n",
       "      <td>4</td>\n",
       "      <td>general-gate1</td>\n",
       "    </tr>\n",
       "    <tr>\n",
       "      <th>2</th>\n",
       "      <td>2015-05-01 01:06:24</td>\n",
       "      <td>20154301124328-262</td>\n",
       "      <td>4</td>\n",
       "      <td>ranger-stop2</td>\n",
       "    </tr>\n",
       "    <tr>\n",
       "      <th>3</th>\n",
       "      <td>2015-05-01 01:09:25</td>\n",
       "      <td>20154301124328-262</td>\n",
       "      <td>4</td>\n",
       "      <td>ranger-stop0</td>\n",
       "    </tr>\n",
       "    <tr>\n",
       "      <th>4</th>\n",
       "      <td>2015-05-01 01:12:36</td>\n",
       "      <td>20154301124328-262</td>\n",
       "      <td>4</td>\n",
       "      <td>general-gate2</td>\n",
       "    </tr>\n",
       "    <tr>\n",
       "      <th>5</th>\n",
       "      <td>2015-05-01 01:24:02</td>\n",
       "      <td>20154301124328-262</td>\n",
       "      <td>4</td>\n",
       "      <td>general-gate5</td>\n",
       "    </tr>\n",
       "    <tr>\n",
       "      <th>6</th>\n",
       "      <td>2015-05-01 01:31:41</td>\n",
       "      <td>20153101013141-937</td>\n",
       "      <td>1</td>\n",
       "      <td>entrance3</td>\n",
       "    </tr>\n",
       "    <tr>\n",
       "      <th>7</th>\n",
       "      <td>2015-05-01 01:33:57</td>\n",
       "      <td>20154301124328-262</td>\n",
       "      <td>4</td>\n",
       "      <td>entrance4</td>\n",
       "    </tr>\n",
       "    <tr>\n",
       "      <th>8</th>\n",
       "      <td>2015-05-01 01:53:34</td>\n",
       "      <td>20153101013141-937</td>\n",
       "      <td>1</td>\n",
       "      <td>general-gate1</td>\n",
       "    </tr>\n",
       "    <tr>\n",
       "      <th>9</th>\n",
       "      <td>2015-05-01 01:56:20</td>\n",
       "      <td>20153101013141-937</td>\n",
       "      <td>1</td>\n",
       "      <td>ranger-stop2</td>\n",
       "    </tr>\n",
       "  </tbody>\n",
       "</table>\n",
       "</div>"
      ],
      "text/plain": [
       "             Timestamp              car-id car-type      gate-name\n",
       "0  2015-05-01 00:43:28  20154301124328-262        4      entrance3\n",
       "1  2015-05-01 01:03:48  20154301124328-262        4  general-gate1\n",
       "2  2015-05-01 01:06:24  20154301124328-262        4   ranger-stop2\n",
       "3  2015-05-01 01:09:25  20154301124328-262        4   ranger-stop0\n",
       "4  2015-05-01 01:12:36  20154301124328-262        4  general-gate2\n",
       "5  2015-05-01 01:24:02  20154301124328-262        4  general-gate5\n",
       "6  2015-05-01 01:31:41  20153101013141-937        1      entrance3\n",
       "7  2015-05-01 01:33:57  20154301124328-262        4      entrance4\n",
       "8  2015-05-01 01:53:34  20153101013141-937        1  general-gate1\n",
       "9  2015-05-01 01:56:20  20153101013141-937        1   ranger-stop2"
      ]
     },
     "execution_count": 5,
     "metadata": {},
     "output_type": "execute_result"
    }
   ],
   "source": [
    "df.head(10)"
   ]
  },
  {
   "cell_type": "code",
   "execution_count": 6,
   "metadata": {
    "extensions": {
     "jupyter_dashboards": {
      "version": 1,
      "views": {
       "grid_default": {
        "col": 0,
        "height": 4,
        "hidden": true,
        "row": 0,
        "width": 4
       },
       "report_default": {}
      }
     }
    }
   },
   "outputs": [
    {
     "data": {
      "text/plain": [
       "Timestamp    object\n",
       "car-id       object\n",
       "car-type     object\n",
       "gate-name    object\n",
       "dtype: object"
      ]
     },
     "execution_count": 6,
     "metadata": {},
     "output_type": "execute_result"
    }
   ],
   "source": [
    "df.dtypes"
   ]
  },
  {
   "cell_type": "code",
   "execution_count": 13,
   "metadata": {},
   "outputs": [
    {
     "data": {
      "text/html": [
       "<div class=\"vega-embed\" id=\"78a54a52-6c81-4524-8717-434c6f78721d\"></div>\n",
       "\n",
       "<style>\n",
       ".vega-embed svg, .vega-embed canvas {\n",
       "  border: 1px dotted gray;\n",
       "}\n",
       "\n",
       ".vega-embed .vega-actions a {\n",
       "  margin-right: 6px;\n",
       "}\n",
       "</style>\n"
      ]
     },
     "metadata": {
      "jupyter-vega": "#78a54a52-6c81-4524-8717-434c6f78721d"
     },
     "output_type": "display_data"
    },
    {
     "data": {
      "application/javascript": [
       "var spec = {\"$schema\": \"https://vega.github.io/schema/vega-lite/v1.2.1.json\", \"mark\": \"point\", \"config\": {\"cell\": {\"width\": 500, \"height\": 350}}, \"data\": {\"values\": [{\"Timestamp\": \"2015-09-27 05:04:37\", \"gate-name\": \"general-gate5\", \"car-id\": \"20155527045513-582\", \"car-type\": \"2\"}, {\"Timestamp\": \"2015-08-29 23:38:26\", \"gate-name\": \"entrance2\", \"car-id\": \"20152622012613-387\", \"car-type\": \"2\"}, {\"Timestamp\": \"2015-07-18 09:55:58\", \"gate-name\": \"entrance0\", \"car-id\": \"20155518095558-521\", \"car-type\": \"1\"}, {\"Timestamp\": \"2015-06-29 10:40:11\", \"gate-name\": \"entrance0\", \"car-id\": \"20151129101152-17\", \"car-type\": \"4\"}, {\"Timestamp\": \"2015-10-22 18:32:58\", \"gate-name\": \"entrance1\", \"car-id\": \"20153222053243-478\", \"car-type\": \"3\"}, {\"Timestamp\": \"2016-04-11 14:03:41\", \"gate-name\": \"entrance2\", \"car-id\": \"20160311020341-536\", \"car-type\": \"4\"}, {\"Timestamp\": \"2015-08-10 13:32:28\", \"gate-name\": \"ranger-stop2\", \"car-id\": \"20150710010716-189\", \"car-type\": \"2\"}, {\"Timestamp\": \"2015-09-28 14:37:32\", \"gate-name\": \"entrance0\", \"car-id\": \"20153728023732-586\", \"car-type\": \"3\"}, {\"Timestamp\": \"2015-07-24 08:33:46\", \"gate-name\": \"ranger-stop0\", \"car-id\": \"20150624080630-565\", \"car-type\": \"1\"}, {\"Timestamp\": \"2015-09-29 07:33:37\", \"gate-name\": \"general-gate7\", \"car-id\": \"20152029072047-181\", \"car-type\": \"2\"}, {\"Timestamp\": \"2015-10-09 15:35:06\", \"gate-name\": \"entrance3\", \"car-id\": \"20154809024806-695\", \"car-type\": \"1\"}, {\"Timestamp\": \"2015-07-07 11:52:12\", \"gate-name\": \"general-gate5\", \"car-id\": \"20154107094119-348\", \"car-type\": \"1\"}, {\"Timestamp\": \"2015-07-16 21:17:40\", \"gate-name\": \"camping8\", \"car-id\": \"20152113062104-747\", \"car-type\": \"2\"}, {\"Timestamp\": \"2015-05-15 09:34:52\", \"gate-name\": \"gate8\", \"car-id\": \"20153315093319-548\", \"car-type\": \"2P\"}, {\"Timestamp\": \"2015-06-20 20:48:32\", \"gate-name\": \"entrance1\", \"car-id\": \"20151816031811-238\", \"car-type\": \"1\"}, {\"Timestamp\": \"2015-07-18 14:57:08\", \"gate-name\": \"general-gate7\", \"car-id\": \"20154218024228-691\", \"car-type\": \"1\"}, {\"Timestamp\": \"2015-07-14 18:28:59\", \"gate-name\": \"general-gate4\", \"car-id\": \"20155114055130-358\", \"car-type\": \"1\"}, {\"Timestamp\": \"2015-08-22 19:27:15\", \"gate-name\": \"entrance3\", \"car-id\": \"20152620032609-833\", \"car-type\": \"1\"}, {\"Timestamp\": \"2015-08-28 23:16:50\", \"gate-name\": \"general-gate1\", \"car-id\": \"20155024015031-756\", \"car-type\": \"3\"}, {\"Timestamp\": \"2015-08-09 07:36:15\", \"gate-name\": \"camping5\", \"car-id\": \"20153208083206-395\", \"car-type\": \"2\"}, {\"Timestamp\": \"2015-07-11 14:48:39\", \"gate-name\": \"entrance3\", \"car-id\": \"20152911022907-773\", \"car-type\": \"1\"}, {\"Timestamp\": \"2015-09-28 08:01:53\", \"gate-name\": \"ranger-stop0\", \"car-id\": \"20152722082711-239\", \"car-type\": \"3\"}, {\"Timestamp\": \"2016-02-12 10:25:01\", \"gate-name\": \"general-gate7\", \"car-id\": \"20163512093528-91\", \"car-type\": \"3\"}, {\"Timestamp\": \"2015-09-29 07:59:06\", \"gate-name\": \"entrance2\", \"car-id\": \"20155929075906-108\", \"car-type\": \"3\"}, {\"Timestamp\": \"2015-06-27 16:21:00\", \"gate-name\": \"camping8\", \"car-id\": \"20154927034927-466\", \"car-type\": \"1\"}, {\"Timestamp\": \"2015-11-24 20:42:56\", \"gate-name\": \"ranger-stop4\", \"car-id\": \"20155924055928-624\", \"car-type\": \"2P\"}, {\"Timestamp\": \"2015-06-30 11:23:18\", \"gate-name\": \"camping0\", \"car-id\": \"20154830104827-205\", \"car-type\": \"1\"}, {\"Timestamp\": \"2015-12-26 19:09:37\", \"gate-name\": \"ranger-stop4\", \"car-id\": \"20153326053354-839\", \"car-type\": \"2P\"}, {\"Timestamp\": \"2015-10-24 08:32:10\", \"gate-name\": \"ranger-stop0\", \"car-id\": \"20153924053939-189\", \"car-type\": \"3\"}, {\"Timestamp\": \"2015-07-25 07:42:35\", \"gate-name\": \"general-gate2\", \"car-id\": \"20151025071006-134\", \"car-type\": \"3\"}, {\"Timestamp\": \"2016-05-21 09:47:55\", \"gate-name\": \"entrance4\", \"car-id\": \"20164721094755-199\", \"car-type\": \"4\"}, {\"Timestamp\": \"2015-07-25 06:41:46\", \"gate-name\": \"general-gate2\", \"car-id\": \"20153225063215-100\", \"car-type\": \"2\"}, {\"Timestamp\": \"2016-04-14 13:44:20\", \"gate-name\": \"entrance3\", \"car-id\": \"20165014125038-800\", \"car-type\": \"5\"}, {\"Timestamp\": \"2015-07-05 14:12:59\", \"gate-name\": \"general-gate7\", \"car-id\": \"20152105062116-886\", \"car-type\": \"3\"}, {\"Timestamp\": \"2015-07-10 14:08:02\", \"gate-name\": \"camping6\", \"car-id\": \"20150510020549-282\", \"car-type\": \"1\"}, {\"Timestamp\": \"2015-06-08 07:03:21\", \"gate-name\": \"general-gate2\", \"car-id\": \"20154106094112-225\", \"car-type\": \"1\"}, {\"Timestamp\": \"2015-07-27 16:31:13\", \"gate-name\": \"general-gate4\", \"car-id\": \"20154423094459-117\", \"car-type\": \"2\"}, {\"Timestamp\": \"2015-07-29 23:46:45\", \"gate-name\": \"general-gate2\", \"car-id\": \"20151729111740-777\", \"car-type\": \"6\"}, {\"Timestamp\": \"2015-07-03 08:51:05\", \"gate-name\": \"general-gate7\", \"car-id\": \"20155803075823-463\", \"car-type\": \"1\"}, {\"Timestamp\": \"2015-05-17 10:17:53\", \"gate-name\": \"general-gate1\", \"car-id\": \"20151617101635-486\", \"car-type\": \"5\"}, {\"Timestamp\": \"2016-02-04 14:38:25\", \"gate-name\": \"ranger-stop3\", \"car-id\": \"20160004020008-360\", \"car-type\": \"2P\"}, {\"Timestamp\": \"2015-07-06 19:56:53\", \"gate-name\": \"general-gate7\", \"car-id\": \"20152705092735-661\", \"car-type\": \"1\"}, {\"Timestamp\": \"2015-08-09 15:19:48\", \"gate-name\": \"general-gate5\", \"car-id\": \"20150809020810-28\", \"car-type\": \"1\"}, {\"Timestamp\": \"2015-08-21 05:04:07\", \"gate-name\": \"ranger-stop0\", \"car-id\": \"20153721043708-165\", \"car-type\": \"6\"}, {\"Timestamp\": \"2015-08-31 08:39:03\", \"gate-name\": \"general-gate2\", \"car-id\": \"20151131081108-573\", \"car-type\": \"1\"}, {\"Timestamp\": \"2015-08-08 09:05:35\", \"gate-name\": \"general-gate0\", \"car-id\": \"20154908084949-966\", \"car-type\": \"3\"}, {\"Timestamp\": \"2015-06-23 13:08:51\", \"gate-name\": \"general-gate1\", \"car-id\": \"20153923123928-126\", \"car-type\": \"3\"}, {\"Timestamp\": \"2016-01-03 13:28:21\", \"gate-name\": \"ranger-stop7\", \"car-id\": \"20160403010440-830\", \"car-type\": \"2P\"}, {\"Timestamp\": \"2015-09-05 07:00:02\", \"gate-name\": \"camping3\", \"car-id\": \"20154405054409-981\", \"car-type\": \"1\"}, {\"Timestamp\": \"2015-09-10 12:51:44\", \"gate-name\": \"entrance3\", \"car-id\": \"20152510112541-380\", \"car-type\": \"2\"}, {\"Timestamp\": \"2015-09-06 16:48:06\", \"gate-name\": \"general-gate4\", \"car-id\": \"20150506040523-403\", \"car-type\": \"1\"}, {\"Timestamp\": \"2015-06-08 18:07:56\", \"gate-name\": \"entrance2\", \"car-id\": \"20153107033139-406\", \"car-type\": \"3\"}, {\"Timestamp\": \"2016-04-15 09:42:16\", \"gate-name\": \"general-gate2\", \"car-id\": \"20163115093155-172\", \"car-type\": \"1\"}, {\"Timestamp\": \"2015-06-21 09:23:02\", \"gate-name\": \"camping4\", \"car-id\": \"20151320091309-87\", \"car-type\": \"1\"}, {\"Timestamp\": \"2015-07-03 14:58:09\", \"gate-name\": \"general-gate4\", \"car-id\": \"20154603024631-872\", \"car-type\": \"3\"}, {\"Timestamp\": \"2015-07-27 16:58:44\", \"gate-name\": \"general-gate4\", \"car-id\": \"20153827043811-471\", \"car-type\": \"3\"}, {\"Timestamp\": \"2015-11-06 20:27:17\", \"gate-name\": \"general-gate2\", \"car-id\": \"20155106115123-259\", \"car-type\": \"2P\"}, {\"Timestamp\": \"2015-10-14 00:13:22\", \"gate-name\": \"entrance2\", \"car-id\": \"20151314121322-316\", \"car-type\": \"4\"}, {\"Timestamp\": \"2015-06-04 16:29:25\", \"gate-name\": \"gate5\", \"car-id\": \"20151904031931-289\", \"car-type\": \"2P\"}, {\"Timestamp\": \"2015-07-27 20:46:01\", \"gate-name\": \"ranger-stop0\", \"car-id\": \"20150925050919-689\", \"car-type\": \"3\"}, {\"Timestamp\": \"2015-06-06 05:26:30\", \"gate-name\": \"entrance4\", \"car-id\": \"20152606052630-884\", \"car-type\": \"1\"}, {\"Timestamp\": \"2015-08-03 00:01:21\", \"gate-name\": \"ranger-stop0\", \"car-id\": \"20153302113327-897\", \"car-type\": \"5\"}, {\"Timestamp\": \"2015-07-18 17:00:40\", \"gate-name\": \"ranger-stop0\", \"car-id\": \"20155218045221-583\", \"car-type\": \"1\"}, {\"Timestamp\": \"2015-08-09 13:34:02\", \"gate-name\": \"entrance1\", \"car-id\": \"20153409013402-796\", \"car-type\": \"1\"}, {\"Timestamp\": \"2015-06-10 18:11:47\", \"gate-name\": \"camping2\", \"car-id\": \"20150010050052-231\", \"car-type\": \"1\"}, {\"Timestamp\": \"2016-05-22 12:44:56\", \"gate-name\": \"entrance4\", \"car-id\": \"20163322113328-559\", \"car-type\": \"4\"}, {\"Timestamp\": \"2015-08-07 21:50:38\", \"gate-name\": \"general-gate1\", \"car-id\": \"20151507091534-24\", \"car-type\": \"2\"}, {\"Timestamp\": \"2015-07-23 12:12:15\", \"gate-name\": \"camping7\", \"car-id\": \"20155723115752-52\", \"car-type\": \"2\"}, {\"Timestamp\": \"2015-08-15 17:57:31\", \"gate-name\": \"ranger-stop0\", \"car-id\": \"20152815052849-816\", \"car-type\": \"1\"}, {\"Timestamp\": \"2015-07-29 23:56:17\", \"gate-name\": \"entrance1\", \"car-id\": \"20155629115617-518\", \"car-type\": \"3\"}, {\"Timestamp\": \"2015-11-15 15:01:23\", \"gate-name\": \"general-gate5\", \"car-id\": \"20154815024805-373\", \"car-type\": \"2P\"}, {\"Timestamp\": \"2016-04-01 22:23:19\", \"gate-name\": \"general-gate7\", \"car-id\": \"20160901100946-75\", \"car-type\": \"1\"}, {\"Timestamp\": \"2016-02-07 12:18:26\", \"gate-name\": \"general-gate1\", \"car-id\": \"20164907114917-654\", \"car-type\": \"4\"}, {\"Timestamp\": \"2015-06-22 07:31:34\", \"gate-name\": \"camping4\", \"car-id\": \"20153520033505-60\", \"car-type\": \"1\"}, {\"Timestamp\": \"2015-06-10 16:05:30\", \"gate-name\": \"ranger-stop2\", \"car-id\": \"20153910023920-885\", \"car-type\": \"2P\"}, {\"Timestamp\": \"2015-07-11 15:47:18\", \"gate-name\": \"ranger-base\", \"car-id\": \"20154711034718-337\", \"car-type\": \"2P\"}, {\"Timestamp\": \"2015-11-11 19:11:51\", \"gate-name\": \"gate3\", \"car-id\": \"20155211035238-685\", \"car-type\": \"2P\"}, {\"Timestamp\": \"2015-11-16 21:55:44\", \"gate-name\": \"camping8\", \"car-id\": \"20154016054014-797\", \"car-type\": \"2P\"}, {\"Timestamp\": \"2015-07-24 12:03:41\", \"gate-name\": \"general-gate2\", \"car-id\": \"20154524114509-609\", \"car-type\": \"1\"}, {\"Timestamp\": \"2015-09-12 09:22:58\", \"gate-name\": \"general-gate2\", \"car-id\": \"20154912084901-166\", \"car-type\": \"2\"}, {\"Timestamp\": \"2015-08-16 06:05:20\", \"gate-name\": \"entrance0\", \"car-id\": \"20150516060520-936\", \"car-type\": \"2\"}, {\"Timestamp\": \"2015-09-20 09:47:29\", \"gate-name\": \"general-gate7\", \"car-id\": \"20150719050720-439\", \"car-type\": \"1\"}, {\"Timestamp\": \"2015-07-09 07:48:57\", \"gate-name\": \"general-gate5\", \"car-id\": \"20150709070749-903\", \"car-type\": \"3\"}, {\"Timestamp\": \"2015-10-07 19:04:48\", \"gate-name\": \"general-gate2\", \"car-id\": \"20154407064407-815\", \"car-type\": \"4\"}, {\"Timestamp\": \"2015-07-15 07:26:47\", \"gate-name\": \"ranger-stop2\", \"car-id\": \"20153915063956-500\", \"car-type\": \"3\"}, {\"Timestamp\": \"2016-05-27 14:21:41\", \"gate-name\": \"ranger-stop0\", \"car-id\": \"20161327021321-308\", \"car-type\": \"1\"}, {\"Timestamp\": \"2015-06-13 04:27:05\", \"gate-name\": \"ranger-stop0\", \"car-id\": \"20151913041937-986\", \"car-type\": \"3\"}, {\"Timestamp\": \"2016-02-03 00:03:54\", \"gate-name\": \"entrance2\", \"car-id\": \"20160303120354-903\", \"car-type\": \"1\"}, {\"Timestamp\": \"2015-08-09 17:39:59\", \"gate-name\": \"camping6\", \"car-id\": \"20152109052119-324\", \"car-type\": \"1\"}, {\"Timestamp\": \"2015-10-31 08:17:43\", \"gate-name\": \"entrance0\", \"car-id\": \"20151731081743-297\", \"car-type\": \"2\"}, {\"Timestamp\": \"2015-10-18 16:18:03\", \"gate-name\": \"ranger-stop0\", \"car-id\": \"20150918030939-609\", \"car-type\": \"2P\"}, {\"Timestamp\": \"2015-05-20 23:10:26\", \"gate-name\": \"entrance3\", \"car-id\": \"20154120104143-547\", \"car-type\": \"2\"}, {\"Timestamp\": \"2015-07-01 08:44:07\", \"gate-name\": \"general-gate0\", \"car-id\": \"20154501074509-749\", \"car-type\": \"1\"}, {\"Timestamp\": \"2015-07-18 19:13:18\", \"gate-name\": \"general-gate2\", \"car-id\": \"20154417114443-51\", \"car-type\": \"1\"}, {\"Timestamp\": \"2015-09-05 21:31:58\", \"gate-name\": \"entrance4\", \"car-id\": \"20153802033804-576\", \"car-type\": \"1\"}, {\"Timestamp\": \"2015-09-12 14:30:49\", \"gate-name\": \"general-gate1\", \"car-id\": \"20153512013534-746\", \"car-type\": \"1\"}, {\"Timestamp\": \"2016-05-06 12:06:32\", \"gate-name\": \"general-gate1\", \"car-id\": \"20161405101442-940\", \"car-type\": \"2\"}, {\"Timestamp\": \"2015-08-15 12:41:38\", \"gate-name\": \"camping2\", \"car-id\": \"20151115121122-695\", \"car-type\": \"3\"}, {\"Timestamp\": \"2015-09-07 12:31:08\", \"gate-name\": \"ranger-stop0\", \"car-id\": \"20150507120515-146\", \"car-type\": \"4\"}, {\"Timestamp\": \"2015-05-15 01:05:21\", \"gate-name\": \"ranger-stop2\", \"car-id\": \"20154015124012-13\", \"car-type\": \"5\"}]}};\n",
       "var selector = \"#78a54a52-6c81-4524-8717-434c6f78721d\";\n",
       "var type = \"vega-lite\";\n",
       "\n",
       "var output_area = this;\n",
       "require(['nbextensions/jupyter-vega/index'], function(vega) {\n",
       "  vega.render(selector, spec, type, output_area);\n",
       "}, function (err) {\n",
       "  if (err.requireType !== 'scripterror') {\n",
       "    throw(err);\n",
       "  }\n",
       "});\n"
      ]
     },
     "metadata": {
      "jupyter-vega": "#78a54a52-6c81-4524-8717-434c6f78721d"
     },
     "output_type": "display_data"
    },
    {
     "data": {
      "image/png": "[encoded data removed]"
     },
     "metadata": {
      "jupyter-vega": "#78a54a52-6c81-4524-8717-434c6f78721d"
     },
     "output_type": "display_data"
    }
   ],
   "source": [
    "chart = alt.Chart(df.sample(100)).mark_point()\n",
    "chart"
   ]
  },
  {
   "cell_type": "code",
   "execution_count": 26,
   "metadata": {},
   "outputs": [
    {
     "data": {
      "text/html": [
       "<div class=\"vega-embed\" id=\"19924782-935b-4bfe-b2e9-7270045f2fa4\"></div>\n",
       "\n",
       "<style>\n",
       ".vega-embed svg, .vega-embed canvas {\n",
       "  border: 1px dotted gray;\n",
       "}\n",
       "\n",
       ".vega-embed .vega-actions a {\n",
       "  margin-right: 6px;\n",
       "}\n",
       "</style>\n"
      ]
     },
     "metadata": {
      "jupyter-vega": "#19924782-935b-4bfe-b2e9-7270045f2fa4"
     },
     "output_type": "display_data"
    },
    {
     "data": {
      "application/javascript": [
       "var spec = {\"$schema\": \"https://vega.github.io/schema/vega-lite/v1.2.1.json\", \"mark\": \"bar\", \"encoding\": {\"y\": {\"aggregate\": \"count\", \"type\": \"quantitative\", \"field\": \"*\"}, \"x\": {\"type\": \"nominal\", \"field\": \"car-type\"}}, \"config\": {\"cell\": {\"width\": 500, \"height\": 350}}, \"data\": {\"values\": [{\"Timestamp\": \"2016-03-26 15:05:03\", \"gate-name\": \"entrance1\", \"car-id\": \"20160526030503-473\", \"car-type\": \"1\"}, {\"Timestamp\": \"2015-06-13 14:40:57\", \"gate-name\": \"entrance1\", \"car-id\": \"20154013024057-318\", \"car-type\": \"3\"}, {\"Timestamp\": \"2015-08-10 08:00:05\", \"gate-name\": \"entrance1\", \"car-id\": \"20150010080005-370\", \"car-type\": \"1\"}, {\"Timestamp\": \"2015-08-07 10:31:05\", \"gate-name\": \"entrance1\", \"car-id\": \"20153107103105-302\", \"car-type\": \"3\"}, {\"Timestamp\": \"2016-05-12 22:56:18\", \"gate-name\": \"entrance1\", \"car-id\": \"20162412102416-949\", \"car-type\": \"1\"}, {\"Timestamp\": \"2015-07-07 06:39:55\", \"gate-name\": \"entrance1\", \"car-id\": \"20153907063955-529\", \"car-type\": \"2\"}, {\"Timestamp\": \"2015-05-30 07:18:14\", \"gate-name\": \"entrance1\", \"car-id\": \"20155329045346-171\", \"car-type\": \"1\"}, {\"Timestamp\": \"2015-05-21 08:10:16\", \"gate-name\": \"entrance1\", \"car-id\": \"20151321071310-542\", \"car-type\": \"2\"}, {\"Timestamp\": \"2015-05-26 05:33:48\", \"gate-name\": \"entrance1\", \"car-id\": \"20153326053348-223\", \"car-type\": \"1\"}, {\"Timestamp\": \"2015-07-09 06:55:15\", \"gate-name\": \"entrance1\", \"car-id\": \"20155509065515-933\", \"car-type\": \"2\"}, {\"Timestamp\": \"2015-07-05 21:51:44\", \"gate-name\": \"entrance1\", \"car-id\": \"20155105095144-872\", \"car-type\": \"1\"}, {\"Timestamp\": \"2016-03-07 09:29:35\", \"gate-name\": \"entrance1\", \"car-id\": \"20160007090016-320\", \"car-type\": \"2\"}, {\"Timestamp\": \"2015-09-13 09:18:01\", \"gate-name\": \"entrance1\", \"car-id\": \"20151713081751-615\", \"car-type\": \"3\"}, {\"Timestamp\": \"2016-03-14 05:50:13\", \"gate-name\": \"entrance1\", \"car-id\": \"20165014055013-401\", \"car-type\": \"1\"}, {\"Timestamp\": \"2015-07-04 00:59:04\", \"gate-name\": \"entrance1\", \"car-id\": \"20152604122627-392\", \"car-type\": \"2\"}, {\"Timestamp\": \"2015-08-03 21:48:15\", \"gate-name\": \"entrance1\", \"car-id\": \"20150831010810-141\", \"car-type\": \"1\"}, {\"Timestamp\": \"2015-08-01 23:10:09\", \"gate-name\": \"entrance1\", \"car-id\": \"20154931014916-410\", \"car-type\": \"2\"}, {\"Timestamp\": \"2015-09-19 17:44:18\", \"gate-name\": \"entrance1\", \"car-id\": \"20153419043446-68\", \"car-type\": \"3\"}, {\"Timestamp\": \"2016-05-02 11:20:20\", \"gate-name\": \"entrance1\", \"car-id\": \"20162002112020-764\", \"car-type\": \"5\"}, {\"Timestamp\": \"2015-06-24 03:54:36\", \"gate-name\": \"entrance1\", \"car-id\": \"20155424035436-409\", \"car-type\": \"3\"}, {\"Timestamp\": \"2015-08-12 15:20:04\", \"gate-name\": \"entrance1\", \"car-id\": \"20152012032004-676\", \"car-type\": \"3\"}, {\"Timestamp\": \"2015-06-03 06:42:50\", \"gate-name\": \"entrance1\", \"car-id\": \"20154203064250-782\", \"car-type\": \"5\"}, {\"Timestamp\": \"2015-06-21 11:57:16\", \"gate-name\": \"entrance1\", \"car-id\": \"20150021110008-649\", \"car-type\": \"3\"}, {\"Timestamp\": \"2015-09-20 21:02:07\", \"gate-name\": \"entrance1\", \"car-id\": \"20150220090207-4\", \"car-type\": \"4\"}, {\"Timestamp\": \"2015-11-26 05:37:10\", \"gate-name\": \"entrance1\", \"car-id\": \"20153726053710-587\", \"car-type\": \"3\"}, {\"Timestamp\": \"2015-05-07 09:11:17\", \"gate-name\": \"entrance1\", \"car-id\": \"20151107091117-166\", \"car-type\": \"4\"}, {\"Timestamp\": \"2016-05-28 13:21:32\", \"gate-name\": \"entrance1\", \"car-id\": \"20162128012132-367\", \"car-type\": \"2\"}, {\"Timestamp\": \"2015-07-21 04:01:07\", \"gate-name\": \"entrance1\", \"car-id\": \"20150121040107-161\", \"car-type\": \"4\"}, {\"Timestamp\": \"2015-05-11 06:09:51\", \"gate-name\": \"entrance1\", \"car-id\": \"20150911060951-66\", \"car-type\": \"1\"}, {\"Timestamp\": \"2015-09-05 08:06:37\", \"gate-name\": \"entrance1\", \"car-id\": \"20150605080637-239\", \"car-type\": \"3\"}, {\"Timestamp\": \"2015-09-05 08:17:53\", \"gate-name\": \"entrance1\", \"car-id\": \"20151705081753-773\", \"car-type\": \"3\"}, {\"Timestamp\": \"2015-07-07 09:10:46\", \"gate-name\": \"entrance1\", \"car-id\": \"20150205080250-857\", \"car-type\": \"2\"}, {\"Timestamp\": \"2015-09-24 05:33:49\", \"gate-name\": \"entrance1\", \"car-id\": \"20153324053349-706\", \"car-type\": \"2\"}, {\"Timestamp\": \"2015-09-22 12:41:21\", \"gate-name\": \"entrance1\", \"car-id\": \"20154522114558-409\", \"car-type\": \"3\"}, {\"Timestamp\": \"2015-06-07 15:47:57\", \"gate-name\": \"entrance1\", \"car-id\": \"20154507024517-95\", \"car-type\": \"1\"}, {\"Timestamp\": \"2015-06-28 11:31:51\", \"gate-name\": \"entrance1\", \"car-id\": \"20153128113151-636\", \"car-type\": \"1\"}, {\"Timestamp\": \"2016-05-04 00:38:49\", \"gate-name\": \"entrance1\", \"car-id\": \"20163804123849-411\", \"car-type\": \"4\"}, {\"Timestamp\": \"2015-07-12 17:33:18\", \"gate-name\": \"entrance1\", \"car-id\": \"20153312053318-51\", \"car-type\": \"2\"}, {\"Timestamp\": \"2015-10-22 15:04:53\", \"gate-name\": \"entrance1\", \"car-id\": \"20150422030453-632\", \"car-type\": \"1\"}, {\"Timestamp\": \"2015-07-23 02:07:52\", \"gate-name\": \"entrance1\", \"car-id\": \"20150723020752-755\", \"car-type\": \"4\"}, {\"Timestamp\": \"2015-08-07 22:35:49\", \"gate-name\": \"entrance1\", \"car-id\": \"20153103063126-891\", \"car-type\": \"3\"}, {\"Timestamp\": \"2015-08-10 10:47:08\", \"gate-name\": \"entrance1\", \"car-id\": \"20154710104708-705\", \"car-type\": \"1\"}, {\"Timestamp\": \"2015-12-08 20:24:55\", \"gate-name\": \"entrance1\", \"car-id\": \"20155308075300-140\", \"car-type\": \"1\"}, {\"Timestamp\": \"2015-08-30 18:13:37\", \"gate-name\": \"entrance1\", \"car-id\": \"20151330061337-218\", \"car-type\": \"5\"}, {\"Timestamp\": \"2015-07-05 09:38:59\", \"gate-name\": \"entrance1\", \"car-id\": \"20151801041821-719\", \"car-type\": \"2\"}, {\"Timestamp\": \"2015-06-04 07:50:17\", \"gate-name\": \"entrance1\", \"car-id\": \"20151431071428-170\", \"car-type\": \"1\"}, {\"Timestamp\": \"2015-05-08 09:56:33\", \"gate-name\": \"entrance1\", \"car-id\": \"20155608095633-284\", \"car-type\": \"1\"}, {\"Timestamp\": \"2015-09-29 11:07:16\", \"gate-name\": \"entrance1\", \"car-id\": \"20150729110716-839\", \"car-type\": \"1\"}, {\"Timestamp\": \"2015-08-19 07:26:10\", \"gate-name\": \"entrance1\", \"car-id\": \"20152619072610-850\", \"car-type\": \"2\"}, {\"Timestamp\": \"2016-05-11 08:25:49\", \"gate-name\": \"entrance1\", \"car-id\": \"20162511082549-862\", \"car-type\": \"2\"}, {\"Timestamp\": \"2015-05-01 04:06:50\", \"gate-name\": \"entrance1\", \"car-id\": \"20153701033700-323\", \"car-type\": \"1\"}, {\"Timestamp\": \"2015-11-30 02:26:47\", \"gate-name\": \"entrance1\", \"car-id\": \"20153030013028-701\", \"car-type\": \"4\"}, {\"Timestamp\": \"2015-09-14 10:09:39\", \"gate-name\": \"entrance1\", \"car-id\": \"20153307023355-407\", \"car-type\": \"1\"}, {\"Timestamp\": \"2015-08-05 11:23:31\", \"gate-name\": \"entrance1\", \"car-id\": \"20152305112331-211\", \"car-type\": \"1\"}, {\"Timestamp\": \"2016-05-30 20:32:20\", \"gate-name\": \"entrance1\", \"car-id\": \"20163330073333-28\", \"car-type\": \"5\"}, {\"Timestamp\": \"2015-07-13 16:52:45\", \"gate-name\": \"entrance1\", \"car-id\": \"20150810010834-148\", \"car-type\": \"2\"}, {\"Timestamp\": \"2016-05-25 15:41:03\", \"gate-name\": \"entrance1\", \"car-id\": \"20164125034103-951\", \"car-type\": \"2\"}, {\"Timestamp\": \"2016-05-09 02:02:36\", \"gate-name\": \"entrance1\", \"car-id\": \"20160209020236-593\", \"car-type\": \"2\"}, {\"Timestamp\": \"2015-07-29 12:38:44\", \"gate-name\": \"entrance1\", \"car-id\": \"20153829123844-783\", \"car-type\": \"3\"}, {\"Timestamp\": \"2015-07-10 15:57:40\", \"gate-name\": \"entrance1\", \"car-id\": \"20152910102928-970\", \"car-type\": \"1\"}, {\"Timestamp\": \"2015-09-05 18:07:56\", \"gate-name\": \"entrance1\", \"car-id\": \"20151105051129-840\", \"car-type\": \"1\"}, {\"Timestamp\": \"2015-08-29 13:03:21\", \"gate-name\": \"entrance1\", \"car-id\": \"20150329010321-683\", \"car-type\": \"2\"}, {\"Timestamp\": \"2015-09-15 22:14:44\", \"gate-name\": \"entrance1\", \"car-id\": \"20151415101444-292\", \"car-type\": \"2\"}, {\"Timestamp\": \"2015-08-26 05:38:51\", \"gate-name\": \"entrance1\", \"car-id\": \"20153826053851-68\", \"car-type\": \"1\"}, {\"Timestamp\": \"2015-06-23 15:18:34\", \"gate-name\": \"entrance1\", \"car-id\": \"20151823031834-474\", \"car-type\": \"1\"}, {\"Timestamp\": \"2016-01-08 22:13:20\", \"gate-name\": \"entrance1\", \"car-id\": \"20164108094121-831\", \"car-type\": \"1\"}, {\"Timestamp\": \"2015-07-12 20:27:58\", \"gate-name\": \"entrance1\", \"car-id\": \"20153910063929-445\", \"car-type\": \"1\"}, {\"Timestamp\": \"2015-09-02 01:57:28\", \"gate-name\": \"entrance1\", \"car-id\": \"20155702015728-136\", \"car-type\": \"2\"}, {\"Timestamp\": \"2015-11-19 12:10:20\", \"gate-name\": \"entrance1\", \"car-id\": \"20151019121020-200\", \"car-type\": \"1\"}, {\"Timestamp\": \"2015-07-01 12:22:09\", \"gate-name\": \"entrance1\", \"car-id\": \"20152201122209-900\", \"car-type\": \"1\"}, {\"Timestamp\": \"2015-09-25 04:21:43\", \"gate-name\": \"entrance1\", \"car-id\": \"20151525031501-300\", \"car-type\": \"6\"}, {\"Timestamp\": \"2016-02-02 02:44:01\", \"gate-name\": \"entrance1\", \"car-id\": \"20161202021228-856\", \"car-type\": \"5\"}, {\"Timestamp\": \"2015-08-22 10:34:43\", \"gate-name\": \"entrance1\", \"car-id\": \"20150722100718-323\", \"car-type\": \"4\"}, {\"Timestamp\": \"2015-10-21 12:32:34\", \"gate-name\": \"entrance1\", \"car-id\": \"20155721115746-563\", \"car-type\": \"5\"}, {\"Timestamp\": \"2015-07-09 08:52:40\", \"gate-name\": \"entrance1\", \"car-id\": \"20155209085240-71\", \"car-type\": \"1\"}, {\"Timestamp\": \"2015-11-16 20:29:11\", \"gate-name\": \"entrance1\", \"car-id\": \"20152916082911-738\", \"car-type\": \"5\"}, {\"Timestamp\": \"2016-05-25 04:29:50\", \"gate-name\": \"entrance1\", \"car-id\": \"20165825035840-88\", \"car-type\": \"2\"}, {\"Timestamp\": \"2015-05-26 09:02:57\", \"gate-name\": \"entrance1\", \"car-id\": \"20153326053348-223\", \"car-type\": \"1\"}, {\"Timestamp\": \"2015-11-19 06:12:46\", \"gate-name\": \"entrance1\", \"car-id\": \"20154719054715-742\", \"car-type\": \"3\"}, {\"Timestamp\": \"2015-08-28 00:00:58\", \"gate-name\": \"entrance1\", \"car-id\": \"20150028120058-137\", \"car-type\": \"2\"}, {\"Timestamp\": \"2015-08-11 15:52:45\", \"gate-name\": \"entrance1\", \"car-id\": \"20154809114818-832\", \"car-type\": \"1\"}, {\"Timestamp\": \"2015-10-05 09:22:23\", \"gate-name\": \"entrance1\", \"car-id\": \"20151821081800-795\", \"car-type\": \"1\"}, {\"Timestamp\": \"2015-07-22 10:11:53\", \"gate-name\": \"entrance1\", \"car-id\": \"20151122091136-164\", \"car-type\": \"2\"}, {\"Timestamp\": \"2016-05-31 03:41:13\", \"gate-name\": \"entrance1\", \"car-id\": \"20164131034113-358\", \"car-type\": \"5\"}, {\"Timestamp\": \"2015-08-17 16:56:01\", \"gate-name\": \"entrance1\", \"car-id\": \"20155615065643-355\", \"car-type\": \"3\"}, {\"Timestamp\": \"2015-09-09 05:15:11\", \"gate-name\": \"entrance1\", \"car-id\": \"20151509051511-166\", \"car-type\": \"1\"}, {\"Timestamp\": \"2015-07-25 01:01:23\", \"gate-name\": \"entrance1\", \"car-id\": \"20150625120621-432\", \"car-type\": \"2\"}, {\"Timestamp\": \"2015-08-14 13:12:52\", \"gate-name\": \"entrance1\", \"car-id\": \"20153914123956-26\", \"car-type\": \"3\"}, {\"Timestamp\": \"2015-07-10 10:30:17\", \"gate-name\": \"entrance1\", \"car-id\": \"20153010103017-871\", \"car-type\": \"1\"}, {\"Timestamp\": \"2015-06-24 06:13:07\", \"gate-name\": \"entrance1\", \"car-id\": \"20151324061307-900\", \"car-type\": \"2\"}, {\"Timestamp\": \"2015-09-06 11:24:31\", \"gate-name\": \"entrance1\", \"car-id\": \"20152406112431-687\", \"car-type\": \"1\"}, {\"Timestamp\": \"2015-08-21 14:25:55\", \"gate-name\": \"entrance1\", \"car-id\": \"20152521022555-359\", \"car-type\": \"1\"}, {\"Timestamp\": \"2016-03-09 23:11:43\", \"gate-name\": \"entrance1\", \"car-id\": \"20161509101553-614\", \"car-type\": \"1\"}, {\"Timestamp\": \"2016-04-19 11:28:00\", \"gate-name\": \"entrance1\", \"car-id\": \"20163419103429-435\", \"car-type\": \"1\"}, {\"Timestamp\": \"2015-06-13 13:04:41\", \"gate-name\": \"entrance1\", \"car-id\": \"20150413010441-864\", \"car-type\": \"3\"}, {\"Timestamp\": \"2015-07-23 15:26:00\", \"gate-name\": \"entrance1\", \"car-id\": \"20155222035235-759\", \"car-type\": \"1\"}, {\"Timestamp\": \"2016-02-10 04:26:45\", \"gate-name\": \"entrance1\", \"car-id\": \"20162610042645-80\", \"car-type\": \"1\"}, {\"Timestamp\": \"2015-09-08 10:17:35\", \"gate-name\": \"entrance1\", \"car-id\": \"20151708101735-197\", \"car-type\": \"3\"}, {\"Timestamp\": \"2016-05-24 15:12:22\", \"gate-name\": \"entrance1\", \"car-id\": \"20161224031222-354\", \"car-type\": \"1\"}, {\"Timestamp\": \"2015-09-02 14:57:21\", \"gate-name\": \"entrance1\", \"car-id\": \"20155702025721-399\", \"car-type\": \"4\"}, {\"Timestamp\": \"2016-01-26 12:07:34\", \"gate-name\": \"entrance1\", \"car-id\": \"20160726120734-512\", \"car-type\": \"2\"}, {\"Timestamp\": \"2016-04-05 08:31:00\", \"gate-name\": \"entrance1\", \"car-id\": \"20163105083100-798\", \"car-type\": \"6\"}, {\"Timestamp\": \"2016-03-30 02:25:13\", \"gate-name\": \"entrance1\", \"car-id\": \"20165130015132-310\", \"car-type\": \"5\"}, {\"Timestamp\": \"2016-03-15 02:51:12\", \"gate-name\": \"entrance1\", \"car-id\": \"20165115025112-428\", \"car-type\": \"6\"}, {\"Timestamp\": \"2015-06-07 19:39:24\", \"gate-name\": \"entrance1\", \"car-id\": \"20151207071218-322\", \"car-type\": \"3\"}, {\"Timestamp\": \"2015-05-15 01:18:03\", \"gate-name\": \"entrance1\", \"car-id\": \"20151815011803-120\", \"car-type\": \"4\"}, {\"Timestamp\": \"2015-09-29 00:12:15\", \"gate-name\": \"entrance1\", \"car-id\": \"20151229121215-192\", \"car-type\": \"2\"}, {\"Timestamp\": \"2015-09-22 21:37:09\", \"gate-name\": \"entrance1\", \"car-id\": \"20152720032733-633\", \"car-type\": \"1\"}, {\"Timestamp\": \"2016-02-03 21:26:15\", \"gate-name\": \"entrance1\", \"car-id\": \"20162203082236-446\", \"car-type\": \"6\"}, {\"Timestamp\": \"2015-06-15 16:46:30\", \"gate-name\": \"entrance1\", \"car-id\": \"20150215040246-830\", \"car-type\": \"1\"}, {\"Timestamp\": \"2016-05-09 23:36:59\", \"gate-name\": \"entrance1\", \"car-id\": \"20160309110344-985\", \"car-type\": \"2\"}, {\"Timestamp\": \"2015-07-25 21:53:48\", \"gate-name\": \"entrance1\", \"car-id\": \"20155325095348-282\", \"car-type\": \"2\"}, {\"Timestamp\": \"2015-12-26 12:25:28\", \"gate-name\": \"entrance1\", \"car-id\": \"20152226112253-35\", \"car-type\": \"1\"}, {\"Timestamp\": \"2015-09-10 01:28:41\", \"gate-name\": \"entrance1\", \"car-id\": \"20152810012841-23\", \"car-type\": \"4\"}, {\"Timestamp\": \"2015-08-10 16:21:14\", \"gate-name\": \"entrance1\", \"car-id\": \"20150701020723-76\", \"car-type\": \"1\"}, {\"Timestamp\": \"2016-05-06 18:19:36\", \"gate-name\": \"entrance1\", \"car-id\": \"20161906061936-550\", \"car-type\": \"2\"}, {\"Timestamp\": \"2015-07-14 01:46:31\", \"gate-name\": \"entrance1\", \"car-id\": \"20154614014631-25\", \"car-type\": \"3\"}, {\"Timestamp\": \"2015-07-11 21:27:38\", \"gate-name\": \"entrance1\", \"car-id\": \"20152711092738-80\", \"car-type\": \"2\"}, {\"Timestamp\": \"2015-10-17 10:13:47\", \"gate-name\": \"entrance1\", \"car-id\": \"20151317101347-90\", \"car-type\": \"3\"}, {\"Timestamp\": \"2015-06-18 13:55:04\", \"gate-name\": \"entrance1\", \"car-id\": \"20155518015504-310\", \"car-type\": \"3\"}, {\"Timestamp\": \"2016-05-13 00:48:28\", \"gate-name\": \"entrance1\", \"car-id\": \"20161613121650-344\", \"car-type\": \"1\"}, {\"Timestamp\": \"2015-07-10 07:40:24\", \"gate-name\": \"entrance1\", \"car-id\": \"20153704073745-278\", \"car-type\": \"2\"}, {\"Timestamp\": \"2015-06-12 10:19:18\", \"gate-name\": \"entrance1\", \"car-id\": \"20151912101918-236\", \"car-type\": \"2\"}, {\"Timestamp\": \"2015-10-04 15:09:56\", \"gate-name\": \"entrance1\", \"car-id\": \"20153704023740-102\", \"car-type\": \"4\"}, {\"Timestamp\": \"2015-08-06 02:19:21\", \"gate-name\": \"entrance1\", \"car-id\": \"20151906021921-296\", \"car-type\": \"5\"}, {\"Timestamp\": \"2015-09-10 07:37:25\", \"gate-name\": \"entrance1\", \"car-id\": \"20153710073725-591\", \"car-type\": \"2\"}, {\"Timestamp\": \"2015-08-14 10:30:29\", \"gate-name\": \"entrance1\", \"car-id\": \"20150514090505-484\", \"car-type\": \"1\"}, {\"Timestamp\": \"2015-06-22 23:49:43\", \"gate-name\": \"entrance1\", \"car-id\": \"20154922114943-996\", \"car-type\": \"3\"}, {\"Timestamp\": \"2015-06-29 21:20:28\", \"gate-name\": \"entrance1\", \"car-id\": \"20151329081357-856\", \"car-type\": \"6\"}, {\"Timestamp\": \"2015-12-07 03:25:35\", \"gate-name\": \"entrance1\", \"car-id\": \"20155307025324-839\", \"car-type\": \"4\"}, {\"Timestamp\": \"2015-07-02 22:48:28\", \"gate-name\": \"entrance1\", \"car-id\": \"20154802104828-327\", \"car-type\": \"1\"}, {\"Timestamp\": \"2015-08-23 10:09:51\", \"gate-name\": \"entrance1\", \"car-id\": \"20154923054916-14\", \"car-type\": \"1\"}, {\"Timestamp\": \"2015-06-01 10:29:21\", \"gate-name\": \"entrance1\", \"car-id\": \"20152901102921-648\", \"car-type\": \"3\"}, {\"Timestamp\": \"2015-09-11 00:05:21\", \"gate-name\": \"entrance1\", \"car-id\": \"20150511120521-523\", \"car-type\": \"2\"}, {\"Timestamp\": \"2016-05-05 19:40:33\", \"gate-name\": \"entrance1\", \"car-id\": \"20163705063708-419\", \"car-type\": \"3\"}, {\"Timestamp\": \"2015-07-08 11:04:01\", \"gate-name\": \"entrance1\", \"car-id\": \"20153708103718-939\", \"car-type\": \"2\"}, {\"Timestamp\": \"2015-08-11 02:57:22\", \"gate-name\": \"entrance1\", \"car-id\": \"20152911022906-489\", \"car-type\": \"3\"}, {\"Timestamp\": \"2015-07-03 10:20:27\", \"gate-name\": \"entrance1\", \"car-id\": \"20152003102027-431\", \"car-type\": \"1\"}, {\"Timestamp\": \"2015-06-25 12:43:46\", \"gate-name\": \"entrance1\", \"car-id\": \"20154325124346-290\", \"car-type\": \"1\"}, {\"Timestamp\": \"2015-08-07 15:16:38\", \"gate-name\": \"entrance1\", \"car-id\": \"20151607031638-902\", \"car-type\": \"1\"}, {\"Timestamp\": \"2015-08-09 11:48:18\", \"gate-name\": \"entrance1\", \"car-id\": \"20154809114818-832\", \"car-type\": \"1\"}, {\"Timestamp\": \"2015-08-15 14:38:18\", \"gate-name\": \"entrance1\", \"car-id\": \"20153815023818-134\", \"car-type\": \"1\"}, {\"Timestamp\": \"2015-07-19 11:06:04\", \"gate-name\": \"entrance1\", \"car-id\": \"20150619110604-788\", \"car-type\": \"1\"}, {\"Timestamp\": \"2015-09-06 15:10:44\", \"gate-name\": \"entrance1\", \"car-id\": \"20151006031044-506\", \"car-type\": \"1\"}, {\"Timestamp\": \"2015-07-28 02:09:01\", \"gate-name\": \"entrance1\", \"car-id\": \"20153628013654-43\", \"car-type\": \"4\"}, {\"Timestamp\": \"2015-08-06 19:51:17\", \"gate-name\": \"entrance1\", \"car-id\": \"20155829085817-23\", \"car-type\": \"1\"}, {\"Timestamp\": \"2016-04-24 22:45:08\", \"gate-name\": \"entrance1\", \"car-id\": \"20163524093555-302\", \"car-type\": \"5\"}, {\"Timestamp\": \"2015-09-12 09:35:08\", \"gate-name\": \"entrance1\", \"car-id\": \"20154311024355-911\", \"car-type\": \"1\"}, {\"Timestamp\": \"2015-10-23 07:47:40\", \"gate-name\": \"entrance1\", \"car-id\": \"20154723074740-648\", \"car-type\": \"1\"}, {\"Timestamp\": \"2015-08-30 10:58:34\", \"gate-name\": \"entrance1\", \"car-id\": \"20155830105834-763\", \"car-type\": \"1\"}, {\"Timestamp\": \"2016-01-05 11:23:34\", \"gate-name\": \"entrance1\", \"car-id\": \"20162305112334-480\", \"car-type\": \"2\"}, {\"Timestamp\": \"2015-07-31 06:12:50\", \"gate-name\": \"entrance1\", \"car-id\": \"20155529045530-793\", \"car-type\": \"2\"}, {\"Timestamp\": \"2016-03-21 16:23:34\", \"gate-name\": \"entrance1\", \"car-id\": \"20165521035552-890\", \"car-type\": \"2\"}, {\"Timestamp\": \"2016-04-11 22:24:02\", \"gate-name\": \"entrance1\", \"car-id\": \"20162411102402-124\", \"car-type\": \"3\"}, {\"Timestamp\": \"2015-09-12 16:06:43\", \"gate-name\": \"entrance1\", \"car-id\": \"20150612040643-903\", \"car-type\": \"1\"}, {\"Timestamp\": \"2015-10-31 12:49:48\", \"gate-name\": \"entrance1\", \"car-id\": \"20154931124948-323\", \"car-type\": \"4\"}, {\"Timestamp\": \"2015-07-30 05:31:42\", \"gate-name\": \"entrance1\", \"car-id\": \"20153130053142-570\", \"car-type\": \"5\"}, {\"Timestamp\": \"2015-08-31 12:27:44\", \"gate-name\": \"entrance1\", \"car-id\": \"20152831112848-584\", \"car-type\": \"1\"}, {\"Timestamp\": \"2015-05-26 11:45:51\", \"gate-name\": \"entrance1\", \"car-id\": \"20152323032339-44\", \"car-type\": \"2\"}, {\"Timestamp\": \"2016-05-03 00:01:53\", \"gate-name\": \"entrance1\", \"car-id\": \"20160103120153-352\", \"car-type\": \"1\"}, {\"Timestamp\": \"2015-07-04 14:14:37\", \"gate-name\": \"entrance1\", \"car-id\": \"20151404021437-954\", \"car-type\": \"3\"}, {\"Timestamp\": \"2015-06-04 02:36:35\", \"gate-name\": \"entrance1\", \"car-id\": \"20152804012852-864\", \"car-type\": \"2\"}, {\"Timestamp\": \"2016-05-28 00:55:41\", \"gate-name\": \"entrance1\", \"car-id\": \"20165528125541-296\", \"car-type\": \"1\"}, {\"Timestamp\": \"2015-09-02 06:37:40\", \"gate-name\": \"entrance1\", \"car-id\": \"20154402054434-251\", \"car-type\": \"4\"}, {\"Timestamp\": \"2015-07-11 17:10:37\", \"gate-name\": \"entrance1\", \"car-id\": \"20155911035935-892\", \"car-type\": \"4\"}, {\"Timestamp\": \"2015-07-19 17:06:17\", \"gate-name\": \"entrance1\", \"car-id\": \"20150619050617-947\", \"car-type\": \"3\"}, {\"Timestamp\": \"2016-04-26 09:13:16\", \"gate-name\": \"entrance1\", \"car-id\": \"20161326091316-839\", \"car-type\": \"1\"}, {\"Timestamp\": \"2015-05-28 20:08:39\", \"gate-name\": \"entrance1\", \"car-id\": \"20150828080839-667\", \"car-type\": \"4\"}, {\"Timestamp\": \"2015-07-27 23:34:29\", \"gate-name\": \"entrance1\", \"car-id\": \"20153427113429-434\", \"car-type\": \"5\"}, {\"Timestamp\": \"2015-06-11 08:33:51\", \"gate-name\": \"entrance1\", \"car-id\": \"20152107072157-137\", \"car-type\": \"1\"}, {\"Timestamp\": \"2015-06-13 12:28:38\", \"gate-name\": \"entrance1\", \"car-id\": \"20152813122838-287\", \"car-type\": \"2\"}, {\"Timestamp\": \"2015-08-19 13:52:58\", \"gate-name\": \"entrance1\", \"car-id\": \"20155219015258-947\", \"car-type\": \"1\"}, {\"Timestamp\": \"2015-06-09 07:06:26\", \"gate-name\": \"entrance1\", \"car-id\": \"20150609070626-683\", \"car-type\": \"2\"}, {\"Timestamp\": \"2015-08-03 23:08:29\", \"gate-name\": \"entrance1\", \"car-id\": \"20150303100300-303\", \"car-type\": \"1\"}, {\"Timestamp\": \"2015-06-05 08:15:03\", \"gate-name\": \"entrance1\", \"car-id\": \"20154805074859-858\", \"car-type\": \"3\"}, {\"Timestamp\": \"2015-08-01 14:50:06\", \"gate-name\": \"entrance1\", \"car-id\": \"20155001025006-808\", \"car-type\": \"1\"}, {\"Timestamp\": \"2015-09-16 13:45:40\", \"gate-name\": \"entrance1\", \"car-id\": \"20150016010043-705\", \"car-type\": \"1\"}, {\"Timestamp\": \"2016-05-27 10:45:40\", \"gate-name\": \"entrance1\", \"car-id\": \"20164527104540-439\", \"car-type\": \"2\"}, {\"Timestamp\": \"2015-05-13 05:40:46\", \"gate-name\": \"entrance1\", \"car-id\": \"20154013054046-187\", \"car-type\": \"2\"}, {\"Timestamp\": \"2015-08-06 16:47:11\", \"gate-name\": \"entrance1\", \"car-id\": \"20154706044711-22\", \"car-type\": \"1\"}, {\"Timestamp\": \"2015-08-28 07:41:42\", \"gate-name\": \"entrance1\", \"car-id\": \"20154128074142-620\", \"car-type\": \"1\"}, {\"Timestamp\": \"2015-09-26 00:22:44\", \"gate-name\": \"entrance1\", \"car-id\": \"20155325115348-290\", \"car-type\": \"5\"}, {\"Timestamp\": \"2015-08-15 09:22:20\", \"gate-name\": \"entrance1\", \"car-id\": \"20153014043029-662\", \"car-type\": \"2\"}, {\"Timestamp\": \"2015-07-23 22:17:24\", \"gate-name\": \"entrance1\", \"car-id\": \"20151422011417-46\", \"car-type\": \"1\"}, {\"Timestamp\": \"2015-11-09 13:08:42\", \"gate-name\": \"entrance1\", \"car-id\": \"20150809010842-230\", \"car-type\": \"2\"}, {\"Timestamp\": \"2015-08-13 16:56:50\", \"gate-name\": \"entrance1\", \"car-id\": \"20155613045650-872\", \"car-type\": \"1\"}, {\"Timestamp\": \"2015-08-10 14:12:58\", \"gate-name\": \"entrance1\", \"car-id\": \"20151210021258-493\", \"car-type\": \"1\"}, {\"Timestamp\": \"2015-07-09 17:05:52\", \"gate-name\": \"entrance1\", \"car-id\": \"20150509050552-677\", \"car-type\": \"1\"}, {\"Timestamp\": \"2015-11-13 00:54:15\", \"gate-name\": \"entrance1\", \"car-id\": \"20152013122033-895\", \"car-type\": \"3\"}, {\"Timestamp\": \"2015-09-21 17:00:36\", \"gate-name\": \"entrance1\", \"car-id\": \"20150021050036-788\", \"car-type\": \"3\"}, {\"Timestamp\": \"2015-08-13 16:48:29\", \"gate-name\": \"entrance1\", \"car-id\": \"20154813044829-816\", \"car-type\": \"1\"}, {\"Timestamp\": \"2015-06-06 21:32:49\", \"gate-name\": \"entrance1\", \"car-id\": \"20153206093249-864\", \"car-type\": \"1\"}, {\"Timestamp\": \"2015-06-17 09:45:00\", \"gate-name\": \"entrance1\", \"car-id\": \"20154517094500-459\", \"car-type\": \"2\"}, {\"Timestamp\": \"2015-09-19 09:00:06\", \"gate-name\": \"entrance1\", \"car-id\": \"20150019090006-7\", \"car-type\": \"3\"}, {\"Timestamp\": \"2015-06-23 10:37:01\", \"gate-name\": \"entrance1\", \"car-id\": \"20153723103701-496\", \"car-type\": \"3\"}, {\"Timestamp\": \"2015-06-03 18:00:07\", \"gate-name\": \"entrance1\", \"car-id\": \"20150003060007-767\", \"car-type\": \"1\"}, {\"Timestamp\": \"2015-06-06 07:32:53\", \"gate-name\": \"entrance1\", \"car-id\": \"20150406070417-93\", \"car-type\": \"3\"}, {\"Timestamp\": \"2015-08-01 14:57:51\", \"gate-name\": \"entrance1\", \"car-id\": \"20155701025751-249\", \"car-type\": \"1\"}, {\"Timestamp\": \"2016-05-18 06:48:58\", \"gate-name\": \"entrance1\", \"car-id\": \"20164818064858-471\", \"car-type\": \"1\"}, {\"Timestamp\": \"2015-08-15 09:43:33\", \"gate-name\": \"entrance1\", \"car-id\": \"20155409055424-104\", \"car-type\": \"1\"}, {\"Timestamp\": \"2015-07-13 21:22:51\", \"gate-name\": \"entrance1\", \"car-id\": \"20152213092251-545\", \"car-type\": \"2\"}, {\"Timestamp\": \"2015-06-06 20:33:46\", \"gate-name\": \"entrance1\", \"car-id\": \"20153504033551-486\", \"car-type\": \"1\"}, {\"Timestamp\": \"2015-06-05 18:14:16\", \"gate-name\": \"entrance1\", \"car-id\": \"20151405061416-631\", \"car-type\": \"2\"}, {\"Timestamp\": \"2015-10-08 20:19:31\", \"gate-name\": \"entrance1\", \"car-id\": \"20150808070835-600\", \"car-type\": \"3\"}, {\"Timestamp\": \"2015-06-07 16:41:46\", \"gate-name\": \"entrance1\", \"car-id\": \"20154107044146-623\", \"car-type\": \"1\"}, {\"Timestamp\": \"2015-05-16 22:34:54\", \"gate-name\": \"entrance1\", \"car-id\": \"20152615072606-62\", \"car-type\": \"2\"}, {\"Timestamp\": \"2015-06-19 06:26:52\", \"gate-name\": \"entrance1\", \"car-id\": \"20152619062652-455\", \"car-type\": \"2\"}, {\"Timestamp\": \"2015-05-31 22:26:57\", \"gate-name\": \"entrance1\", \"car-id\": \"20152731092708-712\", \"car-type\": \"1\"}, {\"Timestamp\": \"2016-01-30 14:41:43\", \"gate-name\": \"entrance1\", \"car-id\": \"20161430021441-440\", \"car-type\": \"3\"}, {\"Timestamp\": \"2016-05-14 00:58:53\", \"gate-name\": \"entrance1\", \"car-id\": \"20165814125853-635\", \"car-type\": \"1\"}, {\"Timestamp\": \"2015-07-21 14:30:01\", \"gate-name\": \"entrance1\", \"car-id\": \"20153021023001-6\", \"car-type\": \"1\"}, {\"Timestamp\": \"2015-06-16 08:06:27\", \"gate-name\": \"entrance1\", \"car-id\": \"20153516073544-618\", \"car-type\": \"3\"}, {\"Timestamp\": \"2015-07-08 11:15:52\", \"gate-name\": \"entrance1\", \"car-id\": \"20155804035844-100\", \"car-type\": \"3\"}, {\"Timestamp\": \"2015-06-27 00:56:23\", \"gate-name\": \"entrance1\", \"car-id\": \"20155627125623-941\", \"car-type\": \"6\"}, {\"Timestamp\": \"2016-05-21 02:01:53\", \"gate-name\": \"entrance1\", \"car-id\": \"20160121020153-58\", \"car-type\": \"3\"}, {\"Timestamp\": \"2015-09-26 08:02:01\", \"gate-name\": \"entrance1\", \"car-id\": \"20150226080201-708\", \"car-type\": \"3\"}, {\"Timestamp\": \"2016-03-30 12:08:51\", \"gate-name\": \"entrance1\", \"car-id\": \"20160830120851-336\", \"car-type\": \"4\"}, {\"Timestamp\": \"2015-08-08 13:24:50\", \"gate-name\": \"entrance1\", \"car-id\": \"20155608125627-896\", \"car-type\": \"6\"}, {\"Timestamp\": \"2016-05-12 07:20:55\", \"gate-name\": \"entrance1\", \"car-id\": \"20160311050309-656\", \"car-type\": \"2\"}, {\"Timestamp\": \"2015-07-16 15:56:12\", \"gate-name\": \"entrance1\", \"car-id\": \"20155616035612-493\", \"car-type\": \"1\"}, {\"Timestamp\": \"2015-07-11 19:41:36\", \"gate-name\": \"entrance1\", \"car-id\": \"20150508030553-514\", \"car-type\": \"3\"}, {\"Timestamp\": \"2015-06-16 16:58:13\", \"gate-name\": \"entrance1\", \"car-id\": \"20155816045813-135\", \"car-type\": \"3\"}, {\"Timestamp\": \"2016-05-08 11:11:01\", \"gate-name\": \"entrance1\", \"car-id\": \"20164108104132-694\", \"car-type\": \"2\"}, {\"Timestamp\": \"2015-07-07 09:08:32\", \"gate-name\": \"entrance1\", \"car-id\": \"20150807090832-325\", \"car-type\": \"3\"}, {\"Timestamp\": \"2015-10-25 15:17:14\", \"gate-name\": \"entrance1\", \"car-id\": \"20151725031714-305\", \"car-type\": \"1\"}, {\"Timestamp\": \"2015-08-16 17:40:52\", \"gate-name\": \"entrance1\", \"car-id\": \"20154016054052-85\", \"car-type\": \"1\"}, {\"Timestamp\": \"2016-01-01 15:36:27\", \"gate-name\": \"entrance1\", \"car-id\": \"20163601033627-516\", \"car-type\": \"3\"}, {\"Timestamp\": \"2016-03-06 20:58:09\", \"gate-name\": \"entrance1\", \"car-id\": \"20165806085809-974\", \"car-type\": \"5\"}, {\"Timestamp\": \"2015-10-03 07:19:02\", \"gate-name\": \"entrance1\", \"car-id\": \"20152727122724-538\", \"car-type\": \"1\"}, {\"Timestamp\": \"2015-05-12 10:30:14\", \"gate-name\": \"entrance1\", \"car-id\": \"20153012103014-90\", \"car-type\": \"3\"}, {\"Timestamp\": \"2015-08-17 13:49:46\", \"gate-name\": \"entrance1\", \"car-id\": \"20154917014946-993\", \"car-type\": \"3\"}, {\"Timestamp\": \"2015-07-14 13:24:52\", \"gate-name\": \"entrance1\", \"car-id\": \"20152514122548-18\", \"car-type\": \"1\"}, {\"Timestamp\": \"2016-04-12 15:55:56\", \"gate-name\": \"entrance1\", \"car-id\": \"20162612032624-207\", \"car-type\": \"3\"}, {\"Timestamp\": \"2015-09-14 09:12:25\", \"gate-name\": \"entrance1\", \"car-id\": \"20150312030323-538\", \"car-type\": \"1\"}, {\"Timestamp\": \"2015-09-03 17:31:09\", \"gate-name\": \"entrance1\", \"car-id\": \"20153103053109-344\", \"car-type\": \"3\"}, {\"Timestamp\": \"2016-03-21 22:47:18\", \"gate-name\": \"entrance1\", \"car-id\": \"20164721104718-847\", \"car-type\": \"6\"}, {\"Timestamp\": \"2015-06-10 21:11:24\", \"gate-name\": \"entrance1\", \"car-id\": \"20150210080230-653\", \"car-type\": \"1\"}, {\"Timestamp\": \"2015-08-09 23:45:51\", \"gate-name\": \"entrance1\", \"car-id\": \"20151709111713-199\", \"car-type\": \"1\"}, {\"Timestamp\": \"2016-03-17 18:45:20\", \"gate-name\": \"entrance1\", \"car-id\": \"20163617053624-323\", \"car-type\": \"5\"}, {\"Timestamp\": \"2015-07-20 10:02:57\", \"gate-name\": \"entrance1\", \"car-id\": \"20150220100257-488\", \"car-type\": \"3\"}, {\"Timestamp\": \"2015-11-10 19:11:51\", \"gate-name\": \"entrance1\", \"car-id\": \"20151110071151-915\", \"car-type\": \"6\"}, {\"Timestamp\": \"2015-08-14 07:25:54\", \"gate-name\": \"entrance1\", \"car-id\": \"20151910111953-81\", \"car-type\": \"2\"}, {\"Timestamp\": \"2015-09-13 10:04:33\", \"gate-name\": \"entrance1\", \"car-id\": \"20150413100433-129\", \"car-type\": \"1\"}, {\"Timestamp\": \"2015-09-12 16:29:03\", \"gate-name\": \"entrance1\", \"car-id\": \"20152912042903-791\", \"car-type\": \"1\"}, {\"Timestamp\": \"2016-05-10 09:19:36\", \"gate-name\": \"entrance1\", \"car-id\": \"20160710080757-157\", \"car-type\": \"5\"}, {\"Timestamp\": \"2015-05-24 10:29:54\", \"gate-name\": \"entrance1\", \"car-id\": \"20152924102954-975\", \"car-type\": \"1\"}, {\"Timestamp\": \"2016-02-14 02:11:03\", \"gate-name\": \"entrance1\", \"car-id\": \"20161114021103-936\", \"car-type\": \"3\"}, {\"Timestamp\": \"2015-09-17 09:54:54\", \"gate-name\": \"entrance1\", \"car-id\": \"20155417095454-820\", \"car-type\": \"3\"}, {\"Timestamp\": \"2015-07-31 12:08:00\", \"gate-name\": \"entrance1\", \"car-id\": \"20150331070301-665\", \"car-type\": \"2\"}, {\"Timestamp\": \"2015-08-01 11:50:11\", \"gate-name\": \"entrance1\", \"car-id\": \"20151401111429-377\", \"car-type\": \"1\"}, {\"Timestamp\": \"2015-09-26 08:10:44\", \"gate-name\": \"entrance1\", \"car-id\": \"20151026081044-145\", \"car-type\": \"1\"}, {\"Timestamp\": \"2016-04-28 08:49:06\", \"gate-name\": \"entrance1\", \"car-id\": \"20164928084906-804\", \"car-type\": \"3\"}, {\"Timestamp\": \"2015-05-11 09:13:27\", \"gate-name\": \"entrance1\", \"car-id\": \"20153711083756-161\", \"car-type\": \"5\"}, {\"Timestamp\": \"2015-06-01 21:16:15\", \"gate-name\": \"entrance1\", \"car-id\": \"20151401081430-906\", \"car-type\": \"2\"}, {\"Timestamp\": \"2016-04-09 03:17:45\", \"gate-name\": \"entrance1\", \"car-id\": \"20161309021350-136\", \"car-type\": \"1\"}, {\"Timestamp\": \"2015-07-16 07:25:49\", \"gate-name\": \"entrance1\", \"car-id\": \"20152516072549-566\", \"car-type\": \"1\"}, {\"Timestamp\": \"2015-09-21 12:40:53\", \"gate-name\": \"entrance1\", \"car-id\": \"20154021124053-807\", \"car-type\": \"3\"}, {\"Timestamp\": \"2015-05-31 15:20:30\", \"gate-name\": \"entrance1\", \"car-id\": \"20152031032030-321\", \"car-type\": \"1\"}, {\"Timestamp\": \"2015-07-26 06:05:26\", \"gate-name\": \"entrance1\", \"car-id\": \"20150526060526-540\", \"car-type\": \"2\"}, {\"Timestamp\": \"2015-09-14 16:57:15\", \"gate-name\": \"entrance1\", \"car-id\": \"20150014030033-497\", \"car-type\": \"3\"}, {\"Timestamp\": \"2015-08-17 12:56:05\", \"gate-name\": \"entrance1\", \"car-id\": \"20155617125605-868\", \"car-type\": \"1\"}, {\"Timestamp\": \"2015-06-18 12:06:04\", \"gate-name\": \"entrance1\", \"car-id\": \"20150618120604-417\", \"car-type\": \"3\"}, {\"Timestamp\": \"2015-07-24 15:16:58\", \"gate-name\": \"entrance1\", \"car-id\": \"20151624031658-684\", \"car-type\": \"3\"}, {\"Timestamp\": \"2016-05-13 09:02:12\", \"gate-name\": \"entrance1\", \"car-id\": \"20160213090212-918\", \"car-type\": \"1\"}, {\"Timestamp\": \"2016-03-31 20:57:41\", \"gate-name\": \"entrance1\", \"car-id\": \"20162531082510-866\", \"car-type\": \"2\"}, {\"Timestamp\": \"2016-05-02 08:37:32\", \"gate-name\": \"entrance1\", \"car-id\": \"20163702083732-163\", \"car-type\": \"1\"}, {\"Timestamp\": \"2015-07-24 01:34:14\", \"gate-name\": \"entrance1\", \"car-id\": \"20153424013414-84\", \"car-type\": \"6\"}, {\"Timestamp\": \"2016-04-22 14:27:25\", \"gate-name\": \"entrance1\", \"car-id\": \"20162122012138-957\", \"car-type\": \"2\"}, {\"Timestamp\": \"2015-07-20 15:36:16\", \"gate-name\": \"entrance1\", \"car-id\": \"20153620033616-263\", \"car-type\": \"1\"}, {\"Timestamp\": \"2015-10-14 02:29:23\", \"gate-name\": \"entrance1\", \"car-id\": \"20150014020055-887\", \"car-type\": \"1\"}, {\"Timestamp\": \"2015-09-12 16:09:04\", \"gate-name\": \"entrance1\", \"car-id\": \"20154712064731-430\", \"car-type\": \"1\"}, {\"Timestamp\": \"2015-08-07 13:59:39\", \"gate-name\": \"entrance1\", \"car-id\": \"20152607012655-615\", \"car-type\": \"2\"}, {\"Timestamp\": \"2015-07-26 03:08:03\", \"gate-name\": \"entrance1\", \"car-id\": \"20150626020646-441\", \"car-type\": \"2\"}, {\"Timestamp\": \"2015-09-20 18:47:02\", \"gate-name\": \"entrance1\", \"car-id\": \"20150818060847-607\", \"car-type\": \"1\"}, {\"Timestamp\": \"2015-05-15 09:01:50\", \"gate-name\": \"entrance1\", \"car-id\": \"20150115090150-109\", \"car-type\": \"2\"}, {\"Timestamp\": \"2015-09-26 10:43:45\", \"gate-name\": \"entrance1\", \"car-id\": \"20154326104345-896\", \"car-type\": \"2\"}, {\"Timestamp\": \"2015-09-13 21:12:28\", \"gate-name\": \"entrance1\", \"car-id\": \"20155608095652-395\", \"car-type\": \"3\"}, {\"Timestamp\": \"2015-08-24 22:46:02\", \"gate-name\": \"entrance1\", \"car-id\": \"20154624104602-446\", \"car-type\": \"4\"}, {\"Timestamp\": \"2015-05-08 05:51:13\", \"gate-name\": \"entrance1\", \"car-id\": \"20155108055113-217\", \"car-type\": \"3\"}, {\"Timestamp\": \"2015-06-16 07:44:44\", \"gate-name\": \"entrance1\", \"car-id\": \"20154416074444-263\", \"car-type\": \"1\"}, {\"Timestamp\": \"2015-09-29 07:16:22\", \"gate-name\": \"entrance1\", \"car-id\": \"20151629071622-521\", \"car-type\": \"3\"}, {\"Timestamp\": \"2015-07-22 16:07:29\", \"gate-name\": \"entrance1\", \"car-id\": \"20150722040729-834\", \"car-type\": \"1\"}, {\"Timestamp\": \"2016-03-28 17:34:31\", \"gate-name\": \"entrance1\", \"car-id\": \"20163828043838-116\", \"car-type\": \"2\"}, {\"Timestamp\": \"2016-05-09 10:28:52\", \"gate-name\": \"entrance1\", \"car-id\": \"20162309092308-732\", \"car-type\": \"4\"}, {\"Timestamp\": \"2015-08-02 15:36:34\", \"gate-name\": \"entrance1\", \"car-id\": \"20153602033634-853\", \"car-type\": \"1\"}, {\"Timestamp\": \"2016-02-11 19:50:57\", \"gate-name\": \"entrance1\", \"car-id\": \"20165011075057-330\", \"car-type\": \"2\"}, {\"Timestamp\": \"2015-08-17 22:50:25\", \"gate-name\": \"entrance1\", \"car-id\": \"20154714074732-183\", \"car-type\": \"3\"}, {\"Timestamp\": \"2015-07-15 12:32:45\", \"gate-name\": \"entrance1\", \"car-id\": \"20150015120027-493\", \"car-type\": \"2\"}, {\"Timestamp\": \"2015-06-18 19:46:58\", \"gate-name\": \"entrance1\", \"car-id\": \"20151018071033-244\", \"car-type\": \"1\"}, {\"Timestamp\": \"2015-07-28 08:10:39\", \"gate-name\": \"entrance1\", \"car-id\": \"20151028081039-84\", \"car-type\": \"1\"}, {\"Timestamp\": \"2015-08-14 12:16:12\", \"gate-name\": \"entrance1\", \"car-id\": \"20151614121612-952\", \"car-type\": \"1\"}, {\"Timestamp\": \"2016-03-14 00:25:03\", \"gate-name\": \"entrance1\", \"car-id\": \"20165813115843-137\", \"car-type\": \"2\"}, {\"Timestamp\": \"2015-07-26 10:53:08\", \"gate-name\": \"entrance1\", \"car-id\": \"20155326105308-899\", \"car-type\": \"1\"}, {\"Timestamp\": \"2016-04-04 04:31:17\", \"gate-name\": \"entrance1\", \"car-id\": \"20162604032625-698\", \"car-type\": \"2\"}, {\"Timestamp\": \"2015-08-08 11:19:10\", \"gate-name\": \"entrance1\", \"car-id\": \"20151908111910-929\", \"car-type\": \"1\"}, {\"Timestamp\": \"2016-02-07 16:40:39\", \"gate-name\": \"entrance1\", \"car-id\": \"20164007044039-679\", \"car-type\": \"1\"}, {\"Timestamp\": \"2015-06-08 10:21:27\", \"gate-name\": \"entrance1\", \"car-id\": \"20152108102127-205\", \"car-type\": \"2\"}, {\"Timestamp\": \"2015-08-02 11:27:32\", \"gate-name\": \"entrance1\", \"car-id\": \"20154902104928-495\", \"car-type\": \"4\"}, {\"Timestamp\": \"2015-08-23 16:16:22\", \"gate-name\": \"entrance1\", \"car-id\": \"20151623041622-269\", \"car-type\": \"2\"}, {\"Timestamp\": \"2016-05-14 14:18:43\", \"gate-name\": \"entrance1\", \"car-id\": \"20164314014307-622\", \"car-type\": \"1\"}, {\"Timestamp\": \"2015-07-24 07:25:45\", \"gate-name\": \"entrance1\", \"car-id\": \"20152524072545-996\", \"car-type\": \"1\"}, {\"Timestamp\": \"2015-10-01 13:07:16\", \"gate-name\": \"entrance1\", \"car-id\": \"20153801123804-820\", \"car-type\": \"1\"}, {\"Timestamp\": \"2015-06-21 14:07:42\", \"gate-name\": \"entrance1\", \"car-id\": \"20150921060910-378\", \"car-type\": \"1\"}, {\"Timestamp\": \"2015-05-14 19:25:13\", \"gate-name\": \"entrance1\", \"car-id\": \"20152514072513-701\", \"car-type\": \"1\"}, {\"Timestamp\": \"2015-07-04 17:25:24\", \"gate-name\": \"entrance1\", \"car-id\": \"20155803085804-911\", \"car-type\": \"3\"}, {\"Timestamp\": \"2015-09-06 18:28:13\", \"gate-name\": \"entrance1\", \"car-id\": \"20152906052929-919\", \"car-type\": \"4\"}, {\"Timestamp\": \"2015-08-24 17:35:01\", \"gate-name\": \"entrance1\", \"car-id\": \"20150123100107-508\", \"car-type\": \"1\"}, {\"Timestamp\": \"2015-07-05 10:04:02\", \"gate-name\": \"entrance1\", \"car-id\": \"20150405100402-510\", \"car-type\": \"1\"}, {\"Timestamp\": \"2015-06-02 08:29:37\", \"gate-name\": \"entrance1\", \"car-id\": \"20152902082937-708\", \"car-type\": \"3\"}, {\"Timestamp\": \"2015-07-11 09:28:25\", \"gate-name\": \"entrance1\", \"car-id\": \"20152811092825-833\", \"car-type\": \"1\"}, {\"Timestamp\": \"2015-10-14 02:16:05\", \"gate-name\": \"entrance1\", \"car-id\": \"20154614014620-177\", \"car-type\": \"1\"}, {\"Timestamp\": \"2015-08-16 01:14:38\", \"gate-name\": \"entrance1\", \"car-id\": \"20154516124509-966\", \"car-type\": \"1\"}, {\"Timestamp\": \"2015-10-11 16:39:40\", \"gate-name\": \"entrance1\", \"car-id\": \"20153311033344-155\", \"car-type\": \"3\"}, {\"Timestamp\": \"2015-07-29 16:41:02\", \"gate-name\": \"entrance1\", \"car-id\": \"20152529032522-874\", \"car-type\": \"1\"}, {\"Timestamp\": \"2015-08-02 11:34:31\", \"gate-name\": \"entrance1\", \"car-id\": \"20153402113431-964\", \"car-type\": \"2\"}, {\"Timestamp\": \"2015-10-10 16:34:50\", \"gate-name\": \"entrance1\", \"car-id\": \"20153210033214-959\", \"car-type\": \"3\"}, {\"Timestamp\": \"2015-08-03 08:39:17\", \"gate-name\": \"entrance1\", \"car-id\": \"20153903083917-995\", \"car-type\": \"3\"}, {\"Timestamp\": \"2015-07-05 09:35:35\", \"gate-name\": \"entrance1\", \"car-id\": \"20153505093535-456\", \"car-type\": \"2\"}, {\"Timestamp\": \"2015-07-03 12:17:52\", \"gate-name\": \"entrance1\", \"car-id\": \"20155203105243-520\", \"car-type\": \"2\"}, {\"Timestamp\": \"2015-10-06 17:24:31\", \"gate-name\": \"entrance1\", \"car-id\": \"20151606031654-707\", \"car-type\": \"1\"}, {\"Timestamp\": \"2015-06-17 17:05:33\", \"gate-name\": \"entrance1\", \"car-id\": \"20150517050533-767\", \"car-type\": \"3\"}, {\"Timestamp\": \"2016-03-13 23:21:09\", \"gate-name\": \"entrance1\", \"car-id\": \"20165013105025-881\", \"car-type\": \"4\"}, {\"Timestamp\": \"2015-11-05 14:01:00\", \"gate-name\": \"entrance1\", \"car-id\": \"20150105020100-532\", \"car-type\": \"5\"}, {\"Timestamp\": \"2015-07-20 16:14:37\", \"gate-name\": \"entrance1\", \"car-id\": \"20151420041437-875\", \"car-type\": \"1\"}, {\"Timestamp\": \"2015-08-19 08:16:27\", \"gate-name\": \"entrance1\", \"car-id\": \"20151619081627-523\", \"car-type\": \"1\"}, {\"Timestamp\": \"2015-05-04 07:56:24\", \"gate-name\": \"entrance1\", \"car-id\": \"20152104072125-25\", \"car-type\": \"1\"}, {\"Timestamp\": \"2015-10-24 14:34:13\", \"gate-name\": \"entrance1\", \"car-id\": \"20153424023413-34\", \"car-type\": \"3\"}, {\"Timestamp\": \"2015-05-16 00:37:36\", \"gate-name\": \"entrance1\", \"car-id\": \"20153716123736-670\", \"car-type\": \"3\"}, {\"Timestamp\": \"2015-07-17 16:08:33\", \"gate-name\": \"entrance1\", \"car-id\": \"20150817040833-849\", \"car-type\": \"2\"}, {\"Timestamp\": \"2015-05-24 15:01:56\", \"gate-name\": \"entrance1\", \"car-id\": \"20155724015714-289\", \"car-type\": \"1\"}, {\"Timestamp\": \"2016-02-18 21:20:05\", \"gate-name\": \"entrance1\", \"car-id\": \"20165018085015-160\", \"car-type\": \"1\"}, {\"Timestamp\": \"2015-07-08 14:58:49\", \"gate-name\": \"entrance1\", \"car-id\": \"20155908015904-565\", \"car-type\": \"5\"}, {\"Timestamp\": \"2015-07-31 09:46:06\", \"gate-name\": \"entrance1\", \"car-id\": \"20154631094606-295\", \"car-type\": \"3\"}, {\"Timestamp\": \"2015-06-20 03:08:42\", \"gate-name\": \"entrance1\", \"car-id\": \"20150820030842-112\", \"car-type\": \"6\"}, {\"Timestamp\": \"2015-07-14 07:02:05\", \"gate-name\": \"entrance1\", \"car-id\": \"20150214070205-409\", \"car-type\": \"2\"}, {\"Timestamp\": \"2015-06-13 09:16:21\", \"gate-name\": \"entrance1\", \"car-id\": \"20151613091621-285\", \"car-type\": \"1\"}, {\"Timestamp\": \"2016-05-04 22:33:42\", \"gate-name\": \"entrance1\", \"car-id\": \"20163304103342-539\", \"car-type\": \"1\"}, {\"Timestamp\": \"2015-09-24 18:12:10\", \"gate-name\": \"entrance1\", \"car-id\": \"20154224054258-457\", \"car-type\": \"2\"}, {\"Timestamp\": \"2015-07-24 08:11:14\", \"gate-name\": \"entrance1\", \"car-id\": \"20151124081114-91\", \"car-type\": \"1\"}, {\"Timestamp\": \"2015-07-06 06:14:13\", \"gate-name\": \"entrance1\", \"car-id\": \"20151406061413-234\", \"car-type\": \"1\"}, {\"Timestamp\": \"2015-07-26 09:23:13\", \"gate-name\": \"entrance1\", \"car-id\": \"20152326092313-487\", \"car-type\": \"1\"}, {\"Timestamp\": \"2015-07-17 14:03:07\", \"gate-name\": \"entrance1\", \"car-id\": \"20150317020307-698\", \"car-type\": \"2\"}, {\"Timestamp\": \"2015-07-07 22:24:33\", \"gate-name\": \"entrance1\", \"car-id\": \"20155605125654-111\", \"car-type\": \"1\"}, {\"Timestamp\": \"2015-10-07 21:09:31\", \"gate-name\": \"entrance1\", \"car-id\": \"20153030113019-64\", \"car-type\": \"1\"}, {\"Timestamp\": \"2015-07-24 15:07:23\", \"gate-name\": \"entrance1\", \"car-id\": \"20154211024216-107\", \"car-type\": \"3\"}, {\"Timestamp\": \"2016-05-14 06:32:03\", \"gate-name\": \"entrance1\", \"car-id\": \"20160514060557-416\", \"car-type\": \"1\"}, {\"Timestamp\": \"2016-02-09 16:53:14\", \"gate-name\": \"entrance1\", \"car-id\": \"20164909034947-733\", \"car-type\": \"3\"}, {\"Timestamp\": \"2016-05-28 16:39:15\", \"gate-name\": \"entrance1\", \"car-id\": \"20163928043915-121\", \"car-type\": \"1\"}, {\"Timestamp\": \"2015-09-29 20:26:49\", \"gate-name\": \"entrance1\", \"car-id\": \"20151529071539-841\", \"car-type\": \"3\"}, {\"Timestamp\": \"2015-06-03 10:06:08\", \"gate-name\": \"entrance1\", \"car-id\": \"20150603100608-37\", \"car-type\": \"3\"}, {\"Timestamp\": \"2015-08-24 11:54:33\", \"gate-name\": \"entrance1\", \"car-id\": \"20155424115433-691\", \"car-type\": \"1\"}, {\"Timestamp\": \"2016-04-01 19:47:18\", \"gate-name\": \"entrance1\", \"car-id\": \"20164701074718-615\", \"car-type\": \"4\"}, {\"Timestamp\": \"2015-09-23 05:06:14\", \"gate-name\": \"entrance1\", \"car-id\": \"20150623050614-210\", \"car-type\": \"2\"}, {\"Timestamp\": \"2015-08-24 05:49:32\", \"gate-name\": \"entrance1\", \"car-id\": \"20154924054932-186\", \"car-type\": \"2\"}, {\"Timestamp\": \"2015-08-19 12:31:13\", \"gate-name\": \"entrance1\", \"car-id\": \"20153119123113-587\", \"car-type\": \"3\"}, {\"Timestamp\": \"2015-06-20 12:00:03\", \"gate-name\": \"entrance1\", \"car-id\": \"20150020120003-629\", \"car-type\": \"3\"}, {\"Timestamp\": \"2015-08-20 11:42:33\", \"gate-name\": \"entrance1\", \"car-id\": \"20151320111314-421\", \"car-type\": \"3\"}, {\"Timestamp\": \"2015-05-11 04:41:39\", \"gate-name\": \"entrance1\", \"car-id\": \"20154111044139-392\", \"car-type\": \"3\"}, {\"Timestamp\": \"2015-07-13 16:31:00\", \"gate-name\": \"entrance1\", \"car-id\": \"20153113043100-622\", \"car-type\": \"2\"}, {\"Timestamp\": \"2015-06-12 23:55:39\", \"gate-name\": \"entrance1\", \"car-id\": \"20155812105823-746\", \"car-type\": \"5\"}, {\"Timestamp\": \"2015-05-05 12:31:01\", \"gate-name\": \"entrance1\", \"car-id\": \"20153105123101-248\", \"car-type\": \"1\"}, {\"Timestamp\": \"2015-07-05 02:10:37\", \"gate-name\": \"entrance1\", \"car-id\": \"20151005021037-110\", \"car-type\": \"1\"}, {\"Timestamp\": \"2015-08-01 12:08:48\", \"gate-name\": \"entrance1\", \"car-id\": \"20150801120848-517\", \"car-type\": \"1\"}, {\"Timestamp\": \"2015-07-31 03:59:14\", \"gate-name\": \"entrance1\", \"car-id\": \"20150331030328-660\", \"car-type\": \"5\"}, {\"Timestamp\": \"2015-05-16 05:01:18\", \"gate-name\": \"entrance1\", \"car-id\": \"20153516043535-625\", \"car-type\": \"3\"}, {\"Timestamp\": \"2016-02-18 22:43:53\", \"gate-name\": \"entrance1\", \"car-id\": \"20164318104353-134\", \"car-type\": \"2\"}, {\"Timestamp\": \"2015-09-16 21:44:25\", \"gate-name\": \"entrance1\", \"car-id\": \"20151516091544-909\", \"car-type\": \"1\"}, {\"Timestamp\": \"2015-09-18 15:03:26\", \"gate-name\": \"entrance1\", \"car-id\": \"20155318015334-316\", \"car-type\": \"3\"}, {\"Timestamp\": \"2015-08-04 13:33:08\", \"gate-name\": \"entrance1\", \"car-id\": \"20154931054946-146\", \"car-type\": \"1\"}, {\"Timestamp\": \"2016-05-03 10:42:09\", \"gate-name\": \"entrance1\", \"car-id\": \"20161003101050-671\", \"car-type\": \"6\"}, {\"Timestamp\": \"2015-07-26 10:08:05\", \"gate-name\": \"entrance1\", \"car-id\": \"20151126091121-945\", \"car-type\": \"2\"}, {\"Timestamp\": \"2016-04-25 02:41:47\", \"gate-name\": \"entrance1\", \"car-id\": \"20164125024147-788\", \"car-type\": \"2\"}, {\"Timestamp\": \"2015-07-08 15:56:50\", \"gate-name\": \"entrance1\", \"car-id\": \"20155608035650-260\", \"car-type\": \"3\"}, {\"Timestamp\": \"2016-04-08 05:31:38\", \"gate-name\": \"entrance1\", \"car-id\": \"20165708045756-655\", \"car-type\": \"2\"}, {\"Timestamp\": \"2015-09-01 11:44:38\", \"gate-name\": \"entrance1\", \"car-id\": \"20154401114438-695\", \"car-type\": \"3\"}, {\"Timestamp\": \"2015-06-18 18:40:44\", \"gate-name\": \"entrance1\", \"car-id\": \"20154018064044-142\", \"car-type\": \"2\"}, {\"Timestamp\": \"2015-07-15 03:04:38\", \"gate-name\": \"entrance1\", \"car-id\": \"20150415030438-398\", \"car-type\": \"2\"}, {\"Timestamp\": \"2015-12-11 16:36:48\", \"gate-name\": \"entrance1\", \"car-id\": \"20151411041426-476\", \"car-type\": \"1\"}, {\"Timestamp\": \"2015-09-18 10:08:01\", \"gate-name\": \"entrance1\", \"car-id\": \"20150818100801-621\", \"car-type\": \"3\"}, {\"Timestamp\": \"2015-08-21 11:45:36\", \"gate-name\": \"entrance1\", \"car-id\": \"20154521114536-507\", \"car-type\": \"1\"}, {\"Timestamp\": \"2015-06-23 12:49:19\", \"gate-name\": \"entrance1\", \"car-id\": \"20151323091349-479\", \"car-type\": \"1\"}, {\"Timestamp\": \"2015-07-03 13:59:00\", \"gate-name\": \"entrance1\", \"car-id\": \"20155903015900-12\", \"car-type\": \"1\"}, {\"Timestamp\": \"2016-03-02 17:38:08\", \"gate-name\": \"entrance1\", \"car-id\": \"20164002044021-783\", \"car-type\": \"2\"}, {\"Timestamp\": \"2016-03-07 04:39:39\", \"gate-name\": \"entrance1\", \"car-id\": \"20163907043939-551\", \"car-type\": \"5\"}, {\"Timestamp\": \"2015-09-15 15:49:49\", \"gate-name\": \"entrance1\", \"car-id\": \"20151915031912-378\", \"car-type\": \"3\"}, {\"Timestamp\": \"2015-09-23 18:10:40\", \"gate-name\": \"entrance1\", \"car-id\": \"20155022025040-869\", \"car-type\": \"3\"}, {\"Timestamp\": \"2016-02-11 13:49:42\", \"gate-name\": \"entrance1\", \"car-id\": \"20161311011310-38\", \"car-type\": \"1\"}, {\"Timestamp\": \"2015-07-12 12:24:20\", \"gate-name\": \"entrance1\", \"car-id\": \"20152412112444-843\", \"car-type\": \"2\"}, {\"Timestamp\": \"2015-08-16 13:33:06\", \"gate-name\": \"entrance1\", \"car-id\": \"20153316013306-455\", \"car-type\": \"1\"}, {\"Timestamp\": \"2015-12-26 08:06:24\", \"gate-name\": \"entrance1\", \"car-id\": \"20150626080624-430\", \"car-type\": \"5\"}, {\"Timestamp\": \"2015-06-02 14:03:30\", \"gate-name\": \"entrance1\", \"car-id\": \"20151802061824-89\", \"car-type\": \"3\"}, {\"Timestamp\": \"2015-11-09 20:28:35\", \"gate-name\": \"entrance1\", \"car-id\": \"20150009080021-959\", \"car-type\": \"2\"}, {\"Timestamp\": \"2015-06-28 14:02:18\", \"gate-name\": \"entrance1\", \"car-id\": \"20150228020218-410\", \"car-type\": \"1\"}, {\"Timestamp\": \"2015-07-11 07:35:25\", \"gate-name\": \"entrance1\", \"car-id\": \"20153511073525-756\", \"car-type\": \"1\"}, {\"Timestamp\": \"2015-07-05 05:27:50\", \"gate-name\": \"entrance1\", \"car-id\": \"20151805041820-109\", \"car-type\": \"1\"}, {\"Timestamp\": \"2015-06-13 22:51:10\", \"gate-name\": \"entrance1\", \"car-id\": \"20154613094619-766\", \"car-type\": \"1\"}, {\"Timestamp\": \"2015-05-09 01:33:15\", \"gate-name\": \"entrance1\", \"car-id\": \"20150309010312-403\", \"car-type\": \"5\"}, {\"Timestamp\": \"2015-06-07 16:50:10\", \"gate-name\": \"entrance1\", \"car-id\": \"20155007045010-724\", \"car-type\": \"2\"}, {\"Timestamp\": \"2015-09-13 11:17:50\", \"gate-name\": \"entrance1\", \"car-id\": \"20151713111750-937\", \"car-type\": \"1\"}, {\"Timestamp\": \"2015-09-15 18:00:51\", \"gate-name\": \"entrance1\", \"car-id\": \"20154912104945-323\", \"car-type\": \"3\"}, {\"Timestamp\": \"2015-07-12 11:39:15\", \"gate-name\": \"entrance1\", \"car-id\": \"20153912113915-546\", \"car-type\": \"1\"}, {\"Timestamp\": \"2015-09-13 12:01:00\", \"gate-name\": \"entrance1\", \"car-id\": \"20150113120100-489\", \"car-type\": \"1\"}, {\"Timestamp\": \"2016-03-26 10:33:55\", \"gate-name\": \"entrance1\", \"car-id\": \"20163326093340-289\", \"car-type\": \"4\"}, {\"Timestamp\": \"2015-10-26 13:53:57\", \"gate-name\": \"entrance1\", \"car-id\": \"20152826012852-120\", \"car-type\": \"3\"}, {\"Timestamp\": \"2015-08-02 09:53:25\", \"gate-name\": \"entrance1\", \"car-id\": \"20150501090516-171\", \"car-type\": \"3\"}, {\"Timestamp\": \"2015-08-28 23:18:07\", \"gate-name\": \"entrance1\", \"car-id\": \"20151828111807-243\", \"car-type\": \"3\"}, {\"Timestamp\": \"2015-10-02 22:04:27\", \"gate-name\": \"entrance1\", \"car-id\": \"20155526085516-0\", \"car-type\": \"2\"}, {\"Timestamp\": \"2015-05-19 02:04:08\", \"gate-name\": \"entrance1\", \"car-id\": \"20150419020408-913\", \"car-type\": \"2\"}, {\"Timestamp\": \"2016-05-26 02:58:34\", \"gate-name\": \"entrance1\", \"car-id\": \"20165826025834-370\", \"car-type\": \"3\"}, {\"Timestamp\": \"2015-10-02 11:50:40\", \"gate-name\": \"entrance1\", \"car-id\": \"20155002115040-685\", \"car-type\": \"1\"}, {\"Timestamp\": \"2015-06-19 16:22:19\", \"gate-name\": \"entrance1\", \"car-id\": \"20150517080508-420\", \"car-type\": \"2\"}, {\"Timestamp\": \"2015-07-23 13:15:45\", \"gate-name\": \"entrance1\", \"car-id\": \"20151721111744-664\", \"car-type\": \"1\"}, {\"Timestamp\": \"2015-06-21 06:03:48\", \"gate-name\": \"entrance1\", \"car-id\": \"20150321060348-225\", \"car-type\": \"1\"}, {\"Timestamp\": \"2016-02-14 03:06:01\", \"gate-name\": \"entrance1\", \"car-id\": \"20161014021034-794\", \"car-type\": \"2\"}, {\"Timestamp\": \"2015-09-15 11:03:03\", \"gate-name\": \"entrance1\", \"car-id\": \"20150315110303-677\", \"car-type\": \"1\"}, {\"Timestamp\": \"2015-07-03 17:14:07\", \"gate-name\": \"entrance1\", \"car-id\": \"20150030050049-156\", \"car-type\": \"2\"}, {\"Timestamp\": \"2016-05-27 09:32:41\", \"gate-name\": \"entrance1\", \"car-id\": \"20160527090522-970\", \"car-type\": \"2\"}, {\"Timestamp\": \"2015-07-15 15:38:41\", \"gate-name\": \"entrance1\", \"car-id\": \"20154215024235-585\", \"car-type\": \"3\"}, {\"Timestamp\": \"2015-08-25 15:28:37\", \"gate-name\": \"entrance1\", \"car-id\": \"20150524010519-501\", \"car-type\": \"2\"}, {\"Timestamp\": \"2015-07-04 00:12:08\", \"gate-name\": \"entrance1\", \"car-id\": \"20151204121208-62\", \"car-type\": \"2\"}, {\"Timestamp\": \"2015-08-17 22:00:15\", \"gate-name\": \"entrance1\", \"car-id\": \"20155817085820-280\", \"car-type\": \"1\"}, {\"Timestamp\": \"2015-09-17 13:21:05\", \"gate-name\": \"entrance1\", \"car-id\": \"20152117012105-319\", \"car-type\": \"3\"}, {\"Timestamp\": \"2015-05-30 10:40:48\", \"gate-name\": \"entrance1\", \"car-id\": \"20150330100336-92\", \"car-type\": \"5\"}, {\"Timestamp\": \"2015-05-16 09:20:04\", \"gate-name\": \"entrance1\", \"car-id\": \"20152016092004-862\", \"car-type\": \"2\"}, {\"Timestamp\": \"2015-07-23 09:56:18\", \"gate-name\": \"entrance1\", \"car-id\": \"20155623095618-430\", \"car-type\": \"1\"}, {\"Timestamp\": \"2015-11-27 08:48:54\", \"gate-name\": \"entrance1\", \"car-id\": \"20151627081615-572\", \"car-type\": \"4\"}, {\"Timestamp\": \"2015-07-04 13:11:37\", \"gate-name\": \"entrance1\", \"car-id\": \"20155901125946-822\", \"car-type\": \"2\"}, {\"Timestamp\": \"2015-05-24 03:48:47\", \"gate-name\": \"entrance1\", \"car-id\": \"20154724024734-116\", \"car-type\": \"1\"}, {\"Timestamp\": \"2015-07-27 13:02:25\", \"gate-name\": \"entrance1\", \"car-id\": \"20151827111830-164\", \"car-type\": \"1\"}, {\"Timestamp\": \"2016-02-12 03:15:54\", \"gate-name\": \"entrance1\", \"car-id\": \"20161512031554-290\", \"car-type\": \"3\"}, {\"Timestamp\": \"2016-02-20 12:02:45\", \"gate-name\": \"entrance1\", \"car-id\": \"20160220120245-802\", \"car-type\": \"3\"}, {\"Timestamp\": \"2015-06-03 10:14:18\", \"gate-name\": \"entrance1\", \"car-id\": \"20151403101418-295\", \"car-type\": \"2\"}, {\"Timestamp\": \"2015-06-05 06:56:13\", \"gate-name\": \"entrance1\", \"car-id\": \"20155605065613-54\", \"car-type\": \"2\"}, {\"Timestamp\": \"2015-06-24 17:19:01\", \"gate-name\": \"entrance1\", \"car-id\": \"20151924051901-835\", \"car-type\": \"2\"}, {\"Timestamp\": \"2015-07-27 07:08:31\", \"gate-name\": \"entrance1\", \"car-id\": \"20150827070831-208\", \"car-type\": \"2\"}, {\"Timestamp\": \"2015-09-20 10:28:27\", \"gate-name\": \"entrance1\", \"car-id\": \"20152820102827-437\", \"car-type\": \"3\"}, {\"Timestamp\": \"2015-09-29 07:08:56\", \"gate-name\": \"entrance1\", \"car-id\": \"20150829070856-319\", \"car-type\": \"1\"}, {\"Timestamp\": \"2015-08-21 21:52:08\", \"gate-name\": \"entrance1\", \"car-id\": \"20155621085644-587\", \"car-type\": \"4\"}, {\"Timestamp\": \"2015-08-13 07:40:34\", \"gate-name\": \"entrance1\", \"car-id\": \"20154013074034-724\", \"car-type\": \"1\"}, {\"Timestamp\": \"2015-11-28 23:15:24\", \"gate-name\": \"entrance1\", \"car-id\": \"20151528111524-130\", \"car-type\": \"5\"}, {\"Timestamp\": \"2016-05-22 20:58:19\", \"gate-name\": \"entrance1\", \"car-id\": \"20162722082702-846\", \"car-type\": \"4\"}, {\"Timestamp\": \"2015-08-03 00:23:00\", \"gate-name\": \"entrance1\", \"car-id\": \"20152303122300-503\", \"car-type\": \"4\"}, {\"Timestamp\": \"2015-06-18 10:25:40\", \"gate-name\": \"entrance1\", \"car-id\": \"20152518102540-889\", \"car-type\": \"4\"}, {\"Timestamp\": \"2015-09-21 03:27:32\", \"gate-name\": \"entrance1\", \"car-id\": \"20153021023003-930\", \"car-type\": \"4\"}, {\"Timestamp\": \"2015-07-05 07:10:24\", \"gate-name\": \"entrance1\", \"car-id\": \"20151005071024-452\", \"car-type\": \"1\"}, {\"Timestamp\": \"2016-03-05 10:45:49\", \"gate-name\": \"entrance1\", \"car-id\": \"20164705094758-115\", \"car-type\": \"2\"}, {\"Timestamp\": \"2015-05-06 01:21:43\", \"gate-name\": \"entrance1\", \"car-id\": \"20152106012143-868\", \"car-type\": \"4\"}, {\"Timestamp\": \"2015-07-27 06:14:44\", \"gate-name\": \"entrance1\", \"car-id\": \"20151427061444-918\", \"car-type\": \"5\"}, {\"Timestamp\": \"2015-05-09 04:02:22\", \"gate-name\": \"entrance1\", \"car-id\": \"20150209040222-611\", \"car-type\": \"3\"}, {\"Timestamp\": \"2015-11-24 16:24:45\", \"gate-name\": \"entrance1\", \"car-id\": \"20152724032734-919\", \"car-type\": \"1\"}, {\"Timestamp\": \"2015-07-14 15:19:17\", \"gate-name\": \"entrance1\", \"car-id\": \"20154914024933-528\", \"car-type\": \"2\"}, {\"Timestamp\": \"2015-07-31 15:04:58\", \"gate-name\": \"entrance1\", \"car-id\": \"20150431030458-145\", \"car-type\": \"3\"}, {\"Timestamp\": \"2015-08-09 08:28:00\", \"gate-name\": \"entrance1\", \"car-id\": \"20152809082800-369\", \"car-type\": \"1\"}, {\"Timestamp\": \"2015-06-03 21:40:16\", \"gate-name\": \"entrance1\", \"car-id\": \"20154003094016-490\", \"car-type\": \"5\"}, {\"Timestamp\": \"2016-05-15 07:53:22\", \"gate-name\": \"entrance1\", \"car-id\": \"20165315075322-923\", \"car-type\": \"1\"}, {\"Timestamp\": \"2015-07-03 07:13:56\", \"gate-name\": \"entrance1\", \"car-id\": \"20151303071356-254\", \"car-type\": \"3\"}, {\"Timestamp\": \"2015-06-14 11:50:40\", \"gate-name\": \"entrance1\", \"car-id\": \"20155014115040-352\", \"car-type\": \"1\"}, {\"Timestamp\": \"2015-07-24 20:06:48\", \"gate-name\": \"entrance1\", \"car-id\": \"20154024074003-16\", \"car-type\": \"6\"}, {\"Timestamp\": \"2015-06-13 13:35:06\", \"gate-name\": \"entrance1\", \"car-id\": \"20153513013506-980\", \"car-type\": \"3\"}, {\"Timestamp\": \"2015-05-21 13:20:32\", \"gate-name\": \"entrance1\", \"car-id\": \"20152221122225-86\", \"car-type\": \"3\"}, {\"Timestamp\": \"2015-09-25 22:16:02\", \"gate-name\": \"entrance1\", \"car-id\": \"20151925091930-54\", \"car-type\": \"1\"}, {\"Timestamp\": \"2016-05-04 01:56:05\", \"gate-name\": \"entrance1\", \"car-id\": \"20165704125735-467\", \"car-type\": \"1\"}, {\"Timestamp\": \"2015-09-10 14:06:55\", \"gate-name\": \"entrance1\", \"car-id\": \"20150710010736-777\", \"car-type\": \"2\"}, {\"Timestamp\": \"2015-07-30 12:51:22\", \"gate-name\": \"entrance1\", \"car-id\": \"20152724032744-453\", \"car-type\": \"2\"}, {\"Timestamp\": \"2015-06-21 09:37:48\", \"gate-name\": \"entrance1\", \"car-id\": \"20153721093748-104\", \"car-type\": \"3\"}, {\"Timestamp\": \"2015-09-22 05:46:28\", \"gate-name\": \"entrance1\", \"car-id\": \"20154622054628-601\", \"car-type\": \"1\"}, {\"Timestamp\": \"2015-06-17 10:32:51\", \"gate-name\": \"entrance1\", \"car-id\": \"20153217103251-836\", \"car-type\": \"1\"}, {\"Timestamp\": \"2015-09-17 17:49:28\", \"gate-name\": \"entrance1\", \"car-id\": \"20154917054928-183\", \"car-type\": \"3\"}, {\"Timestamp\": \"2015-09-03 15:06:31\", \"gate-name\": \"entrance1\", \"car-id\": \"20153103053151-915\", \"car-type\": \"1\"}, {\"Timestamp\": \"2016-03-13 21:18:25\", \"gate-name\": \"entrance1\", \"car-id\": \"20165213085258-52\", \"car-type\": \"2\"}, {\"Timestamp\": \"2015-10-15 22:23:39\", \"gate-name\": \"entrance1\", \"car-id\": \"20152315102339-716\", \"car-type\": \"2\"}, {\"Timestamp\": \"2015-08-24 20:47:18\", \"gate-name\": \"entrance1\", \"car-id\": \"20155224075219-422\", \"car-type\": \"4\"}, {\"Timestamp\": \"2015-08-14 10:30:11\", \"gate-name\": \"entrance1\", \"car-id\": \"20153014103011-455\", \"car-type\": \"1\"}, {\"Timestamp\": \"2015-10-24 23:52:24\", \"gate-name\": \"entrance1\", \"car-id\": \"20155824105853-847\", \"car-type\": \"3\"}, {\"Timestamp\": \"2016-03-05 22:10:26\", \"gate-name\": \"entrance1\", \"car-id\": \"20161005101026-599\", \"car-type\": \"1\"}, {\"Timestamp\": \"2016-05-04 18:19:59\", \"gate-name\": \"entrance1\", \"car-id\": \"20161404051449-702\", \"car-type\": \"1\"}, {\"Timestamp\": \"2015-06-29 14:09:25\", \"gate-name\": \"entrance1\", \"car-id\": \"20150929020925-480\", \"car-type\": \"2\"}, {\"Timestamp\": \"2015-09-19 07:26:41\", \"gate-name\": \"entrance1\", \"car-id\": \"20152619072641-809\", \"car-type\": \"1\"}, {\"Timestamp\": \"2015-07-17 10:52:24\", \"gate-name\": \"entrance1\", \"car-id\": \"20155217105224-269\", \"car-type\": \"2\"}, {\"Timestamp\": \"2015-11-14 17:48:50\", \"gate-name\": \"entrance1\", \"car-id\": \"20154814054850-79\", \"car-type\": \"2\"}, {\"Timestamp\": \"2015-09-21 00:01:52\", \"gate-name\": \"entrance1\", \"car-id\": \"20153520113539-93\", \"car-type\": \"2\"}, {\"Timestamp\": \"2015-09-17 16:12:52\", \"gate-name\": \"entrance1\", \"car-id\": \"20151217041252-159\", \"car-type\": \"2\"}, {\"Timestamp\": \"2015-08-05 13:01:51\", \"gate-name\": \"entrance1\", \"car-id\": \"20154403054427-199\", \"car-type\": \"2\"}, {\"Timestamp\": \"2015-07-17 09:13:04\", \"gate-name\": \"entrance1\", \"car-id\": \"20154617074637-396\", \"car-type\": \"2\"}, {\"Timestamp\": \"2015-06-06 13:49:56\", \"gate-name\": \"entrance1\", \"car-id\": \"20154906014956-369\", \"car-type\": \"1\"}, {\"Timestamp\": \"2016-05-24 21:51:11\", \"gate-name\": \"entrance1\", \"car-id\": \"20162124092143-182\", \"car-type\": \"6\"}, {\"Timestamp\": \"2015-07-13 23:01:48\", \"gate-name\": \"entrance1\", \"car-id\": \"20154712124711-992\", \"car-type\": \"2\"}, {\"Timestamp\": \"2015-07-31 12:30:05\", \"gate-name\": \"entrance1\", \"car-id\": \"20153031123005-845\", \"car-type\": \"2\"}, {\"Timestamp\": \"2015-08-11 17:58:56\", \"gate-name\": \"entrance1\", \"car-id\": \"20152211042237-726\", \"car-type\": \"1\"}, {\"Timestamp\": \"2015-11-20 21:04:12\", \"gate-name\": \"entrance1\", \"car-id\": \"20150420090412-587\", \"car-type\": \"5\"}, {\"Timestamp\": \"2016-02-09 06:10:31\", \"gate-name\": \"entrance1\", \"car-id\": \"20160309050326-469\", \"car-type\": \"3\"}, {\"Timestamp\": \"2015-08-02 08:30:05\", \"gate-name\": \"entrance1\", \"car-id\": \"20153002083005-261\", \"car-type\": \"1\"}, {\"Timestamp\": \"2015-08-10 05:04:29\", \"gate-name\": \"entrance1\", \"car-id\": \"20150410050429-88\", \"car-type\": \"2\"}, {\"Timestamp\": \"2015-09-20 14:55:23\", \"gate-name\": \"entrance1\", \"car-id\": \"20155318045300-137\", \"car-type\": \"3\"}, {\"Timestamp\": \"2015-07-12 13:46:42\", \"gate-name\": \"entrance1\", \"car-id\": \"20154612014642-990\", \"car-type\": \"1\"}, {\"Timestamp\": \"2016-05-01 06:50:47\", \"gate-name\": \"entrance1\", \"car-id\": \"20165001065047-958\", \"car-type\": \"1\"}, {\"Timestamp\": \"2015-07-24 00:12:30\", \"gate-name\": \"entrance1\", \"car-id\": \"20154023114043-198\", \"car-type\": \"5\"}, {\"Timestamp\": \"2015-09-24 14:28:26\", \"gate-name\": \"entrance1\", \"car-id\": \"20152824022826-397\", \"car-type\": \"3\"}, {\"Timestamp\": \"2015-07-08 17:54:23\", \"gate-name\": \"entrance1\", \"car-id\": \"20153308043333-974\", \"car-type\": \"2\"}, {\"Timestamp\": \"2015-08-28 22:12:10\", \"gate-name\": \"entrance1\", \"car-id\": \"20154028094035-124\", \"car-type\": \"3\"}, {\"Timestamp\": \"2015-07-16 09:00:24\", \"gate-name\": \"entrance1\", \"car-id\": \"20150016090024-567\", \"car-type\": \"1\"}, {\"Timestamp\": \"2015-06-28 17:23:31\", \"gate-name\": \"entrance1\", \"car-id\": \"20152328052331-12\", \"car-type\": \"6\"}, {\"Timestamp\": \"2015-08-30 02:58:13\", \"gate-name\": \"entrance1\", \"car-id\": \"20155230015214-596\", \"car-type\": \"1\"}, {\"Timestamp\": \"2015-06-24 08:55:30\", \"gate-name\": \"entrance1\", \"car-id\": \"20154021124002-193\", \"car-type\": \"3\"}, {\"Timestamp\": \"2015-06-19 08:59:37\", \"gate-name\": \"entrance1\", \"car-id\": \"20155919085937-643\", \"car-type\": \"3\"}, {\"Timestamp\": \"2016-05-17 12:57:40\", \"gate-name\": \"entrance1\", \"car-id\": \"20165717125740-295\", \"car-type\": \"6\"}, {\"Timestamp\": \"2015-11-30 11:16:36\", \"gate-name\": \"entrance1\", \"car-id\": \"20154130104133-234\", \"car-type\": \"1\"}, {\"Timestamp\": \"2015-07-05 13:44:54\", \"gate-name\": \"entrance1\", \"car-id\": \"20154405014454-661\", \"car-type\": \"2\"}, {\"Timestamp\": \"2015-08-27 09:20:34\", \"gate-name\": \"entrance1\", \"car-id\": \"20153523113541-168\", \"car-type\": \"2\"}, {\"Timestamp\": \"2015-07-01 07:59:38\", \"gate-name\": \"entrance1\", \"car-id\": \"20155901075938-57\", \"car-type\": \"2\"}, {\"Timestamp\": \"2015-07-15 08:02:33\", \"gate-name\": \"entrance1\", \"car-id\": \"20150215080233-547\", \"car-type\": \"3\"}, {\"Timestamp\": \"2016-05-29 22:58:51\", \"gate-name\": \"entrance1\", \"car-id\": \"20162929102912-811\", \"car-type\": \"2\"}, {\"Timestamp\": \"2015-06-18 16:09:02\", \"gate-name\": \"entrance1\", \"car-id\": \"20150918040902-934\", \"car-type\": \"1\"}, {\"Timestamp\": \"2015-10-25 04:30:00\", \"gate-name\": \"entrance1\", \"car-id\": \"20153025043000-31\", \"car-type\": \"4\"}, {\"Timestamp\": \"2015-07-10 13:55:16\", \"gate-name\": \"entrance1\", \"car-id\": \"20155510015516-82\", \"car-type\": \"1\"}, {\"Timestamp\": \"2015-08-07 07:52:09\", \"gate-name\": \"entrance1\", \"car-id\": \"20155207075209-878\", \"car-type\": \"1\"}, {\"Timestamp\": \"2015-06-03 00:56:12\", \"gate-name\": \"entrance1\", \"car-id\": \"20154602114625-138\", \"car-type\": \"3\"}, {\"Timestamp\": \"2015-07-26 12:18:30\", \"gate-name\": \"entrance1\", \"car-id\": \"20151826121830-361\", \"car-type\": \"3\"}, {\"Timestamp\": \"2015-08-26 01:22:02\", \"gate-name\": \"entrance1\", \"car-id\": \"20152226012202-158\", \"car-type\": \"3\"}, {\"Timestamp\": \"2015-07-01 09:17:30\", \"gate-name\": \"entrance1\", \"car-id\": \"20151701091730-48\", \"car-type\": \"3\"}, {\"Timestamp\": \"2016-05-27 16:14:07\", \"gate-name\": \"entrance1\", \"car-id\": \"20162222042259-769\", \"car-type\": \"1\"}, {\"Timestamp\": \"2015-07-29 23:16:04\", \"gate-name\": \"entrance1\", \"car-id\": \"20151629111604-526\", \"car-type\": \"5\"}, {\"Timestamp\": \"2015-07-06 22:16:01\", \"gate-name\": \"entrance1\", \"car-id\": \"20151202021203-963\", \"car-type\": \"1\"}, {\"Timestamp\": \"2016-05-28 11:34:41\", \"gate-name\": \"entrance1\", \"car-id\": \"20163428113441-1\", \"car-type\": \"1\"}, {\"Timestamp\": \"2015-08-26 15:13:21\", \"gate-name\": \"entrance1\", \"car-id\": \"20151326031321-981\", \"car-type\": \"2\"}, {\"Timestamp\": \"2015-07-09 08:29:30\", \"gate-name\": \"entrance1\", \"car-id\": \"20152909082930-35\", \"car-type\": \"1\"}, {\"Timestamp\": \"2015-09-01 22:55:57\", \"gate-name\": \"entrance1\", \"car-id\": \"20155501105557-44\", \"car-type\": \"2\"}, {\"Timestamp\": \"2015-09-01 09:39:35\", \"gate-name\": \"entrance1\", \"car-id\": \"20153901093935-546\", \"car-type\": \"3\"}, {\"Timestamp\": \"2015-07-25 10:25:59\", \"gate-name\": \"entrance1\", \"car-id\": \"20152525102559-950\", \"car-type\": \"2\"}, {\"Timestamp\": \"2015-08-10 14:37:38\", \"gate-name\": \"entrance1\", \"car-id\": \"20153710023738-627\", \"car-type\": \"1\"}, {\"Timestamp\": \"2015-07-13 08:29:12\", \"gate-name\": \"entrance1\", \"car-id\": \"20152913082912-781\", \"car-type\": \"1\"}, {\"Timestamp\": \"2016-05-03 19:27:45\", \"gate-name\": \"entrance1\", \"car-id\": \"20162703072745-492\", \"car-type\": \"3\"}, {\"Timestamp\": \"2015-09-22 12:31:56\", \"gate-name\": \"entrance1\", \"car-id\": \"20153122123156-333\", \"car-type\": \"3\"}, {\"Timestamp\": \"2015-09-08 16:22:43\", \"gate-name\": \"entrance1\", \"car-id\": \"20152208042243-251\", \"car-type\": \"3\"}, {\"Timestamp\": \"2015-10-06 19:45:27\", \"gate-name\": \"entrance1\", \"car-id\": \"20155121015151-176\", \"car-type\": \"1\"}, {\"Timestamp\": \"2015-06-21 16:10:05\", \"gate-name\": \"entrance1\", \"car-id\": \"20151021041005-169\", \"car-type\": \"1\"}, {\"Timestamp\": \"2015-07-25 19:29:17\", \"gate-name\": \"entrance1\", \"car-id\": \"20152925072917-129\", \"car-type\": \"5\"}, {\"Timestamp\": \"2015-07-16 16:27:57\", \"gate-name\": \"entrance1\", \"car-id\": \"20152716042757-275\", \"car-type\": \"1\"}, {\"Timestamp\": \"2015-08-04 09:28:44\", \"gate-name\": \"entrance1\", \"car-id\": \"20155604085613-63\", \"car-type\": \"2\"}, {\"Timestamp\": \"2015-08-27 07:50:33\", \"gate-name\": \"entrance1\", \"car-id\": \"20155027075033-613\", \"car-type\": \"1\"}, {\"Timestamp\": \"2016-02-29 23:47:27\", \"gate-name\": \"entrance1\", \"car-id\": \"20162029112037-323\", \"car-type\": \"4\"}, {\"Timestamp\": \"2015-07-19 20:27:32\", \"gate-name\": \"entrance1\", \"car-id\": \"20152719082732-854\", \"car-type\": \"1\"}, {\"Timestamp\": \"2016-04-02 06:34:33\", \"gate-name\": \"entrance1\", \"car-id\": \"20163402063433-801\", \"car-type\": \"3\"}, {\"Timestamp\": \"2016-02-13 17:55:40\", \"gate-name\": \"entrance1\", \"car-id\": \"20165413045401-707\", \"car-type\": \"1\"}, {\"Timestamp\": \"2015-07-21 09:29:06\", \"gate-name\": \"entrance1\", \"car-id\": \"20152921092906-775\", \"car-type\": \"1\"}, {\"Timestamp\": \"2015-10-17 10:14:56\", \"gate-name\": \"entrance1\", \"car-id\": \"20151417101456-132\", \"car-type\": \"1\"}, {\"Timestamp\": \"2015-08-10 06:37:50\", \"gate-name\": \"entrance1\", \"car-id\": \"20152209112223-837\", \"car-type\": \"2\"}, {\"Timestamp\": \"2015-05-06 16:53:44\", \"gate-name\": \"entrance1\", \"car-id\": \"20155306045344-471\", \"car-type\": \"1\"}, {\"Timestamp\": \"2015-09-06 08:53:22\", \"gate-name\": \"entrance1\", \"car-id\": \"20153804013829-884\", \"car-type\": \"2\"}, {\"Timestamp\": \"2015-07-09 17:13:15\", \"gate-name\": \"entrance1\", \"car-id\": \"20154507034519-6\", \"car-type\": \"2\"}, {\"Timestamp\": \"2015-08-21 14:44:43\", \"gate-name\": \"entrance1\", \"car-id\": \"20154421024443-839\", \"car-type\": \"1\"}, {\"Timestamp\": \"2015-08-07 15:55:35\", \"gate-name\": \"entrance1\", \"car-id\": \"20155405125402-226\", \"car-type\": \"1\"}, {\"Timestamp\": \"2015-07-27 19:28:01\", \"gate-name\": \"entrance1\", \"car-id\": \"20152819112852-444\", \"car-type\": \"2\"}, {\"Timestamp\": \"2015-07-11 07:23:15\", \"gate-name\": \"entrance1\", \"car-id\": \"20152311072315-507\", \"car-type\": \"5\"}, {\"Timestamp\": \"2016-03-24 23:22:31\", \"gate-name\": \"entrance1\", \"car-id\": \"20162224112231-78\", \"car-type\": \"1\"}, {\"Timestamp\": \"2015-06-25 07:11:31\", \"gate-name\": \"entrance1\", \"car-id\": \"20151621011631-58\", \"car-type\": \"1\"}, {\"Timestamp\": \"2015-07-18 09:05:00\", \"gate-name\": \"entrance1\", \"car-id\": \"20150518090500-717\", \"car-type\": \"3\"}, {\"Timestamp\": \"2015-07-07 17:45:06\", \"gate-name\": \"entrance1\", \"car-id\": \"20152105062125-369\", \"car-type\": \"2\"}, {\"Timestamp\": \"2015-09-18 14:02:35\", \"gate-name\": \"entrance1\", \"car-id\": \"20150218020235-744\", \"car-type\": \"2\"}, {\"Timestamp\": \"2015-07-24 18:22:54\", \"gate-name\": \"entrance1\", \"car-id\": \"20152224062254-484\", \"car-type\": \"4\"}, {\"Timestamp\": \"2016-04-30 10:41:42\", \"gate-name\": \"entrance1\", \"car-id\": \"20164130104142-495\", \"car-type\": \"4\"}, {\"Timestamp\": \"2015-07-16 09:27:24\", \"gate-name\": \"entrance1\", \"car-id\": \"20152112022147-274\", \"car-type\": \"2\"}, {\"Timestamp\": \"2015-08-28 06:23:40\", \"gate-name\": \"entrance1\", \"car-id\": \"20152328062340-570\", \"car-type\": \"1\"}, {\"Timestamp\": \"2016-04-24 11:27:02\", \"gate-name\": \"entrance1\", \"car-id\": \"20160124110147-318\", \"car-type\": \"1\"}, {\"Timestamp\": \"2015-08-10 17:15:59\", \"gate-name\": \"entrance1\", \"car-id\": \"20151510051559-717\", \"car-type\": \"1\"}, {\"Timestamp\": \"2015-09-13 10:07:12\", \"gate-name\": \"entrance1\", \"car-id\": \"20155613095654-874\", \"car-type\": \"1\"}, {\"Timestamp\": \"2016-03-10 15:51:32\", \"gate-name\": \"entrance1\", \"car-id\": \"20165110025106-809\", \"car-type\": \"2\"}, {\"Timestamp\": \"2016-04-25 18:17:24\", \"gate-name\": \"entrance1\", \"car-id\": \"20164525054530-442\", \"car-type\": \"1\"}, {\"Timestamp\": \"2015-06-07 19:26:41\", \"gate-name\": \"entrance1\", \"car-id\": \"20152307062331-61\", \"car-type\": \"5\"}, {\"Timestamp\": \"2015-09-19 05:44:46\", \"gate-name\": \"entrance1\", \"car-id\": \"20154419054446-648\", \"car-type\": \"1\"}, {\"Timestamp\": \"2015-07-27 17:02:49\", \"gate-name\": \"entrance1\", \"car-id\": \"20150227050249-620\", \"car-type\": \"2\"}, {\"Timestamp\": \"2016-03-14 01:05:14\", \"gate-name\": \"entrance1\", \"car-id\": \"20161014121051-972\", \"car-type\": \"1\"}, {\"Timestamp\": \"2015-07-31 13:08:10\", \"gate-name\": \"entrance1\", \"car-id\": \"20150831010810-141\", \"car-type\": \"1\"}, {\"Timestamp\": \"2015-07-15 07:19:21\", \"gate-name\": \"entrance1\", \"car-id\": \"20151614071608-934\", \"car-type\": \"1\"}, {\"Timestamp\": \"2015-05-10 14:34:31\", \"gate-name\": \"entrance1\", \"car-id\": \"20153410023431-149\", \"car-type\": \"3\"}, {\"Timestamp\": \"2015-06-14 19:44:35\", \"gate-name\": \"entrance1\", \"car-id\": \"20150714070731-335\", \"car-type\": \"6\"}, {\"Timestamp\": \"2016-03-14 14:32:39\", \"gate-name\": \"entrance1\", \"car-id\": \"20163214023239-288\", \"car-type\": \"5\"}, {\"Timestamp\": \"2015-08-15 18:39:29\", \"gate-name\": \"entrance1\", \"car-id\": \"20150715060701-150\", \"car-type\": \"2\"}, {\"Timestamp\": \"2016-02-01 04:34:38\", \"gate-name\": \"entrance1\", \"car-id\": \"20165901035931-51\", \"car-type\": \"2\"}, {\"Timestamp\": \"2016-03-03 19:34:15\", \"gate-name\": \"entrance1\", \"car-id\": \"20160903070928-461\", \"car-type\": \"4\"}, {\"Timestamp\": \"2016-04-06 05:11:58\", \"gate-name\": \"entrance1\", \"car-id\": \"20161606041633-557\", \"car-type\": \"1\"}, {\"Timestamp\": \"2016-01-09 04:40:32\", \"gate-name\": \"entrance1\", \"car-id\": \"20164009044032-666\", \"car-type\": \"6\"}, {\"Timestamp\": \"2015-08-21 13:54:54\", \"gate-name\": \"entrance1\", \"car-id\": \"20155121125119-604\", \"car-type\": \"2\"}, {\"Timestamp\": \"2015-09-01 07:42:43\", \"gate-name\": \"entrance1\", \"car-id\": \"20155331025312-334\", \"car-type\": \"1\"}, {\"Timestamp\": \"2015-07-03 09:29:06\", \"gate-name\": \"entrance1\", \"car-id\": \"20155702065700-462\", \"car-type\": \"1\"}, {\"Timestamp\": \"2015-08-07 13:43:59\", \"gate-name\": \"entrance1\", \"car-id\": \"20155007125010-669\", \"car-type\": \"5\"}, {\"Timestamp\": \"2015-08-05 11:24:17\", \"gate-name\": \"entrance1\", \"car-id\": \"20153005103029-870\", \"car-type\": \"1\"}, {\"Timestamp\": \"2015-09-02 13:55:59\", \"gate-name\": \"entrance1\", \"car-id\": \"20152431122444-914\", \"car-type\": \"2\"}, {\"Timestamp\": \"2015-07-18 14:21:09\", \"gate-name\": \"entrance1\", \"car-id\": \"20154414024400-712\", \"car-type\": \"1\"}, {\"Timestamp\": \"2015-10-22 08:11:22\", \"gate-name\": \"entrance1\", \"car-id\": \"20150522070511-727\", \"car-type\": \"1\"}, {\"Timestamp\": \"2015-05-04 13:57:50\", \"gate-name\": \"entrance1\", \"car-id\": \"20155704015750-993\", \"car-type\": \"1\"}, {\"Timestamp\": \"2016-05-29 12:33:03\", \"gate-name\": \"entrance1\", \"car-id\": \"20162529112530-964\", \"car-type\": \"1\"}, {\"Timestamp\": \"2015-10-04 11:34:43\", \"gate-name\": \"entrance1\", \"car-id\": \"20153404113443-239\", \"car-type\": \"1\"}, {\"Timestamp\": \"2015-07-17 20:21:12\", \"gate-name\": \"entrance1\", \"car-id\": \"20152517072521-921\", \"car-type\": \"1\"}, {\"Timestamp\": \"2015-08-11 17:38:14\", \"gate-name\": \"entrance1\", \"car-id\": \"20151111051151-921\", \"car-type\": \"3\"}, {\"Timestamp\": \"2015-07-03 10:48:34\", \"gate-name\": \"entrance1\", \"car-id\": \"20154803104834-431\", \"car-type\": \"2\"}, {\"Timestamp\": \"2016-04-25 07:54:42\", \"gate-name\": \"entrance1\", \"car-id\": \"20165425075442-632\", \"car-type\": \"4\"}, {\"Timestamp\": \"2015-10-18 09:25:56\", \"gate-name\": \"entrance1\", \"car-id\": \"20155918085944-854\", \"car-type\": \"2\"}, {\"Timestamp\": \"2015-08-24 16:32:44\", \"gate-name\": \"entrance1\", \"car-id\": \"20153224043244-563\", \"car-type\": \"1\"}, {\"Timestamp\": \"2015-06-04 20:29:55\", \"gate-name\": \"entrance1\", \"car-id\": \"20150003040042-47\", \"car-type\": \"1\"}, {\"Timestamp\": \"2015-07-22 15:32:17\", \"gate-name\": \"entrance1\", \"car-id\": \"20153222033217-0\", \"car-type\": \"1\"}, {\"Timestamp\": \"2015-07-14 20:14:18\", \"gate-name\": \"entrance1\", \"car-id\": \"20151714071756-170\", \"car-type\": \"5\"}, {\"Timestamp\": \"2015-09-05 11:42:53\", \"gate-name\": \"entrance1\", \"car-id\": \"20154305104337-479\", \"car-type\": \"3\"}, {\"Timestamp\": \"2015-12-28 17:53:45\", \"gate-name\": \"entrance1\", \"car-id\": \"20154428044434-0\", \"car-type\": \"2\"}, {\"Timestamp\": \"2015-09-27 21:58:43\", \"gate-name\": \"entrance1\", \"car-id\": \"20155827095843-188\", \"car-type\": \"1\"}, {\"Timestamp\": \"2015-06-09 21:45:19\", \"gate-name\": \"entrance1\", \"car-id\": \"20152308052334-841\", \"car-type\": \"3\"}, {\"Timestamp\": \"2015-08-06 20:54:09\", \"gate-name\": \"entrance1\", \"car-id\": \"20150001070006-104\", \"car-type\": \"1\"}, {\"Timestamp\": \"2015-07-13 04:31:27\", \"gate-name\": \"entrance1\", \"car-id\": \"20153213033237-717\", \"car-type\": \"2\"}, {\"Timestamp\": \"2015-07-30 22:26:50\", \"gate-name\": \"entrance1\", \"car-id\": \"20150629090627-62\", \"car-type\": \"2\"}, {\"Timestamp\": \"2015-07-04 16:22:31\", \"gate-name\": \"entrance1\", \"car-id\": \"20152204042231-872\", \"car-type\": \"2\"}, {\"Timestamp\": \"2015-06-12 15:20:58\", \"gate-name\": \"entrance1\", \"car-id\": \"20152012032058-971\", \"car-type\": \"1\"}, {\"Timestamp\": \"2015-10-11 15:57:59\", \"gate-name\": \"entrance1\", \"car-id\": \"20152811032834-706\", \"car-type\": \"1\"}, {\"Timestamp\": \"2015-08-23 16:18:28\", \"gate-name\": \"entrance1\", \"car-id\": \"20155123035115-107\", \"car-type\": \"2\"}, {\"Timestamp\": \"2015-10-22 14:10:27\", \"gate-name\": \"entrance1\", \"car-id\": \"20151022021027-109\", \"car-type\": \"2\"}, {\"Timestamp\": \"2015-05-23 04:30:26\", \"gate-name\": \"entrance1\", \"car-id\": \"20155423035426-963\", \"car-type\": \"2\"}, {\"Timestamp\": \"2015-08-24 16:39:27\", \"gate-name\": \"entrance1\", \"car-id\": \"20153924043927-887\", \"car-type\": \"1\"}, {\"Timestamp\": \"2015-07-09 09:58:21\", \"gate-name\": \"entrance1\", \"car-id\": \"20155809095821-297\", \"car-type\": \"1\"}, {\"Timestamp\": \"2016-04-01 19:56:56\", \"gate-name\": \"entrance1\", \"car-id\": \"20165101065128-809\", \"car-type\": \"1\"}, {\"Timestamp\": \"2015-09-27 10:48:16\", \"gate-name\": \"entrance1\", \"car-id\": \"20151227101235-797\", \"car-type\": \"5\"}, {\"Timestamp\": \"2015-06-15 12:24:40\", \"gate-name\": \"entrance1\", \"car-id\": \"20152312032319-646\", \"car-type\": \"2\"}, {\"Timestamp\": \"2016-01-03 19:34:42\", \"gate-name\": \"entrance1\", \"car-id\": \"20163303063303-867\", \"car-type\": \"3\"}, {\"Timestamp\": \"2015-06-07 07:09:51\", \"gate-name\": \"entrance1\", \"car-id\": \"20150907070951-183\", \"car-type\": \"1\"}, {\"Timestamp\": \"2015-06-17 15:39:47\", \"gate-name\": \"entrance1\", \"car-id\": \"20153917033947-416\", \"car-type\": \"3\"}, {\"Timestamp\": \"2015-07-11 12:06:48\", \"gate-name\": \"entrance1\", \"car-id\": \"20152208032247-227\", \"car-type\": \"1\"}, {\"Timestamp\": \"2015-07-19 19:25:49\", \"gate-name\": \"entrance1\", \"car-id\": \"20155614075656-559\", \"car-type\": \"1\"}, {\"Timestamp\": \"2015-08-12 11:01:10\", \"gate-name\": \"entrance1\", \"car-id\": \"20150112110110-857\", \"car-type\": \"1\"}, {\"Timestamp\": \"2016-04-20 23:56:30\", \"gate-name\": \"entrance1\", \"car-id\": \"20165720105723-150\", \"car-type\": \"2\"}, {\"Timestamp\": \"2015-09-12 07:49:29\", \"gate-name\": \"entrance1\", \"car-id\": \"20154912074929-675\", \"car-type\": \"3\"}, {\"Timestamp\": \"2015-08-21 09:25:48\", \"gate-name\": \"entrance1\", \"car-id\": \"20153017023011-609\", \"car-type\": \"1\"}, {\"Timestamp\": \"2015-07-19 00:07:27\", \"gate-name\": \"entrance1\", \"car-id\": \"20150719120727-862\", \"car-type\": \"4\"}, {\"Timestamp\": \"2015-06-21 17:04:08\", \"gate-name\": \"entrance1\", \"car-id\": \"20155620035613-395\", \"car-type\": \"1\"}, {\"Timestamp\": \"2016-02-26 10:32:11\", \"gate-name\": \"entrance1\", \"car-id\": \"20160226100254-894\", \"car-type\": \"1\"}, {\"Timestamp\": \"2015-08-05 16:04:16\", \"gate-name\": \"entrance1\", \"car-id\": \"20155405025445-798\", \"car-type\": \"1\"}, {\"Timestamp\": \"2015-06-24 11:42:48\", \"gate-name\": \"entrance1\", \"car-id\": \"20154224114248-796\", \"car-type\": \"2\"}, {\"Timestamp\": \"2015-09-15 14:31:28\", \"gate-name\": \"entrance1\", \"car-id\": \"20153115023128-580\", \"car-type\": \"1\"}, {\"Timestamp\": \"2015-05-30 13:05:23\", \"gate-name\": \"entrance1\", \"car-id\": \"20153230123219-637\", \"car-type\": \"2\"}, {\"Timestamp\": \"2016-01-20 13:17:02\", \"gate-name\": \"entrance1\", \"car-id\": \"20164420124427-343\", \"car-type\": \"1\"}, {\"Timestamp\": \"2015-07-15 06:44:48\", \"gate-name\": \"entrance1\", \"car-id\": \"20154415064448-712\", \"car-type\": \"1\"}, {\"Timestamp\": \"2015-07-09 09:01:36\", \"gate-name\": \"entrance1\", \"car-id\": \"20150709070749-903\", \"car-type\": \"3\"}, {\"Timestamp\": \"2015-09-27 16:07:30\", \"gate-name\": \"entrance1\", \"car-id\": \"20153321073305-157\", \"car-type\": \"2\"}, {\"Timestamp\": \"2016-05-29 10:54:17\", \"gate-name\": \"entrance1\", \"car-id\": \"20165429105417-811\", \"car-type\": \"3\"}, {\"Timestamp\": \"2015-07-07 07:37:45\", \"gate-name\": \"entrance1\", \"car-id\": \"20153707073745-657\", \"car-type\": \"1\"}, {\"Timestamp\": \"2015-06-14 15:10:32\", \"gate-name\": \"entrance1\", \"car-id\": \"20150513030530-407\", \"car-type\": \"2\"}, {\"Timestamp\": \"2015-08-03 07:05:32\", \"gate-name\": \"entrance1\", \"car-id\": \"20150503070532-763\", \"car-type\": \"3\"}, {\"Timestamp\": \"2015-08-20 21:03:28\", \"gate-name\": \"entrance1\", \"car-id\": \"20152415082432-673\", \"car-type\": \"2\"}, {\"Timestamp\": \"2015-07-28 22:28:18\", \"gate-name\": \"entrance1\", \"car-id\": \"20150228100230-407\", \"car-type\": \"1\"}, {\"Timestamp\": \"2015-09-15 20:29:47\", \"gate-name\": \"entrance1\", \"car-id\": \"20152915082947-110\", \"car-type\": \"1\"}, {\"Timestamp\": \"2015-09-26 19:42:26\", \"gate-name\": \"entrance1\", \"car-id\": \"20153421053409-684\", \"car-type\": \"1\"}, {\"Timestamp\": \"2015-07-15 17:01:15\", \"gate-name\": \"entrance1\", \"car-id\": \"20150115050115-511\", \"car-type\": \"2\"}, {\"Timestamp\": \"2015-07-07 19:13:54\", \"gate-name\": \"entrance1\", \"car-id\": \"20151602121624-797\", \"car-type\": \"1\"}, {\"Timestamp\": \"2015-06-05 12:11:20\", \"gate-name\": \"entrance1\", \"car-id\": \"20151105121120-955\", \"car-type\": \"3\"}, {\"Timestamp\": \"2015-05-22 12:09:58\", \"gate-name\": \"entrance1\", \"car-id\": \"20154011114039-253\", \"car-type\": \"1\"}, {\"Timestamp\": \"2015-08-29 13:50:20\", \"gate-name\": \"entrance1\", \"car-id\": \"20155029015020-507\", \"car-type\": \"1\"}, {\"Timestamp\": \"2015-07-23 21:12:07\", \"gate-name\": \"entrance1\", \"car-id\": \"20151223091207-538\", \"car-type\": \"2\"}, {\"Timestamp\": \"2016-05-24 09:01:48\", \"gate-name\": \"entrance1\", \"car-id\": \"20160124090148-920\", \"car-type\": \"1\"}, {\"Timestamp\": \"2015-06-17 17:16:03\", \"gate-name\": \"entrance1\", \"car-id\": \"20151617051603-789\", \"car-type\": \"1\"}, {\"Timestamp\": \"2015-07-27 15:53:47\", \"gate-name\": \"entrance1\", \"car-id\": \"20155327035347-535\", \"car-type\": \"1\"}, {\"Timestamp\": \"2015-08-14 15:21:53\", \"gate-name\": \"entrance1\", \"car-id\": \"20155810125837-406\", \"car-type\": \"1\"}, {\"Timestamp\": \"2015-06-03 07:15:47\", \"gate-name\": \"entrance1\", \"car-id\": \"20151503071547-841\", \"car-type\": \"1\"}, {\"Timestamp\": \"2016-04-25 10:04:28\", \"gate-name\": \"entrance1\", \"car-id\": \"20163125093105-325\", \"car-type\": \"3\"}, {\"Timestamp\": \"2016-05-20 01:12:07\", \"gate-name\": \"entrance1\", \"car-id\": \"20161820121834-97\", \"car-type\": \"6\"}, {\"Timestamp\": \"2015-10-12 03:41:39\", \"gate-name\": \"entrance1\", \"car-id\": \"20154112034139-814\", \"car-type\": \"2\"}, {\"Timestamp\": \"2015-07-08 17:18:47\", \"gate-name\": \"entrance1\", \"car-id\": \"20151808051847-914\", \"car-type\": \"1\"}, {\"Timestamp\": \"2015-06-22 12:08:55\", \"gate-name\": \"entrance1\", \"car-id\": \"20154412124411-6\", \"car-type\": \"1\"}, {\"Timestamp\": \"2015-08-04 16:49:23\", \"gate-name\": \"entrance1\", \"car-id\": \"20151604041618-562\", \"car-type\": \"1\"}, {\"Timestamp\": \"2015-09-29 17:15:08\", \"gate-name\": \"entrance1\", \"car-id\": \"20151529051508-917\", \"car-type\": \"1\"}, {\"Timestamp\": \"2015-06-02 12:40:28\", \"gate-name\": \"entrance1\", \"car-id\": \"20153302113326-941\", \"car-type\": \"5\"}, {\"Timestamp\": \"2015-05-18 22:01:27\", \"gate-name\": \"entrance1\", \"car-id\": \"20150118100127-966\", \"car-type\": \"5\"}, {\"Timestamp\": \"2015-05-15 07:32:37\", \"gate-name\": \"entrance1\", \"car-id\": \"20153215073237-222\", \"car-type\": \"3\"}, {\"Timestamp\": \"2015-08-06 22:55:31\", \"gate-name\": \"entrance1\", \"car-id\": \"20152706102758-465\", \"car-type\": \"6\"}, {\"Timestamp\": \"2015-06-10 09:25:07\", \"gate-name\": \"entrance1\", \"car-id\": \"20150806040859-207\", \"car-type\": \"1\"}, {\"Timestamp\": \"2015-10-14 16:57:49\", \"gate-name\": \"entrance1\", \"car-id\": \"20152814042856-261\", \"car-type\": \"5\"}, {\"Timestamp\": \"2015-06-06 01:34:54\", \"gate-name\": \"entrance1\", \"car-id\": \"20153406123420-54\", \"car-type\": \"2\"}, {\"Timestamp\": \"2015-06-04 09:20:05\", \"gate-name\": \"entrance1\", \"car-id\": \"20152004092005-697\", \"car-type\": \"2\"}, {\"Timestamp\": \"2015-05-26 06:59:06\", \"gate-name\": \"entrance1\", \"car-id\": \"20155926065906-435\", \"car-type\": \"1\"}, {\"Timestamp\": \"2015-07-24 10:41:19\", \"gate-name\": \"entrance1\", \"car-id\": \"20154124104119-137\", \"car-type\": \"3\"}, {\"Timestamp\": \"2015-08-30 00:06:08\", \"gate-name\": \"entrance1\", \"car-id\": \"20153529113545-877\", \"car-type\": \"3\"}, {\"Timestamp\": \"2015-05-06 03:24:02\", \"gate-name\": \"entrance1\", \"car-id\": \"20152406032402-937\", \"car-type\": \"5\"}, {\"Timestamp\": \"2015-06-08 09:12:40\", \"gate-name\": \"entrance1\", \"car-id\": \"20154208084239-270\", \"car-type\": \"5\"}, {\"Timestamp\": \"2016-04-20 03:28:47\", \"gate-name\": \"entrance1\", \"car-id\": \"20162820032847-168\", \"car-type\": \"1\"}, {\"Timestamp\": \"2015-07-11 16:23:09\", \"gate-name\": \"entrance1\", \"car-id\": \"20152311042309-856\", \"car-type\": \"2\"}, {\"Timestamp\": \"2015-07-26 17:58:56\", \"gate-name\": \"entrance1\", \"car-id\": \"20155826055856-580\", \"car-type\": \"1\"}, {\"Timestamp\": \"2016-02-04 09:35:07\", \"gate-name\": \"entrance1\", \"car-id\": \"20163904083922-803\", \"car-type\": \"2\"}, {\"Timestamp\": \"2016-05-20 09:13:47\", \"gate-name\": \"entrance1\", \"car-id\": \"20161320081349-668\", \"car-type\": \"4\"}, {\"Timestamp\": \"2015-08-29 12:26:39\", \"gate-name\": \"entrance1\", \"car-id\": \"20152629122639-423\", \"car-type\": \"3\"}, {\"Timestamp\": \"2015-08-20 15:06:43\", \"gate-name\": \"entrance1\", \"car-id\": \"20150620030643-457\", \"car-type\": \"2\"}, {\"Timestamp\": \"2015-07-09 13:56:02\", \"gate-name\": \"entrance1\", \"car-id\": \"20155609015602-235\", \"car-type\": \"2\"}, {\"Timestamp\": \"2015-09-12 22:49:26\", \"gate-name\": \"entrance1\", \"car-id\": \"20151712101734-998\", \"car-type\": \"6\"}, {\"Timestamp\": \"2015-12-14 18:52:27\", \"gate-name\": \"entrance1\", \"car-id\": \"20155214065227-368\", \"car-type\": \"3\"}, {\"Timestamp\": \"2015-09-21 20:02:30\", \"gate-name\": \"entrance1\", \"car-id\": \"20150221080230-251\", \"car-type\": \"1\"}, {\"Timestamp\": \"2015-06-22 06:55:00\", \"gate-name\": \"entrance1\", \"car-id\": \"20150122060131-462\", \"car-type\": \"3\"}, {\"Timestamp\": \"2015-06-22 22:12:46\", \"gate-name\": \"entrance1\", \"car-id\": \"20150522090548-230\", \"car-type\": \"1\"}, {\"Timestamp\": \"2015-08-27 14:28:17\", \"gate-name\": \"entrance1\", \"car-id\": \"20152827022817-16\", \"car-type\": \"1\"}, {\"Timestamp\": \"2015-07-13 14:02:16\", \"gate-name\": \"entrance1\", \"car-id\": \"20150213020216-787\", \"car-type\": \"3\"}, {\"Timestamp\": \"2015-05-07 07:19:51\", \"gate-name\": \"entrance1\", \"car-id\": \"20151907071951-454\", \"car-type\": \"1\"}, {\"Timestamp\": \"2016-05-21 15:14:51\", \"gate-name\": \"entrance1\", \"car-id\": \"20161421031451-792\", \"car-type\": \"1\"}, {\"Timestamp\": \"2016-04-21 11:37:00\", \"gate-name\": \"entrance1\", \"car-id\": \"20163621103615-926\", \"car-type\": \"2\"}, {\"Timestamp\": \"2015-08-26 01:05:29\", \"gate-name\": \"entrance1\", \"car-id\": \"20150526010529-890\", \"car-type\": \"2\"}, {\"Timestamp\": \"2015-07-05 11:03:39\", \"gate-name\": \"entrance1\", \"car-id\": \"20154905084924-500\", \"car-type\": \"1\"}, {\"Timestamp\": \"2015-07-05 08:22:10\", \"gate-name\": \"entrance1\", \"car-id\": \"20151303071356-254\", \"car-type\": \"3\"}, {\"Timestamp\": \"2015-08-02 19:45:25\", \"gate-name\": \"entrance1\", \"car-id\": \"20154502074525-187\", \"car-type\": \"2\"}, {\"Timestamp\": \"2015-07-24 09:19:30\", \"gate-name\": \"entrance1\", \"car-id\": \"20151924091930-39\", \"car-type\": \"1\"}, {\"Timestamp\": \"2015-07-25 09:54:27\", \"gate-name\": \"entrance1\", \"car-id\": \"20155425095427-956\", \"car-type\": \"2\"}, {\"Timestamp\": \"2015-07-24 13:59:14\", \"gate-name\": \"entrance1\", \"car-id\": \"20155924015914-772\", \"car-type\": \"2\"}, {\"Timestamp\": \"2015-10-08 20:42:54\", \"gate-name\": \"entrance1\", \"car-id\": \"20153308073343-836\", \"car-type\": \"2\"}, {\"Timestamp\": \"2015-09-06 22:22:00\", \"gate-name\": \"entrance1\", \"car-id\": \"20152206102200-278\", \"car-type\": \"1\"}, {\"Timestamp\": \"2016-04-19 02:42:11\", \"gate-name\": \"entrance1\", \"car-id\": \"20164219024211-144\", \"car-type\": \"3\"}, {\"Timestamp\": \"2015-09-30 19:42:28\", \"gate-name\": \"entrance1\", \"car-id\": \"20151328011351-370\", \"car-type\": \"1\"}, {\"Timestamp\": \"2015-11-05 17:02:24\", \"gate-name\": \"entrance1\", \"car-id\": \"20150205050224-69\", \"car-type\": \"3\"}, {\"Timestamp\": \"2016-04-21 10:37:40\", \"gate-name\": \"entrance1\", \"car-id\": \"20163721103740-789\", \"car-type\": \"5\"}, {\"Timestamp\": \"2015-07-03 10:01:00\", \"gate-name\": \"entrance1\", \"car-id\": \"20150103100100-923\", \"car-type\": \"2\"}, {\"Timestamp\": \"2015-10-17 13:31:08\", \"gate-name\": \"entrance1\", \"car-id\": \"20153117013108-397\", \"car-type\": \"1\"}, {\"Timestamp\": \"2016-05-11 14:20:19\", \"gate-name\": \"entrance1\", \"car-id\": \"20161611011606-516\", \"car-type\": \"3\"}, {\"Timestamp\": \"2015-06-21 22:36:59\", \"gate-name\": \"entrance1\", \"car-id\": \"20153621093642-578\", \"car-type\": \"1\"}, {\"Timestamp\": \"2015-08-26 17:27:35\", \"gate-name\": \"entrance1\", \"car-id\": \"20152726042724-61\", \"car-type\": \"1\"}, {\"Timestamp\": \"2015-06-03 03:51:04\", \"gate-name\": \"entrance1\", \"car-id\": \"20155403025440-94\", \"car-type\": \"1\"}, {\"Timestamp\": \"2015-08-14 17:11:17\", \"gate-name\": \"entrance1\", \"car-id\": \"20153714043724-299\", \"car-type\": \"2\"}, {\"Timestamp\": \"2015-12-19 07:01:36\", \"gate-name\": \"entrance1\", \"car-id\": \"20150119070136-139\", \"car-type\": \"3\"}, {\"Timestamp\": \"2015-09-26 16:51:31\", \"gate-name\": \"entrance1\", \"car-id\": \"20155126045131-960\", \"car-type\": \"1\"}, {\"Timestamp\": \"2015-06-25 13:23:34\", \"gate-name\": \"entrance1\", \"car-id\": \"20152325012334-763\", \"car-type\": \"1\"}, {\"Timestamp\": \"2016-05-30 00:41:56\", \"gate-name\": \"entrance1\", \"car-id\": \"20164130124156-610\", \"car-type\": \"4\"}, {\"Timestamp\": \"2015-08-19 09:32:04\", \"gate-name\": \"entrance1\", \"car-id\": \"20153219093204-479\", \"car-type\": \"1\"}, {\"Timestamp\": \"2015-09-07 16:06:20\", \"gate-name\": \"entrance1\", \"car-id\": \"20150107030156-44\", \"car-type\": \"2\"}, {\"Timestamp\": \"2015-07-06 09:26:11\", \"gate-name\": \"entrance1\", \"car-id\": \"20152606092611-288\", \"car-type\": \"3\"}, {\"Timestamp\": \"2015-09-04 15:26:51\", \"gate-name\": \"entrance1\", \"car-id\": \"20151903101941-31\", \"car-type\": \"1\"}, {\"Timestamp\": \"2015-06-19 14:39:21\", \"gate-name\": \"entrance1\", \"car-id\": \"20153919023921-5\", \"car-type\": \"2\"}, {\"Timestamp\": \"2015-07-30 13:37:10\", \"gate-name\": \"entrance1\", \"car-id\": \"20153730013710-947\", \"car-type\": \"1\"}, {\"Timestamp\": \"2015-06-14 14:24:13\", \"gate-name\": \"entrance1\", \"car-id\": \"20151614011649-199\", \"car-type\": \"2\"}, {\"Timestamp\": \"2015-09-25 23:05:49\", \"gate-name\": \"entrance1\", \"car-id\": \"20153025103006-956\", \"car-type\": \"6\"}, {\"Timestamp\": \"2015-06-25 06:49:51\", \"gate-name\": \"entrance1\", \"car-id\": \"20154925064951-601\", \"car-type\": \"3\"}, {\"Timestamp\": \"2016-04-27 01:24:08\", \"gate-name\": \"entrance1\", \"car-id\": \"20162427012408-660\", \"car-type\": \"1\"}, {\"Timestamp\": \"2015-10-18 10:10:43\", \"gate-name\": \"entrance1\", \"car-id\": \"20151018101043-303\", \"car-type\": \"2\"}, {\"Timestamp\": \"2015-07-20 09:08:11\", \"gate-name\": \"entrance1\", \"car-id\": \"20150820090811-228\", \"car-type\": \"2\"}, {\"Timestamp\": \"2015-10-01 15:21:56\", \"gate-name\": \"entrance1\", \"car-id\": \"20152527072503-929\", \"car-type\": \"1\"}, {\"Timestamp\": \"2015-07-17 15:52:18\", \"gate-name\": \"entrance1\", \"car-id\": \"20150915010905-807\", \"car-type\": \"2\"}, {\"Timestamp\": \"2015-08-30 22:30:20\", \"gate-name\": \"entrance1\", \"car-id\": \"20153030103020-208\", \"car-type\": \"2\"}, {\"Timestamp\": \"2015-08-28 07:48:41\", \"gate-name\": \"entrance1\", \"car-id\": \"20154428064447-130\", \"car-type\": \"1\"}, {\"Timestamp\": \"2015-10-30 02:01:40\", \"gate-name\": \"entrance1\", \"car-id\": \"20150130020140-998\", \"car-type\": \"3\"}, {\"Timestamp\": \"2016-05-10 00:21:34\", \"gate-name\": \"entrance1\", \"car-id\": \"20165609115633-560\", \"car-type\": \"1\"}, {\"Timestamp\": \"2016-05-30 01:26:34\", \"gate-name\": \"entrance1\", \"car-id\": \"20162630012634-314\", \"car-type\": \"3\"}, {\"Timestamp\": \"2016-04-01 03:13:01\", \"gate-name\": \"entrance1\", \"car-id\": \"20164301024306-759\", \"car-type\": \"2\"}, {\"Timestamp\": \"2015-09-19 11:04:00\", \"gate-name\": \"entrance1\", \"car-id\": \"20150419110400-987\", \"car-type\": \"2\"}, {\"Timestamp\": \"2015-08-29 17:02:02\", \"gate-name\": \"entrance1\", \"car-id\": \"20155027025003-704\", \"car-type\": \"1\"}, {\"Timestamp\": \"2015-07-15 17:30:57\", \"gate-name\": \"entrance1\", \"car-id\": \"20155513115543-669\", \"car-type\": \"1\"}, {\"Timestamp\": \"2015-09-16 06:56:30\", \"gate-name\": \"entrance1\", \"car-id\": \"20155616065630-789\", \"car-type\": \"2\"}, {\"Timestamp\": \"2015-07-15 08:46:21\", \"gate-name\": \"entrance1\", \"car-id\": \"20154615084621-811\", \"car-type\": \"3\"}, {\"Timestamp\": \"2015-08-23 10:37:50\", \"gate-name\": \"entrance1\", \"car-id\": \"20153723103750-402\", \"car-type\": \"3\"}, {\"Timestamp\": \"2015-07-09 13:22:22\", \"gate-name\": \"entrance1\", \"car-id\": \"20152308062330-627\", \"car-type\": \"3\"}, {\"Timestamp\": \"2015-07-21 04:08:34\", \"gate-name\": \"entrance1\", \"car-id\": \"20150821040834-905\", \"car-type\": \"2\"}, {\"Timestamp\": \"2015-10-24 16:52:35\", \"gate-name\": \"entrance1\", \"car-id\": \"20152124042144-877\", \"car-type\": \"3\"}, {\"Timestamp\": \"2015-08-18 07:20:24\", \"gate-name\": \"entrance1\", \"car-id\": \"20152018072024-196\", \"car-type\": \"1\"}, {\"Timestamp\": \"2015-05-25 14:23:29\", \"gate-name\": \"entrance1\", \"car-id\": \"20151225121214-761\", \"car-type\": \"1\"}, {\"Timestamp\": \"2015-07-19 06:37:29\", \"gate-name\": \"entrance1\", \"car-id\": \"20153719063729-533\", \"car-type\": \"1\"}, {\"Timestamp\": \"2015-08-05 11:49:00\", \"gate-name\": \"entrance1\", \"car-id\": \"20154905114900-867\", \"car-type\": \"2\"}, {\"Timestamp\": \"2015-08-09 14:21:02\", \"gate-name\": \"entrance1\", \"car-id\": \"20152109022102-894\", \"car-type\": \"3\"}, {\"Timestamp\": \"2015-06-24 09:25:15\", \"gate-name\": \"entrance1\", \"car-id\": \"20154213024208-839\", \"car-type\": \"2\"}, {\"Timestamp\": \"2015-06-16 12:18:10\", \"gate-name\": \"entrance1\", \"car-id\": \"20152315122321-162\", \"car-type\": \"3\"}, {\"Timestamp\": \"2015-10-21 06:00:35\", \"gate-name\": \"entrance1\", \"car-id\": \"20152521052530-437\", \"car-type\": \"4\"}, {\"Timestamp\": \"2015-07-20 09:08:51\", \"gate-name\": \"entrance1\", \"car-id\": \"20150820090851-701\", \"car-type\": \"2\"}, {\"Timestamp\": \"2015-05-01 09:15:38\", \"gate-name\": \"entrance1\", \"car-id\": \"20152001072049-523\", \"car-type\": \"1\"}, {\"Timestamp\": \"2015-07-14 14:39:18\", \"gate-name\": \"entrance1\", \"car-id\": \"20153914023918-636\", \"car-type\": \"1\"}, {\"Timestamp\": \"2015-06-19 09:22:14\", \"gate-name\": \"entrance1\", \"car-id\": \"20152414072405-565\", \"car-type\": \"2\"}, {\"Timestamp\": \"2015-09-09 17:01:10\", \"gate-name\": \"entrance1\", \"car-id\": \"20150409040452-282\", \"car-type\": \"3\"}, {\"Timestamp\": \"2015-09-22 12:05:13\", \"gate-name\": \"entrance1\", \"car-id\": \"20150522120513-24\", \"car-type\": \"1\"}, {\"Timestamp\": \"2015-07-04 17:30:45\", \"gate-name\": \"entrance1\", \"car-id\": \"20153604043601-41\", \"car-type\": \"1\"}, {\"Timestamp\": \"2015-07-06 19:50:15\", \"gate-name\": \"entrance1\", \"car-id\": \"20150603090639-155\", \"car-type\": \"3\"}, {\"Timestamp\": \"2015-07-01 10:43:26\", \"gate-name\": \"entrance1\", \"car-id\": \"20151201101257-374\", \"car-type\": \"4\"}, {\"Timestamp\": \"2015-06-17 19:21:58\", \"gate-name\": \"entrance1\", \"car-id\": \"20152116052127-688\", \"car-type\": \"1\"}, {\"Timestamp\": \"2015-11-08 12:01:50\", \"gate-name\": \"entrance1\", \"car-id\": \"20150108120150-466\", \"car-type\": \"3\"}, {\"Timestamp\": \"2015-08-30 06:04:12\", \"gate-name\": \"entrance1\", \"car-id\": \"20150430060412-984\", \"car-type\": \"3\"}, {\"Timestamp\": \"2016-02-10 15:09:29\", \"gate-name\": \"entrance1\", \"car-id\": \"20160910030929-444\", \"car-type\": \"1\"}, {\"Timestamp\": \"2015-09-05 15:39:16\", \"gate-name\": \"entrance1\", \"car-id\": \"20153905033916-808\", \"car-type\": \"4\"}, {\"Timestamp\": \"2016-05-09 20:22:07\", \"gate-name\": \"entrance1\", \"car-id\": \"20163207073234-8\", \"car-type\": \"2\"}, {\"Timestamp\": \"2015-05-17 19:48:36\", \"gate-name\": \"entrance1\", \"car-id\": \"20152017072059-593\", \"car-type\": \"3\"}, {\"Timestamp\": \"2015-09-19 10:04:09\", \"gate-name\": \"entrance1\", \"car-id\": \"20153719093703-501\", \"car-type\": \"1\"}, {\"Timestamp\": \"2015-07-17 08:55:42\", \"gate-name\": \"entrance1\", \"car-id\": \"20155517085542-741\", \"car-type\": \"3\"}, {\"Timestamp\": \"2015-08-23 01:51:47\", \"gate-name\": \"entrance1\", \"car-id\": \"20155123015147-557\", \"car-type\": \"1\"}, {\"Timestamp\": \"2015-06-10 12:17:09\", \"gate-name\": \"entrance1\", \"car-id\": \"20151710121709-837\", \"car-type\": \"1\"}, {\"Timestamp\": \"2015-10-08 12:07:46\", \"gate-name\": \"entrance1\", \"car-id\": \"20150708120746-78\", \"car-type\": \"1\"}, {\"Timestamp\": \"2015-09-10 11:13:51\", \"gate-name\": \"entrance1\", \"car-id\": \"20150408090432-622\", \"car-type\": \"1\"}, {\"Timestamp\": \"2015-05-10 22:01:28\", \"gate-name\": \"entrance1\", \"car-id\": \"20150110100128-45\", \"car-type\": \"1\"}, {\"Timestamp\": \"2015-07-18 14:00:30\", \"gate-name\": \"entrance1\", \"car-id\": \"20150018020030-238\", \"car-type\": \"3\"}, {\"Timestamp\": \"2015-08-03 09:27:25\", \"gate-name\": \"entrance1\", \"car-id\": \"20152703092725-377\", \"car-type\": \"1\"}, {\"Timestamp\": \"2015-07-08 09:06:29\", \"gate-name\": \"entrance1\", \"car-id\": \"20150608090629-720\", \"car-type\": \"2\"}, {\"Timestamp\": \"2016-05-11 20:49:56\", \"gate-name\": \"entrance1\", \"car-id\": \"20160508120500-362\", \"car-type\": \"1\"}, {\"Timestamp\": \"2015-10-22 05:39:33\", \"gate-name\": \"entrance1\", \"car-id\": \"20153922053933-770\", \"car-type\": \"1\"}, {\"Timestamp\": \"2016-05-25 09:10:17\", \"gate-name\": \"entrance1\", \"car-id\": \"20161025091017-844\", \"car-type\": \"1\"}, {\"Timestamp\": \"2015-10-28 19:02:55\", \"gate-name\": \"entrance1\", \"car-id\": \"20150228070255-830\", \"car-type\": \"1\"}, {\"Timestamp\": \"2015-05-19 18:56:22\", \"gate-name\": \"entrance1\", \"car-id\": \"20155119055145-309\", \"car-type\": \"1\"}, {\"Timestamp\": \"2015-06-05 12:07:33\", \"gate-name\": \"entrance1\", \"car-id\": \"20155803095829-960\", \"car-type\": \"3\"}, {\"Timestamp\": \"2015-10-31 12:04:08\", \"gate-name\": \"entrance1\", \"car-id\": \"20150431110433-92\", \"car-type\": \"3\"}, {\"Timestamp\": \"2015-09-08 04:58:46\", \"gate-name\": \"entrance1\", \"car-id\": \"20155808045846-22\", \"car-type\": \"6\"}, {\"Timestamp\": \"2015-07-02 13:46:04\", \"gate-name\": \"entrance1\", \"car-id\": \"20154202114234-259\", \"car-type\": \"2\"}, {\"Timestamp\": \"2016-03-11 10:40:14\", \"gate-name\": \"entrance1\", \"car-id\": \"20161411101448-383\", \"car-type\": \"1\"}, {\"Timestamp\": \"2015-11-15 15:44:35\", \"gate-name\": \"entrance1\", \"car-id\": \"20150815030845-920\", \"car-type\": \"2\"}, {\"Timestamp\": \"2015-07-21 07:46:40\", \"gate-name\": \"entrance1\", \"car-id\": \"20154621074640-128\", \"car-type\": \"5\"}, {\"Timestamp\": \"2015-08-24 09:37:29\", \"gate-name\": \"entrance1\", \"car-id\": \"20150524090542-953\", \"car-type\": \"5\"}, {\"Timestamp\": \"2015-08-27 10:17:05\", \"gate-name\": \"entrance1\", \"car-id\": \"20151727101705-938\", \"car-type\": \"2\"}, {\"Timestamp\": \"2015-07-03 11:34:00\", \"gate-name\": \"entrance1\", \"car-id\": \"20151430011409-669\", \"car-type\": \"1\"}, {\"Timestamp\": \"2015-08-31 19:57:48\", \"gate-name\": \"entrance1\", \"car-id\": \"20152031072030-847\", \"car-type\": \"5\"}, {\"Timestamp\": \"2016-03-16 05:24:03\", \"gate-name\": \"entrance1\", \"car-id\": \"20164916044907-881\", \"car-type\": \"2\"}, {\"Timestamp\": \"2015-05-18 21:36:00\", \"gate-name\": \"entrance1\", \"car-id\": \"20151613111653-93\", \"car-type\": \"1\"}, {\"Timestamp\": \"2015-09-11 17:10:48\", \"gate-name\": \"entrance1\", \"car-id\": \"20151011051048-783\", \"car-type\": \"1\"}, {\"Timestamp\": \"2016-05-08 06:58:13\", \"gate-name\": \"entrance1\", \"car-id\": \"20162608062645-260\", \"car-type\": \"2\"}, {\"Timestamp\": \"2015-08-15 21:36:14\", \"gate-name\": \"entrance1\", \"car-id\": \"20153615093614-562\", \"car-type\": \"5\"}, {\"Timestamp\": \"2015-06-04 18:51:25\", \"gate-name\": \"entrance1\", \"car-id\": \"20152504062558-894\", \"car-type\": \"1\"}, {\"Timestamp\": \"2015-08-18 16:36:36\", \"gate-name\": \"entrance1\", \"car-id\": \"20152611022615-260\", \"car-type\": \"1\"}, {\"Timestamp\": \"2015-08-29 17:01:48\", \"gate-name\": \"entrance1\", \"car-id\": \"20154929034944-264\", \"car-type\": \"1\"}, {\"Timestamp\": \"2015-07-22 08:33:04\", \"gate-name\": \"entrance1\", \"car-id\": \"20153322083304-339\", \"car-type\": \"2\"}, {\"Timestamp\": \"2015-09-15 12:56:21\", \"gate-name\": \"entrance1\", \"car-id\": \"20155615125621-835\", \"car-type\": \"1\"}, {\"Timestamp\": \"2015-07-15 16:25:27\", \"gate-name\": \"entrance1\", \"car-id\": \"20152515042527-388\", \"car-type\": \"3\"}, {\"Timestamp\": \"2015-08-24 16:04:04\", \"gate-name\": \"entrance1\", \"car-id\": \"20153124033124-519\", \"car-type\": \"1\"}, {\"Timestamp\": \"2015-07-31 08:27:47\", \"gate-name\": \"entrance1\", \"car-id\": \"20152731082747-677\", \"car-type\": \"1\"}, {\"Timestamp\": \"2015-10-27 00:40:20\", \"gate-name\": \"entrance1\", \"car-id\": \"20154027124020-1\", \"car-type\": \"4\"}, {\"Timestamp\": \"2015-08-09 00:57:56\", \"gate-name\": \"entrance1\", \"car-id\": \"20155908115956-943\", \"car-type\": \"3\"}, {\"Timestamp\": \"2015-08-19 19:21:03\", \"gate-name\": \"entrance1\", \"car-id\": \"20152519062544-210\", \"car-type\": \"2\"}, {\"Timestamp\": \"2015-07-24 16:45:01\", \"gate-name\": \"entrance1\", \"car-id\": \"20154524044501-338\", \"car-type\": \"1\"}, {\"Timestamp\": \"2016-05-06 14:44:45\", \"gate-name\": \"entrance1\", \"car-id\": \"20164406024445-391\", \"car-type\": \"4\"}, {\"Timestamp\": \"2015-06-24 09:25:31\", \"gate-name\": \"entrance1\", \"car-id\": \"20155624075638-235\", \"car-type\": \"1\"}, {\"Timestamp\": \"2015-08-30 10:02:47\", \"gate-name\": \"entrance1\", \"car-id\": \"20150230100247-423\", \"car-type\": \"3\"}, {\"Timestamp\": \"2015-08-10 09:18:23\", \"gate-name\": \"entrance1\", \"car-id\": \"20151810091823-659\", \"car-type\": \"3\"}, {\"Timestamp\": \"2015-08-10 14:27:15\", \"gate-name\": \"entrance1\", \"car-id\": \"20152710022715-872\", \"car-type\": \"1\"}, {\"Timestamp\": \"2015-10-30 09:12:09\", \"gate-name\": \"entrance1\", \"car-id\": \"20155130055115-290\", \"car-type\": \"1\"}, {\"Timestamp\": \"2016-05-01 20:55:08\", \"gate-name\": \"entrance1\", \"car-id\": \"20165501085508-595\", \"car-type\": \"1\"}, {\"Timestamp\": \"2015-10-26 15:09:58\", \"gate-name\": \"entrance1\", \"car-id\": \"20150926030958-715\", \"car-type\": \"6\"}, {\"Timestamp\": \"2015-06-14 06:24:11\", \"gate-name\": \"entrance1\", \"car-id\": \"20152414062411-153\", \"car-type\": \"3\"}, {\"Timestamp\": \"2015-08-28 16:42:34\", \"gate-name\": \"entrance1\", \"car-id\": \"20154228044234-553\", \"car-type\": \"2\"}, {\"Timestamp\": \"2015-09-21 20:33:53\", \"gate-name\": \"entrance1\", \"car-id\": \"20154220054254-247\", \"car-type\": \"3\"}, {\"Timestamp\": \"2015-07-14 23:02:21\", \"gate-name\": \"entrance1\", \"car-id\": \"20150214110221-163\", \"car-type\": \"3\"}, {\"Timestamp\": \"2016-02-06 07:16:23\", \"gate-name\": \"entrance1\", \"car-id\": \"20165006065046-760\", \"car-type\": \"3\"}, {\"Timestamp\": \"2015-06-25 02:45:48\", \"gate-name\": \"entrance1\", \"car-id\": \"20154525024548-230\", \"car-type\": \"1\"}, {\"Timestamp\": \"2015-08-17 15:30:36\", \"gate-name\": \"entrance1\", \"car-id\": \"20153017033036-185\", \"car-type\": \"1\"}, {\"Timestamp\": \"2015-07-13 13:36:47\", \"gate-name\": \"entrance1\", \"car-id\": \"20153613013647-912\", \"car-type\": \"3\"}, {\"Timestamp\": \"2015-05-30 04:12:47\", \"gate-name\": \"entrance1\", \"car-id\": \"20151330031343-393\", \"car-type\": \"4\"}, {\"Timestamp\": \"2016-02-11 17:17:00\", \"gate-name\": \"entrance1\", \"car-id\": \"20161711051700-744\", \"car-type\": \"1\"}, {\"Timestamp\": \"2015-08-02 12:40:37\", \"gate-name\": \"entrance1\", \"car-id\": \"20154002124037-486\", \"car-type\": \"1\"}, {\"Timestamp\": \"2016-05-22 09:24:53\", \"gate-name\": \"entrance1\", \"car-id\": \"20162422092453-525\", \"car-type\": \"5\"}, {\"Timestamp\": \"2016-05-01 12:27:21\", \"gate-name\": \"entrance1\", \"car-id\": \"20162701122721-624\", \"car-type\": \"3\"}, {\"Timestamp\": \"2015-08-13 13:32:49\", \"gate-name\": \"entrance1\", \"car-id\": \"20153213013249-868\", \"car-type\": \"1\"}, {\"Timestamp\": \"2015-10-04 16:07:45\", \"gate-name\": \"entrance1\", \"car-id\": \"20150404030444-324\", \"car-type\": \"6\"}, {\"Timestamp\": \"2016-05-04 09:34:44\", \"gate-name\": \"entrance1\", \"car-id\": \"20163904083945-275\", \"car-type\": \"3\"}, {\"Timestamp\": \"2015-10-03 15:43:28\", \"gate-name\": \"entrance1\", \"car-id\": \"20154303034328-896\", \"car-type\": \"1\"}, {\"Timestamp\": \"2015-08-18 00:07:27\", \"gate-name\": \"entrance1\", \"car-id\": \"20150718120727-606\", \"car-type\": \"2\"}, {\"Timestamp\": \"2016-04-24 15:06:14\", \"gate-name\": \"entrance1\", \"car-id\": \"20160624030614-417\", \"car-type\": \"2\"}, {\"Timestamp\": \"2015-07-24 05:32:50\", \"gate-name\": \"entrance1\", \"car-id\": \"20155724045740-714\", \"car-type\": \"2\"}, {\"Timestamp\": \"2016-03-14 09:13:14\", \"gate-name\": \"entrance1\", \"car-id\": \"20161714081709-960\", \"car-type\": \"1\"}, {\"Timestamp\": \"2015-08-31 14:53:58\", \"gate-name\": \"entrance1\", \"car-id\": \"20155331025358-360\", \"car-type\": \"2\"}, {\"Timestamp\": \"2015-07-12 01:13:54\", \"gate-name\": \"entrance1\", \"car-id\": \"20152012122004-665\", \"car-type\": \"1\"}, {\"Timestamp\": \"2015-10-04 05:13:24\", \"gate-name\": \"entrance1\", \"car-id\": \"20154304044322-62\", \"car-type\": \"2\"}, {\"Timestamp\": \"2016-04-02 05:25:07\", \"gate-name\": \"entrance1\", \"car-id\": \"20165602045606-384\", \"car-type\": \"5\"}, {\"Timestamp\": \"2016-05-08 04:56:26\", \"gate-name\": \"entrance1\", \"car-id\": \"20165608045626-493\", \"car-type\": \"3\"}, {\"Timestamp\": \"2015-07-20 06:21:37\", \"gate-name\": \"entrance1\", \"car-id\": \"20152120062137-97\", \"car-type\": \"1\"}, {\"Timestamp\": \"2015-07-17 08:02:54\", \"gate-name\": \"entrance1\", \"car-id\": \"20150217080254-664\", \"car-type\": \"2\"}, {\"Timestamp\": \"2015-06-09 07:27:02\", \"gate-name\": \"entrance1\", \"car-id\": \"20152709072702-390\", \"car-type\": \"2\"}, {\"Timestamp\": \"2015-07-09 07:18:02\", \"gate-name\": \"entrance1\", \"car-id\": \"20155708025745-242\", \"car-type\": \"1\"}, {\"Timestamp\": \"2015-07-07 10:27:16\", \"gate-name\": \"entrance1\", \"car-id\": \"20152707102716-827\", \"car-type\": \"3\"}, {\"Timestamp\": \"2015-10-11 05:41:07\", \"gate-name\": \"entrance1\", \"car-id\": \"20154111054107-471\", \"car-type\": \"1\"}, {\"Timestamp\": \"2015-10-30 00:23:54\", \"gate-name\": \"entrance1\", \"car-id\": \"20155429115417-36\", \"car-type\": \"1\"}, {\"Timestamp\": \"2015-05-04 20:02:27\", \"gate-name\": \"entrance1\", \"car-id\": \"20150204080227-619\", \"car-type\": \"4\"}, {\"Timestamp\": \"2015-05-10 02:32:03\", \"gate-name\": \"entrance1\", \"car-id\": \"20153210023203-833\", \"car-type\": \"4\"}, {\"Timestamp\": \"2015-05-24 08:03:16\", \"gate-name\": \"entrance1\", \"car-id\": \"20150324080316-784\", \"car-type\": \"1\"}, {\"Timestamp\": \"2015-07-02 14:19:26\", \"gate-name\": \"entrance1\", \"car-id\": \"20155002015015-368\", \"car-type\": \"1\"}, {\"Timestamp\": \"2015-12-25 15:02:41\", \"gate-name\": \"entrance1\", \"car-id\": \"20150225030241-455\", \"car-type\": \"3\"}, {\"Timestamp\": \"2015-08-23 14:03:31\", \"gate-name\": \"entrance1\", \"car-id\": \"20150323020331-139\", \"car-type\": \"1\"}, {\"Timestamp\": \"2015-09-14 09:53:41\", \"gate-name\": \"entrance1\", \"car-id\": \"20155314095341-355\", \"car-type\": \"2\"}, {\"Timestamp\": \"2015-05-01 02:52:12\", \"gate-name\": \"entrance1\", \"car-id\": \"20155201025212-846\", \"car-type\": \"4\"}, {\"Timestamp\": \"2015-07-18 13:31:59\", \"gate-name\": \"entrance1\", \"car-id\": \"20153118013159-469\", \"car-type\": \"4\"}, {\"Timestamp\": \"2016-05-20 13:36:23\", \"gate-name\": \"entrance1\", \"car-id\": \"20163620013623-473\", \"car-type\": \"1\"}, {\"Timestamp\": \"2016-05-11 03:49:25\", \"gate-name\": \"entrance1\", \"car-id\": \"20164911034925-82\", \"car-type\": \"1\"}, {\"Timestamp\": \"2016-04-20 10:26:15\", \"gate-name\": \"entrance1\", \"car-id\": \"20162620102615-355\", \"car-type\": \"2\"}, {\"Timestamp\": \"2015-07-25 15:21:41\", \"gate-name\": \"entrance1\", \"car-id\": \"20153525013548-615\", \"car-type\": \"1\"}, {\"Timestamp\": \"2015-09-26 18:58:50\", \"gate-name\": \"entrance1\", \"car-id\": \"20155826065850-927\", \"car-type\": \"5\"}, {\"Timestamp\": \"2016-05-11 19:40:23\", \"gate-name\": \"entrance1\", \"car-id\": \"20161507081502-674\", \"car-type\": \"2\"}, {\"Timestamp\": \"2016-05-21 09:37:56\", \"gate-name\": \"entrance1\", \"car-id\": \"20163721093756-14\", \"car-type\": \"1\"}, {\"Timestamp\": \"2016-04-02 03:24:17\", \"gate-name\": \"entrance1\", \"car-id\": \"20161202021246-213\", \"car-type\": \"4\"}, {\"Timestamp\": \"2015-06-27 01:10:28\", \"gate-name\": \"entrance1\", \"car-id\": \"20151527121503-789\", \"car-type\": \"3\"}, {\"Timestamp\": \"2015-07-02 13:59:10\", \"gate-name\": \"entrance1\", \"car-id\": \"20155902015910-865\", \"car-type\": \"1\"}, {\"Timestamp\": \"2015-11-30 18:07:00\", \"gate-name\": \"entrance1\", \"car-id\": \"20150730060700-354\", \"car-type\": \"4\"}, {\"Timestamp\": \"2015-06-03 08:29:20\", \"gate-name\": \"entrance1\", \"car-id\": \"20151703081750-866\", \"car-type\": \"1\"}, {\"Timestamp\": \"2015-05-08 07:23:48\", \"gate-name\": \"entrance1\", \"car-id\": \"20155208065252-159\", \"car-type\": \"2\"}, {\"Timestamp\": \"2016-04-18 19:10:42\", \"gate-name\": \"entrance1\", \"car-id\": \"20161018071042-48\", \"car-type\": \"2\"}, {\"Timestamp\": \"2015-06-13 16:51:29\", \"gate-name\": \"entrance1\", \"car-id\": \"20155113045129-570\", \"car-type\": \"2\"}, {\"Timestamp\": \"2015-08-01 08:04:35\", \"gate-name\": \"entrance1\", \"car-id\": \"20150401080435-346\", \"car-type\": \"1\"}, {\"Timestamp\": \"2015-08-03 20:32:17\", \"gate-name\": \"entrance1\", \"car-id\": \"20153203083217-568\", \"car-type\": \"5\"}, {\"Timestamp\": \"2016-05-18 06:14:06\", \"gate-name\": \"entrance1\", \"car-id\": \"20161418061406-876\", \"car-type\": \"2\"}, {\"Timestamp\": \"2015-05-15 09:10:52\", \"gate-name\": \"entrance1\", \"car-id\": \"20154015084042-590\", \"car-type\": \"4\"}, {\"Timestamp\": \"2015-09-11 08:39:55\", \"gate-name\": \"entrance1\", \"car-id\": \"20153911083955-135\", \"car-type\": \"1\"}, {\"Timestamp\": \"2015-07-29 06:40:02\", \"gate-name\": \"entrance1\", \"car-id\": \"20154029064002-238\", \"car-type\": \"1\"}, {\"Timestamp\": \"2015-07-25 15:29:29\", \"gate-name\": \"entrance1\", \"car-id\": \"20152925032929-380\", \"car-type\": \"1\"}, {\"Timestamp\": \"2015-09-28 11:19:50\", \"gate-name\": \"entrance1\", \"car-id\": \"20151928111950-380\", \"car-type\": \"2\"}, {\"Timestamp\": \"2015-07-01 10:38:36\", \"gate-name\": \"entrance1\", \"car-id\": \"20152730062720-372\", \"car-type\": \"1\"}, {\"Timestamp\": \"2015-06-13 14:56:22\", \"gate-name\": \"entrance1\", \"car-id\": \"20154013024057-318\", \"car-type\": \"3\"}, {\"Timestamp\": \"2015-07-19 06:37:54\", \"gate-name\": \"entrance1\", \"car-id\": \"20153719063754-548\", \"car-type\": \"1\"}, {\"Timestamp\": \"2015-08-23 05:49:16\", \"gate-name\": \"entrance1\", \"car-id\": \"20154923054916-14\", \"car-type\": \"1\"}, {\"Timestamp\": \"2015-09-05 06:12:40\", \"gate-name\": \"entrance1\", \"car-id\": \"20151205061240-99\", \"car-type\": \"1\"}, {\"Timestamp\": \"2015-09-24 14:24:30\", \"gate-name\": \"entrance1\", \"car-id\": \"20152224012238-864\", \"car-type\": \"3\"}, {\"Timestamp\": \"2016-05-05 16:50:15\", \"gate-name\": \"entrance1\", \"car-id\": \"20165005045015-818\", \"car-type\": \"1\"}, {\"Timestamp\": \"2015-09-02 06:41:41\", \"gate-name\": \"entrance1\", \"car-id\": \"20154102064141-457\", \"car-type\": \"5\"}, {\"Timestamp\": \"2015-07-05 13:49:06\", \"gate-name\": \"entrance1\", \"car-id\": \"20154905014906-97\", \"car-type\": \"1\"}, {\"Timestamp\": \"2015-08-02 07:33:55\", \"gate-name\": \"entrance1\", \"car-id\": \"20152030112009-638\", \"car-type\": \"2\"}, {\"Timestamp\": \"2016-05-19 11:02:33\", \"gate-name\": \"entrance1\", \"car-id\": \"20160219110233-416\", \"car-type\": \"1\"}, {\"Timestamp\": \"2015-06-01 13:49:25\", \"gate-name\": \"entrance1\", \"car-id\": \"20151301011335-837\", \"car-type\": \"1\"}, {\"Timestamp\": \"2016-05-25 01:49:26\", \"gate-name\": \"entrance1\", \"car-id\": \"20161625011604-176\", \"car-type\": \"1\"}, {\"Timestamp\": \"2015-09-14 12:00:10\", \"gate-name\": \"entrance1\", \"car-id\": \"20150014120010-306\", \"car-type\": \"1\"}, {\"Timestamp\": \"2015-05-14 12:44:12\", \"gate-name\": \"entrance1\", \"car-id\": \"20154414124412-684\", \"car-type\": \"1\"}, {\"Timestamp\": \"2015-07-08 09:53:18\", \"gate-name\": \"entrance1\", \"car-id\": \"20154806014828-598\", \"car-type\": \"1\"}, {\"Timestamp\": \"2015-08-02 14:18:16\", \"gate-name\": \"entrance1\", \"car-id\": \"20151802021816-771\", \"car-type\": \"1\"}, {\"Timestamp\": \"2015-06-08 03:21:34\", \"gate-name\": \"entrance1\", \"car-id\": \"20155508025530-810\", \"car-type\": \"2\"}, {\"Timestamp\": \"2015-06-28 12:26:33\", \"gate-name\": \"entrance1\", \"car-id\": \"20152628122633-435\", \"car-type\": \"4\"}, {\"Timestamp\": \"2015-09-22 18:25:35\", \"gate-name\": \"entrance1\", \"car-id\": \"20153022053043-921\", \"car-type\": \"2\"}, {\"Timestamp\": \"2015-06-22 15:11:45\", \"gate-name\": \"entrance1\", \"car-id\": \"20151122031145-815\", \"car-type\": \"2\"}, {\"Timestamp\": \"2016-04-18 12:01:34\", \"gate-name\": \"entrance1\", \"car-id\": \"20160218110253-636\", \"car-type\": \"3\"}, {\"Timestamp\": \"2015-07-02 18:04:52\", \"gate-name\": \"entrance1\", \"car-id\": \"20154430034436-879\", \"car-type\": \"2\"}, {\"Timestamp\": \"2015-09-28 15:54:39\", \"gate-name\": \"entrance1\", \"car-id\": \"20152028032002-960\", \"car-type\": \"1\"}, {\"Timestamp\": \"2016-01-16 18:37:58\", \"gate-name\": \"entrance1\", \"car-id\": \"20163716063758-519\", \"car-type\": \"6\"}, {\"Timestamp\": \"2016-05-05 20:41:32\", \"gate-name\": \"entrance1\", \"car-id\": \"20164105084132-679\", \"car-type\": \"4\"}, {\"Timestamp\": \"2015-08-26 09:41:17\", \"gate-name\": \"entrance1\", \"car-id\": \"20150826090800-994\", \"car-type\": \"3\"}, {\"Timestamp\": \"2015-06-21 12:33:57\", \"gate-name\": \"entrance1\", \"car-id\": \"20154117024144-496\", \"car-type\": \"3\"}, {\"Timestamp\": \"2015-07-13 05:21:26\", \"gate-name\": \"entrance1\", \"car-id\": \"20154813044807-217\", \"car-type\": \"1\"}, {\"Timestamp\": \"2016-05-20 09:04:15\", \"gate-name\": \"entrance1\", \"car-id\": \"20160420090415-760\", \"car-type\": \"5\"}, {\"Timestamp\": \"2016-03-21 22:51:15\", \"gate-name\": \"entrance1\", \"car-id\": \"20165321095316-520\", \"car-type\": \"4\"}, {\"Timestamp\": \"2015-07-28 00:16:37\", \"gate-name\": \"entrance1\", \"car-id\": \"20152027112018-673\", \"car-type\": \"1\"}, {\"Timestamp\": \"2016-05-20 04:50:43\", \"gate-name\": \"entrance1\", \"car-id\": \"20165020045043-704\", \"car-type\": \"6\"}, {\"Timestamp\": \"2015-08-06 09:26:44\", \"gate-name\": \"entrance1\", \"car-id\": \"20155606085623-342\", \"car-type\": \"4\"}, {\"Timestamp\": \"2015-07-22 11:07:30\", \"gate-name\": \"entrance1\", \"car-id\": \"20150722110730-245\", \"car-type\": \"1\"}, {\"Timestamp\": \"2015-05-12 01:21:30\", \"gate-name\": \"entrance1\", \"car-id\": \"20151612121615-643\", \"car-type\": \"1\"}, {\"Timestamp\": \"2015-06-24 09:01:20\", \"gate-name\": \"entrance1\", \"car-id\": \"20150124090120-626\", \"car-type\": \"3\"}, {\"Timestamp\": \"2015-07-24 10:42:17\", \"gate-name\": \"entrance1\", \"car-id\": \"20154524094502-813\", \"car-type\": \"1\"}, {\"Timestamp\": \"2015-06-17 10:13:48\", \"gate-name\": \"entrance1\", \"car-id\": \"20151317101348-437\", \"car-type\": \"1\"}, {\"Timestamp\": \"2015-10-17 15:48:41\", \"gate-name\": \"entrance1\", \"car-id\": \"20154817034841-275\", \"car-type\": \"3\"}, {\"Timestamp\": \"2015-09-22 22:23:40\", \"gate-name\": \"entrance1\", \"car-id\": \"20152922092955-345\", \"car-type\": \"1\"}, {\"Timestamp\": \"2016-01-18 11:10:27\", \"gate-name\": \"entrance1\", \"car-id\": \"20161018111027-541\", \"car-type\": \"3\"}, {\"Timestamp\": \"2015-06-10 21:27:37\", \"gate-name\": \"entrance1\", \"car-id\": \"20152710092737-981\", \"car-type\": \"1\"}, {\"Timestamp\": \"2015-09-14 13:22:05\", \"gate-name\": \"entrance1\", \"car-id\": \"20152913042937-614\", \"car-type\": \"1\"}, {\"Timestamp\": \"2015-07-16 11:11:05\", \"gate-name\": \"entrance1\", \"car-id\": \"20150516100504-950\", \"car-type\": \"1\"}, {\"Timestamp\": \"2015-09-09 07:48:29\", \"gate-name\": \"entrance1\", \"car-id\": \"20154309064344-904\", \"car-type\": \"6\"}, {\"Timestamp\": \"2015-05-13 02:06:19\", \"gate-name\": \"entrance1\", \"car-id\": \"20151113011105-825\", \"car-type\": \"4\"}, {\"Timestamp\": \"2015-10-10 09:57:26\", \"gate-name\": \"entrance1\", \"car-id\": \"20155710095726-284\", \"car-type\": \"1\"}, {\"Timestamp\": \"2015-06-11 06:23:24\", \"gate-name\": \"entrance1\", \"car-id\": \"20152311062324-562\", \"car-type\": \"1\"}, {\"Timestamp\": \"2015-09-02 16:44:12\", \"gate-name\": \"entrance1\", \"car-id\": \"20154402044412-377\", \"car-type\": \"1\"}, {\"Timestamp\": \"2015-07-01 08:36:32\", \"gate-name\": \"entrance1\", \"car-id\": \"20153601083632-281\", \"car-type\": \"3\"}, {\"Timestamp\": \"2015-12-29 23:22:13\", \"gate-name\": \"entrance1\", \"car-id\": \"20152529102538-290\", \"car-type\": \"2\"}, {\"Timestamp\": \"2015-06-15 20:58:32\", \"gate-name\": \"entrance1\", \"car-id\": \"20155815085832-570\", \"car-type\": \"1\"}, {\"Timestamp\": \"2015-07-17 10:23:24\", \"gate-name\": \"entrance1\", \"car-id\": \"20154317094332-218\", \"car-type\": \"1\"}, {\"Timestamp\": \"2016-04-04 12:58:35\", \"gate-name\": \"entrance1\", \"car-id\": \"20165804115856-149\", \"car-type\": \"2\"}, {\"Timestamp\": \"2015-05-07 10:29:43\", \"gate-name\": \"entrance1\", \"car-id\": \"20152907102943-591\", \"car-type\": \"2\"}, {\"Timestamp\": \"2015-09-12 10:29:59\", \"gate-name\": \"entrance1\", \"car-id\": \"20153412083458-7\", \"car-type\": \"1\"}, {\"Timestamp\": \"2015-07-24 16:14:47\", \"gate-name\": \"entrance1\", \"car-id\": \"20155121015153-897\", \"car-type\": \"1\"}, {\"Timestamp\": \"2015-09-21 14:15:11\", \"gate-name\": \"entrance1\", \"car-id\": \"20151521021511-720\", \"car-type\": \"2\"}, {\"Timestamp\": \"2015-07-25 06:27:59\", \"gate-name\": \"entrance1\", \"car-id\": \"20151724081751-413\", \"car-type\": \"2\"}, {\"Timestamp\": \"2016-05-22 13:39:34\", \"gate-name\": \"entrance1\", \"car-id\": \"20165709095721-17\", \"car-type\": \"1\"}, {\"Timestamp\": \"2015-06-21 08:13:32\", \"gate-name\": \"entrance1\", \"car-id\": \"20155617035626-878\", \"car-type\": \"3\"}, {\"Timestamp\": \"2016-03-09 15:22:22\", \"gate-name\": \"entrance1\", \"car-id\": \"20164109014140-897\", \"car-type\": \"3\"}, {\"Timestamp\": \"2016-02-26 14:43:57\", \"gate-name\": \"entrance1\", \"car-id\": \"20161326021314-134\", \"car-type\": \"5\"}, {\"Timestamp\": \"2015-08-21 08:50:40\", \"gate-name\": \"entrance1\", \"car-id\": \"20151621081633-895\", \"car-type\": \"3\"}, {\"Timestamp\": \"2015-07-31 13:37:52\", \"gate-name\": \"entrance1\", \"car-id\": \"20152931122925-72\", \"car-type\": \"3\"}, {\"Timestamp\": \"2015-06-28 12:52:10\", \"gate-name\": \"entrance1\", \"car-id\": \"20155228125210-442\", \"car-type\": \"3\"}, {\"Timestamp\": \"2016-04-03 03:35:01\", \"gate-name\": \"entrance1\", \"car-id\": \"20163503033501-618\", \"car-type\": \"2\"}, {\"Timestamp\": \"2015-09-09 09:58:23\", \"gate-name\": \"entrance1\", \"car-id\": \"20155809095823-865\", \"car-type\": \"1\"}, {\"Timestamp\": \"2015-06-30 16:06:54\", \"gate-name\": \"entrance1\", \"car-id\": \"20150630040654-44\", \"car-type\": \"1\"}, {\"Timestamp\": \"2015-08-27 03:41:16\", \"gate-name\": \"entrance1\", \"car-id\": \"20153127023131-896\", \"car-type\": \"1\"}, {\"Timestamp\": \"2015-08-28 06:00:03\", \"gate-name\": \"entrance1\", \"car-id\": \"20150028060003-741\", \"car-type\": \"1\"}, {\"Timestamp\": \"2015-12-02 13:07:15\", \"gate-name\": \"entrance1\", \"car-id\": \"20153402113442-545\", \"car-type\": \"1\"}, {\"Timestamp\": \"2016-04-28 14:33:21\", \"gate-name\": \"entrance1\", \"car-id\": \"20160328020350-898\", \"car-type\": \"4\"}, {\"Timestamp\": \"2015-08-17 20:00:15\", \"gate-name\": \"entrance1\", \"car-id\": \"20155417065452-683\", \"car-type\": \"5\"}, {\"Timestamp\": \"2015-07-10 09:58:59\", \"gate-name\": \"entrance1\", \"car-id\": \"20155810095859-88\", \"car-type\": \"1\"}, {\"Timestamp\": \"2015-09-05 10:17:54\", \"gate-name\": \"entrance1\", \"car-id\": \"20155505085532-624\", \"car-type\": \"1\"}, {\"Timestamp\": \"2015-07-10 07:57:50\", \"gate-name\": \"entrance1\", \"car-id\": \"20155710075750-214\", \"car-type\": \"1\"}, {\"Timestamp\": \"2015-07-31 12:59:44\", \"gate-name\": \"entrance1\", \"car-id\": \"20155831115839-729\", \"car-type\": \"1\"}, {\"Timestamp\": \"2015-07-03 12:37:40\", \"gate-name\": \"entrance1\", \"car-id\": \"20153703123740-719\", \"car-type\": \"3\"}, {\"Timestamp\": \"2015-10-29 05:30:05\", \"gate-name\": \"entrance1\", \"car-id\": \"20153529043524-518\", \"car-type\": \"3\"}, {\"Timestamp\": \"2015-05-30 00:22:19\", \"gate-name\": \"entrance1\", \"car-id\": \"20152230122219-12\", \"car-type\": \"4\"}, {\"Timestamp\": \"2016-05-09 21:09:04\", \"gate-name\": \"entrance1\", \"car-id\": \"20160909090904-648\", \"car-type\": \"6\"}, {\"Timestamp\": \"2015-10-20 11:45:15\", \"gate-name\": \"entrance1\", \"car-id\": \"20151420111417-72\", \"car-type\": \"5\"}, {\"Timestamp\": \"2015-07-01 19:49:55\", \"gate-name\": \"entrance1\", \"car-id\": \"20155301065327-174\", \"car-type\": \"3\"}, {\"Timestamp\": \"2015-07-20 04:49:17\", \"gate-name\": \"entrance1\", \"car-id\": \"20154920044917-452\", \"car-type\": \"1\"}, {\"Timestamp\": \"2015-07-11 17:10:22\", \"gate-name\": \"entrance1\", \"car-id\": \"20150611040639-499\", \"car-type\": \"1\"}, {\"Timestamp\": \"2015-07-22 06:49:38\", \"gate-name\": \"entrance1\", \"car-id\": \"20154922064938-103\", \"car-type\": \"2\"}, {\"Timestamp\": \"2015-06-27 08:14:43\", \"gate-name\": \"entrance1\", \"car-id\": \"20154527064558-128\", \"car-type\": \"3\"}, {\"Timestamp\": \"2015-08-06 15:15:20\", \"gate-name\": \"entrance1\", \"car-id\": \"20151506031520-642\", \"car-type\": \"2\"}, {\"Timestamp\": \"2016-05-03 10:34:49\", \"gate-name\": \"entrance1\", \"car-id\": \"20163403103449-145\", \"car-type\": \"3\"}, {\"Timestamp\": \"2015-08-24 18:01:44\", \"gate-name\": \"entrance1\", \"car-id\": \"20155524035528-732\", \"car-type\": \"1\"}, {\"Timestamp\": \"2015-09-17 12:42:53\", \"gate-name\": \"entrance1\", \"car-id\": \"20154217124253-245\", \"car-type\": \"2\"}, {\"Timestamp\": \"2015-09-04 19:17:27\", \"gate-name\": \"entrance1\", \"car-id\": \"20151004061023-570\", \"car-type\": \"5\"}, {\"Timestamp\": \"2015-09-16 00:17:04\", \"gate-name\": \"entrance1\", \"car-id\": \"20150615110657-243\", \"car-type\": \"1\"}, {\"Timestamp\": \"2015-07-01 07:45:09\", \"gate-name\": \"entrance1\", \"car-id\": \"20154501074509-749\", \"car-type\": \"1\"}, {\"Timestamp\": \"2016-05-25 06:45:02\", \"gate-name\": \"entrance1\", \"car-id\": \"20164525064502-750\", \"car-type\": \"1\"}, {\"Timestamp\": \"2016-02-08 09:52:24\", \"gate-name\": \"entrance1\", \"car-id\": \"20162208092257-926\", \"car-type\": \"4\"}, {\"Timestamp\": \"2015-08-23 10:26:56\", \"gate-name\": \"entrance1\", \"car-id\": \"20151923091943-286\", \"car-type\": \"5\"}, {\"Timestamp\": \"2015-09-10 18:50:45\", \"gate-name\": \"entrance1\", \"car-id\": \"20152110062154-762\", \"car-type\": \"4\"}, {\"Timestamp\": \"2015-08-26 16:27:51\", \"gate-name\": \"entrance1\", \"car-id\": \"20152726042751-686\", \"car-type\": \"1\"}, {\"Timestamp\": \"2015-06-29 05:18:13\", \"gate-name\": \"entrance1\", \"car-id\": \"20151829051813-994\", \"car-type\": \"1\"}, {\"Timestamp\": \"2015-08-31 22:05:22\", \"gate-name\": \"entrance1\", \"car-id\": \"20153625063605-688\", \"car-type\": \"1\"}, {\"Timestamp\": \"2015-07-22 19:29:55\", \"gate-name\": \"entrance1\", \"car-id\": \"20152922072955-435\", \"car-type\": \"1\"}, {\"Timestamp\": \"2016-04-03 02:20:48\", \"gate-name\": \"entrance1\", \"car-id\": \"20162003022048-217\", \"car-type\": \"4\"}, {\"Timestamp\": \"2015-06-17 19:19:15\", \"gate-name\": \"entrance1\", \"car-id\": \"20150305030327-986\", \"car-type\": \"1\"}, {\"Timestamp\": \"2015-05-28 07:41:55\", \"gate-name\": \"entrance1\", \"car-id\": \"20154128074155-209\", \"car-type\": \"2\"}, {\"Timestamp\": \"2015-08-20 16:49:49\", \"gate-name\": \"entrance1\", \"car-id\": \"20154920044949-964\", \"car-type\": \"2\"}, {\"Timestamp\": \"2015-07-12 08:49:16\", \"gate-name\": \"entrance1\", \"car-id\": \"20154912084916-322\", \"car-type\": \"1\"}, {\"Timestamp\": \"2015-08-28 13:48:49\", \"gate-name\": \"entrance1\", \"car-id\": \"20154828014849-145\", \"car-type\": \"1\"}]}};\n",
       "var selector = \"#19924782-935b-4bfe-b2e9-7270045f2fa4\";\n",
       "var type = \"vega-lite\";\n",
       "\n",
       "var output_area = this;\n",
       "require(['nbextensions/jupyter-vega/index'], function(vega) {\n",
       "  vega.render(selector, spec, type, output_area);\n",
       "}, function (err) {\n",
       "  if (err.requireType !== 'scripterror') {\n",
       "    throw(err);\n",
       "  }\n",
       "});\n"
      ]
     },
     "metadata": {
      "jupyter-vega": "#19924782-935b-4bfe-b2e9-7270045f2fa4"
     },
     "output_type": "display_data"
    },
    {
     "data": {
      "image/png": "[encoded data removed]"
     },
     "metadata": {
      "jupyter-vega": "#19924782-935b-4bfe-b2e9-7270045f2fa4"
     },
     "output_type": "display_data"
    }
   ],
   "source": [
    "chart = alt.Chart(df[df[\"gate-name\"] == \"entrance1\"].sample(1000)).mark_bar().encode(x='car-type:N',y='count(*):Q')\n",
    "chart"
   ]
  },
  {
   "cell_type": "code",
   "execution_count": 25,
   "metadata": {
    "extensions": {
     "jupyter_dashboards": {
      "version": 1,
      "views": {
       "grid_default": {
        "col": 5,
        "height": 10,
        "hidden": false,
        "row": 0,
        "width": 4
       },
       "report_default": {}
      }
     }
    }
   },
   "outputs": [
    {
     "data": {
      "image/png": "[encoded data removed]",
      "text/plain": [
       "<matplotlib.figure.Figure at 0x10da2c9b0>"
      ]
     },
     "metadata": {},
     "output_type": "display_data"
    }
   ],
   "source": [
    "plt.hist(pd.to_numeric(df[df[\"gate-name\"] == \"entrance1\"][\"car-type\"]),bins=np.arange(6)+0.5,color=np.array((31, 119, 180))/255)\n",
    "plt.xlabel(\"Car type\")\n",
    "plt.ylabel(\"Count\")\n",
    "_ = plt.title(\"Count of car types at entrance1\")"
   ]
  },
  {
   "cell_type": "code",
   "execution_count": null,
   "metadata": {
    "collapsed": true,
    "extensions": {
     "jupyter_dashboards": {
      "version": 1,
      "views": {
       "grid_default": {
        "hidden": true
       },
       "report_default": {}
      }
     }
    }
   },
   "outputs": [],
   "source": [
    "df.loc[df[\"car-type\"] == '2P',[\"car-type\"]] = '7'"
   ]
  },
  {
   "cell_type": "code",
   "execution_count": null,
   "metadata": {
    "collapsed": true,
    "extensions": {
     "jupyter_dashboards": {
      "version": 1,
      "views": {
       "grid_default": {
        "col": 0,
        "height": 44,
        "hidden": true,
        "row": 0,
        "width": 4
       },
       "report_default": {}
      }
     }
    },
    "scrolled": false
   },
   "outputs": [],
   "source": [
    "for gate in df[\"gate-name\"].unique():\n",
    "    if \"entrance\" in gate:\n",
    "        plt.figure()\n",
    "        plt.hist(pd.to_numeric(df[df[\"gate-name\"] == gate][\"car-type\"]),bins=np.arange(7)+0.5,color=np.array((31, 119, 180))/255)\n",
    "        plt.xlabel(\"Car type\")\n",
    "        plt.ylabel(\"Count\")\n",
    "        plt.title(\"Count of car types at {}\".format(gate))"
   ]
  },
  {
   "cell_type": "code",
   "execution_count": null,
   "metadata": {
    "collapsed": true,
    "extensions": {
     "jupyter_dashboards": {
      "version": 1,
      "views": {
       "grid_default": {
        "col": 4,
        "height": 11,
        "hidden": true,
        "row": 10,
        "width": 4
       },
       "report_default": {}
      }
     }
    }
   },
   "outputs": [],
   "source": [
    "plt.plot(pd.to_datetime(df[\"Timestamp\"]),np.ones(df.shape[0]))"
   ]
  },
  {
   "cell_type": "code",
   "execution_count": null,
   "metadata": {
    "collapsed": true,
    "extensions": {
     "jupyter_dashboards": {
      "version": 1,
      "views": {
       "grid_default": {
        "hidden": true
       },
       "report_default": {}
      }
     }
    }
   },
   "outputs": [],
   "source": [
    "g = df.groupby(pd.DatetimeIndex(pd.to_datetime(df[\"Timestamp\"])).date)"
   ]
  },
  {
   "cell_type": "code",
   "execution_count": null,
   "metadata": {
    "collapsed": true,
    "extensions": {
     "jupyter_dashboards": {
      "version": 1,
      "views": {
       "grid_default": {
        "col": 8,
        "height": 9,
        "hidden": true,
        "row": 10,
        "width": 4
       },
       "report_default": {}
      }
     }
    }
   },
   "outputs": [],
   "source": [
    "plt.figure(figsize=(10,5))\n",
    "plt.plot(g.count().index,g.count().Timestamp)"
   ]
  },
  {
   "cell_type": "code",
   "execution_count": null,
   "metadata": {
    "collapsed": true,
    "extensions": {
     "jupyter_dashboards": {
      "version": 1,
      "views": {
       "grid_default": {
        "hidden": true
       },
       "report_default": {}
      }
     }
    }
   },
   "outputs": [],
   "source": [
    "g = df.groupby([pd.DatetimeIndex(pd.to_datetime(df[\"Timestamp\"])).date,\"car-type\"])"
   ]
  },
  {
   "cell_type": "code",
   "execution_count": null,
   "metadata": {
    "collapsed": true,
    "extensions": {
     "jupyter_dashboards": {
      "version": 1,
      "views": {
       "grid_default": {
        "col": 4,
        "height": 59,
        "hidden": true,
        "row": 10,
        "width": 4
       },
       "report_default": {}
      }
     }
    }
   },
   "outputs": [],
   "source": [
    "g.count()"
   ]
  },
  {
   "cell_type": "code",
   "execution_count": null,
   "metadata": {
    "collapsed": true,
    "extensions": {
     "jupyter_dashboards": {
      "version": 1,
      "views": {
       "grid_default": {
        "col": 8,
        "height": 37,
        "hidden": true,
        "row": 10,
        "width": 4
       },
       "report_default": {}
      }
     }
    }
   },
   "outputs": [],
   "source": [
    "g.count().Timestamp"
   ]
  },
  {
   "cell_type": "code",
   "execution_count": null,
   "metadata": {
    "collapsed": true,
    "extensions": {
     "jupyter_dashboards": {
      "version": 1,
      "views": {
       "grid_default": {
        "hidden": true
       },
       "report_default": {}
      }
     }
    }
   },
   "outputs": [],
   "source": [
    "df[\"Timestamp\"] = pd.to_datetime(df[\"Timestamp\"])"
   ]
  },
  {
   "cell_type": "code",
   "execution_count": null,
   "metadata": {
    "collapsed": true,
    "extensions": {
     "jupyter_dashboards": {
      "version": 1,
      "views": {
       "grid_default": {
        "hidden": true
       },
       "report_default": {}
      }
     }
    }
   },
   "outputs": [],
   "source": []
  },
  {
   "cell_type": "code",
   "execution_count": null,
   "metadata": {
    "collapsed": true,
    "extensions": {
     "jupyter_dashboards": {
      "version": 1,
      "views": {
       "grid_default": {
        "col": 0,
        "height": 8,
        "hidden": true,
        "row": 0,
        "width": 4
       },
       "report_default": {}
      }
     }
    }
   },
   "outputs": [],
   "source": [
    "plt.figure(figsize=(15,8))\n",
    "for car_type in df[\"car-type\"].unique():\n",
    "    g = df[df[\"car-type\"] == car_type].groupby(pd.DatetimeIndex(df[df[\"car-type\"] == car_type][\"Timestamp\"]).date)\n",
    "    plt.plot(g.count().index,g.count().Timestamp,label=car_type)\n",
    "plt.legend()"
   ]
  },
  {
   "cell_type": "code",
   "execution_count": null,
   "metadata": {
    "collapsed": true,
    "extensions": {
     "jupyter_dashboards": {
      "version": 1,
      "views": {
       "grid_default": {
        "col": 0,
        "height": 8,
        "hidden": true,
        "row": 8,
        "width": 4
       },
       "report_default": {}
      }
     }
    }
   },
   "outputs": [],
   "source": [
    "plt.figure(figsize=(15,8))\n",
    "for car_type in df[\"car-type\"].unique():\n",
    "    g = df[df[\"car-type\"] == car_type].groupby(pd.DatetimeIndex(df[df[\"car-type\"] == car_type][\"Timestamp\"]).hour)\n",
    "    plt.plot(g.count().index,g.count().Timestamp,label=car_type)\n",
    "plt.legend()"
   ]
  },
  {
   "cell_type": "code",
   "execution_count": null,
   "metadata": {
    "collapsed": true,
    "extensions": {
     "jupyter_dashboards": {
      "version": 1,
      "views": {
       "grid_default": {
        "col": 5,
        "height": 8,
        "hidden": false,
        "row": 10,
        "width": 4
       },
       "report_default": {}
      }
     }
    }
   },
   "outputs": [],
   "source": [
    "plt.figure(figsize=(10,5))\n",
    "tableau20 = [(31, 119, 180), (174, 199, 232), (255, 127, 14), (255, 187, 120),  \n",
    "             (44, 160, 44), (152, 223, 138), (214, 39, 40), (255, 152, 150),  \n",
    "             (148, 103, 189), (197, 176, 213), (140, 86, 75), (196, 156, 148),  \n",
    "             (227, 119, 194), (247, 182, 210), (127, 127, 127), (199, 199, 199),  \n",
    "             (188, 189, 34), (219, 219, 141), (23, 190, 207), (158, 218, 229)]\n",
    "prev = np.zeros(7)\n",
    "for i,car_type in enumerate(df[\"car-type\"].unique()):\n",
    "    g = df[df[\"car-type\"] == car_type].groupby(pd.DatetimeIndex(df[df[\"car-type\"] == car_type][\"Timestamp\"]).dayofweek)\n",
    "    plt.bar(g.count().index,g.count().Timestamp,label=car_type,bottom=prev,color=np.array(tableau20[i])/255)\n",
    "    # plt.bar(g.count().index,g.count().Timestamp,label=car_type,color=np.array(tableau20[i])/255)\n",
    "    prev += g.count().Timestamp.values\n",
    "plt.bar(np.arange(8),np.zeros(8))\n",
    "plt.legend(loc=\"best\")\n",
    "plt.ylabel(\"Count\")\n",
    "plt.xlabel(\"Day of Week\")\n",
    "plt.title(\"Visits by day of each car type\")"
   ]
  },
  {
   "cell_type": "code",
   "execution_count": null,
   "metadata": {
    "collapsed": true,
    "extensions": {
     "jupyter_dashboards": {
      "version": 1,
      "views": {
       "grid_default": {
        "hidden": true
       },
       "report_default": {}
      }
     }
    }
   },
   "outputs": [],
   "source": [
    "plt.bar?"
   ]
  },
  {
   "cell_type": "code",
   "execution_count": null,
   "metadata": {
    "collapsed": true,
    "extensions": {
     "jupyter_dashboards": {
      "version": 1,
      "views": {
       "grid_default": {
        "col": 0,
        "height": 18,
        "hidden": false,
        "row": 0,
        "width": 5
       },
       "report_default": {}
      }
     }
    }
   },
   "outputs": [],
   "source": [
    "plt.figure(figsize=(15,8))\n",
    "for i,car_type in enumerate(df[\"car-type\"].unique()):\n",
    "    g = df[df[\"car-type\"] == car_type].groupby(pd.DatetimeIndex(df[df[\"car-type\"] == car_type][\"Timestamp\"]).date)\n",
    "    plt.plot(g.count().index,g.count().Timestamp,label=car_type,color=np.array(tableau20[i])/255,linewidth=1.5)\n",
    "plt.legend()"
   ]
  },
  {
   "cell_type": "code",
   "execution_count": null,
   "metadata": {
    "collapsed": true,
    "extensions": {
     "jupyter_dashboards": {
      "version": 1,
      "views": {
       "grid_default": {
        "hidden": true
       },
       "report_default": {}
      }
     }
    }
   },
   "outputs": [],
   "source": []
  }
 ],
 "metadata": {
  "extensions": {
   "jupyter_dashboards": {
    "activeView": "grid_default",
    "version": 1,
    "views": {
     "grid_default": {
      "cellMargin": 10,
      "defaultCellHeight": 20,
      "maxColumns": 12,
      "name": "grid",
      "type": "grid"
     },
     "report_default": {
      "name": "report",
      "type": "report"
     }
    }
   }
  },
  "kernelspec": {
   "display_name": "Python 3",
   "language": "python",
   "name": "python3"
  },
  "language_info": {
   "codemirror_mode": {
    "name": "ipython",
    "version": 3
   },
   "file_extension": ".py",
   "mimetype": "text/x-python",
   "name": "python",
   "nbconvert_exporter": "python",
   "pygments_lexer": "ipython3",
   "version": "3.5.1"
  }
 },
 "nbformat": 4,
 "nbformat_minor": 1
}

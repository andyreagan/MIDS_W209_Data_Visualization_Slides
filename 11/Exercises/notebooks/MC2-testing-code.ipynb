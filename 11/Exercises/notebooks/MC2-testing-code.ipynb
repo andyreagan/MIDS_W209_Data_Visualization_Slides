{
 "cells": [
  {
   "cell_type": "markdown",
   "metadata": {},
   "source": [
    "Just stashing the code here"
   ]
  },
  {
   "cell_type": "code",
   "execution_count": null,
   "metadata": {
    "collapsed": true
   },
   "outputs": [],
   "source": [
    "i = 0\n",
    "for name,group in g:\n",
    "#     print(name)\n",
    "#     print(group)\n",
    "#     print(\"--\")\n",
    "#     print(group.T)\n",
    "#     # y = group.pivot(index=\"Chemical\")\n",
    "    y = group.set_index(\"Chemical\")\n",
    "#     print(\"--\")\n",
    "#     print(y)\n",
    "#     print(\"--\")\n",
    "#     print(y.columns)\n",
    "#     print(\"--\")\n",
    "#     print(y.T)\n",
    "#     print(\"--\")\n",
    "#     print(y.T.columns)\n",
    "    z = y.T\n",
    "#     print(\"--\")\n",
    "#     print(z[['AGOC-3A','Appluimonia','Chlorodinine','Methylosmolene']])\n",
    "#     print(\"--\")\n",
    "#     print(z[['AGOC-3A','Methylosmolene']].iloc[2,:])\n",
    "    print(z[['AGOC-3A','Appluimonia','Chlorodinine','Methylosmolene']].iloc[2,:].values)\n",
    "#     x = group.T\n",
    "#     x.columns = group['Chemical']\n",
    "#     print(\"--\")\n",
    "#     print(x)\n",
    "#     print(\"--\")\n",
    "#     print(x.columns)\n",
    "#     # print(x['Methylosmolene', 'Chlorodinine', 'AGOC-3A', 'Appluimonia'])\n",
    "    i+=1\n",
    "    if i>10:\n",
    "        break"
   ]
  }
 ],
 "metadata": {
  "kernelspec": {
   "display_name": "Python 3",
   "language": "python",
   "name": "python3"
  },
  "language_info": {
   "codemirror_mode": {
    "name": "ipython",
    "version": 3
   },
   "file_extension": ".py",
   "mimetype": "text/x-python",
   "name": "python",
   "nbconvert_exporter": "python",
   "pygments_lexer": "ipython3",
   "version": "3.5.1"
  }
 },
 "nbformat": 4,
 "nbformat_minor": 2
}

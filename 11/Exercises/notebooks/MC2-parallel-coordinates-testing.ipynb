{
 "cells": [
  {
   "cell_type": "code",
   "execution_count": null,
   "metadata": {
    "collapsed": true
   },
   "outputs": [],
   "source": [
    "import matplotlib.pyplot as plt\n",
    "%matplotlib inline\n",
    "import pandas as pd\n",
    "import numpy as np\n",
    "import itertools"
   ]
  },
  {
   "cell_type": "code",
   "execution_count": null,
   "metadata": {
    "collapsed": true
   },
   "outputs": [],
   "source": [
    "df = pd.read_excel(\"Sensor-Data.xlsx\")"
   ]
  },
  {
   "cell_type": "code",
   "execution_count": null,
   "metadata": {},
   "outputs": [],
   "source": [
    "df.head()"
   ]
  },
  {
   "cell_type": "code",
   "execution_count": null,
   "metadata": {},
   "outputs": [],
   "source": [
    "df.columns"
   ]
  },
  {
   "cell_type": "code",
   "execution_count": null,
   "metadata": {},
   "outputs": [],
   "source": [
    "df[\"Chemical\"].unique()"
   ]
  },
  {
   "cell_type": "code",
   "execution_count": null,
   "metadata": {
    "collapsed": true
   },
   "outputs": [],
   "source": [
    "g = df.groupby([\"Monitor\",\"Date Time \"])"
   ]
  },
  {
   "cell_type": "code",
   "execution_count": null,
   "metadata": {},
   "outputs": [],
   "source": [
    "bad_observations = []\n",
    "all_observations = []\n",
    "for name,group in g:\n",
    "    y = group.set_index(\"Chemical\")\n",
    "    z = y.T\n",
    "    all_chems = True\n",
    "    for chem in ['AGOC-3A','Appluimonia','Chlorodinine','Methylosmolene']:\n",
    "        if chem not in z.columns:\n",
    "            bad_observations.append(z)\n",
    "            all_chems = False\n",
    "    if all_chems:\n",
    "        all_observations.append(z[['AGOC-3A','Appluimonia','Chlorodinine','Methylosmolene']].iloc[2,:].values)"
   ]
  },
  {
   "cell_type": "code",
   "execution_count": null,
   "metadata": {},
   "outputs": [],
   "source": [
    "print(len(bad_observations))"
   ]
  },
  {
   "cell_type": "code",
   "execution_count": null,
   "metadata": {},
   "outputs": [],
   "source": [
    "print(len(all_observations))"
   ]
  },
  {
   "cell_type": "code",
   "execution_count": null,
   "metadata": {
    "collapsed": true
   },
   "outputs": [],
   "source": [
    "all_obs = np.array(all_observations)"
   ]
  },
  {
   "cell_type": "code",
   "execution_count": null,
   "metadata": {},
   "outputs": [],
   "source": [
    "all_obs.shape"
   ]
  },
  {
   "cell_type": "code",
   "execution_count": null,
   "metadata": {},
   "outputs": [],
   "source": [
    "nvar = 4\n",
    "chems = ['AGOC-3A','Appluimonia','Chlorodinine','Methylosmolene']\n",
    "plt.figure(figsize=(10,10))\n",
    "for i,j in itertools.product(range(4),range(4)):\n",
    "    ax = plt.subplot(nvar,nvar,i+j*nvar+1)\n",
    "    ax.scatter(all_obs[:,i],all_obs[:,j])\n",
    "    # ax.set_xlim([0,.5])\n",
    "    # ax.set_ylim([0,.5])\n",
    "    if i==0:\n",
    "        ax.set_ylabel(chems[j])\n",
    "    if j==3:\n",
    "        ax.set_xlabel(chems[i])"
   ]
  },
  {
   "cell_type": "code",
   "execution_count": null,
   "metadata": {},
   "outputs": [],
   "source": [
    "chems = ['AGOC-3A','Appluimonia','Chlorodinine','Methylosmolene']\n",
    "plt.figure(figsize=(15,8))\n",
    "for i in range(100): #range(all_obs.shape[0]):\n",
    "    plt.plot(range(len(chems)),all_obs[i,:])\n"
   ]
  },
  {
   "cell_type": "code",
   "execution_count": null,
   "metadata": {},
   "outputs": [],
   "source": [
    "p = plt.plot(range(len(chems)),all_obs.T,color='k',alpha=.3)"
   ]
  },
  {
   "cell_type": "code",
   "execution_count": null,
   "metadata": {},
   "outputs": [],
   "source": [
    "p = plt.plot(range(len(chems)),(all_obs.T/(all_obs.T.max(axis=0)))[:,:100])"
   ]
  },
  {
   "cell_type": "code",
   "execution_count": null,
   "metadata": {},
   "outputs": [],
   "source": [
    "p = plt.plot(range(len(chems)),(all_obs.T/(all_obs.T.max(axis=0))),color='k',alpha=.01)"
   ]
  },
  {
   "cell_type": "code",
   "execution_count": null,
   "metadata": {
    "collapsed": true
   },
   "outputs": [],
   "source": []
  }
 ],
 "metadata": {
  "kernelspec": {
   "display_name": "Python 3",
   "language": "python",
   "name": "python3"
  },
  "language_info": {
   "codemirror_mode": {
    "name": "ipython",
    "version": 3
   },
   "file_extension": ".py",
   "mimetype": "text/x-python",
   "name": "python",
   "nbconvert_exporter": "python",
   "pygments_lexer": "ipython3",
   "version": "3.5.1"
  }
 },
 "nbformat": 4,
 "nbformat_minor": 2
}
